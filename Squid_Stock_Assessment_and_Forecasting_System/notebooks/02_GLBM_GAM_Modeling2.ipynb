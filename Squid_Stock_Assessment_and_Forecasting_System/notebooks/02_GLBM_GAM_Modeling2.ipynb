{
 "cells": [
  {
   "cell_type": "code",
   "execution_count": 209,
   "id": "5382ebf3",
   "metadata": {},
   "outputs": [],
   "source": [
    "# Squid CPUE Modeling: GLBM & GAM Evaluation\n",
    "\n",
    "# --------------------------------------------------\n",
    "# This notebook trains and evaluates two models:\n",
    "# - GLBM (Generalized Linear Biomass Model)\n",
    "# - GAM (Generalized Additive Model)\n",
    "# using monthly CPUE, with full diagnostics.\n",
    "\n",
    "import pandas as pd\n",
    "import matplotlib.pyplot as plt\n",
    "from matplotlib.ticker import MaxNLocator\n",
    "import numpy as np\n",
    "import os\n",
    "from patsy import bs\n",
    "import plotly.graph_objects as go\n",
    "import plotly.express as px\n",
    "from pygam import LinearGAM, s, f\n",
    "from pygam import GammaGAM, s, f\n",
    "from sklearn.metrics import mean_squared_error, mean_absolute_error\n",
    "from sklearn.preprocessing import OneHotEncoder\n",
    "from sklearn.model_selection import cross_val_score, KFold\n",
    "from sklearn.metrics import make_scorer, mean_squared_error\n",
    "from sklearn.preprocessing import StandardScaler\n",
    "import statsmodels.formula.api as smf\n",
    "import statsmodels.api as sm\n"
   ]
  },
  {
   "cell_type": "code",
   "execution_count": 61,
   "id": "bb7a6b2e",
   "metadata": {},
   "outputs": [
    {
     "data": {
      "text/html": [
       "<div>\n",
       "<style scoped>\n",
       "    .dataframe tbody tr th:only-of-type {\n",
       "        vertical-align: middle;\n",
       "    }\n",
       "\n",
       "    .dataframe tbody tr th {\n",
       "        vertical-align: top;\n",
       "    }\n",
       "\n",
       "    .dataframe thead th {\n",
       "        text-align: right;\n",
       "    }\n",
       "</style>\n",
       "<table border=\"1\" class=\"dataframe\">\n",
       "  <thead>\n",
       "    <tr style=\"text-align: right;\">\n",
       "      <th></th>\n",
       "      <th>POINTID</th>\n",
       "      <th>CTNO</th>\n",
       "      <th>Year</th>\n",
       "      <th>Month</th>\n",
       "      <th>Day</th>\n",
       "      <th>Lon</th>\n",
       "      <th>Lat</th>\n",
       "      <th>WaterTemp</th>\n",
       "      <th>SSH</th>\n",
       "      <th>Depth</th>\n",
       "      <th>Chlor_a_mg_m3</th>\n",
       "      <th>SqCatch_Kg</th>\n",
       "      <th>CPUE</th>\n",
       "    </tr>\n",
       "  </thead>\n",
       "  <tbody>\n",
       "    <tr>\n",
       "      <th>0</th>\n",
       "      <td>1</td>\n",
       "      <td>10001</td>\n",
       "      <td>2000</td>\n",
       "      <td>1</td>\n",
       "      <td>1</td>\n",
       "      <td>-60.758637</td>\n",
       "      <td>-46.297230</td>\n",
       "      <td>14.0</td>\n",
       "      <td>0.0201</td>\n",
       "      <td>80.0</td>\n",
       "      <td>0.903811</td>\n",
       "      <td>13922.858090</td>\n",
       "      <td>13922.858090</td>\n",
       "    </tr>\n",
       "    <tr>\n",
       "      <th>1</th>\n",
       "      <td>2</td>\n",
       "      <td>10001</td>\n",
       "      <td>2000</td>\n",
       "      <td>1</td>\n",
       "      <td>2</td>\n",
       "      <td>-60.589546</td>\n",
       "      <td>-46.319036</td>\n",
       "      <td>13.9</td>\n",
       "      <td>0.0201</td>\n",
       "      <td>85.0</td>\n",
       "      <td>0.903811</td>\n",
       "      <td>4284.774801</td>\n",
       "      <td>4284.774801</td>\n",
       "    </tr>\n",
       "    <tr>\n",
       "      <th>2</th>\n",
       "      <td>3</td>\n",
       "      <td>10001</td>\n",
       "      <td>2000</td>\n",
       "      <td>1</td>\n",
       "      <td>3</td>\n",
       "      <td>-60.653497</td>\n",
       "      <td>-46.096548</td>\n",
       "      <td>14.7</td>\n",
       "      <td>0.0201</td>\n",
       "      <td>85.0</td>\n",
       "      <td>0.903811</td>\n",
       "      <td>8263.649496</td>\n",
       "      <td>8263.649496</td>\n",
       "    </tr>\n",
       "    <tr>\n",
       "      <th>3</th>\n",
       "      <td>4</td>\n",
       "      <td>10001</td>\n",
       "      <td>2000</td>\n",
       "      <td>1</td>\n",
       "      <td>4</td>\n",
       "      <td>-60.697349</td>\n",
       "      <td>-45.962174</td>\n",
       "      <td>15.6</td>\n",
       "      <td>0.0201</td>\n",
       "      <td>85.0</td>\n",
       "      <td>0.903811</td>\n",
       "      <td>12870.823170</td>\n",
       "      <td>12870.823170</td>\n",
       "    </tr>\n",
       "    <tr>\n",
       "      <th>4</th>\n",
       "      <td>5</td>\n",
       "      <td>10001</td>\n",
       "      <td>2000</td>\n",
       "      <td>1</td>\n",
       "      <td>5</td>\n",
       "      <td>-60.691715</td>\n",
       "      <td>-46.148531</td>\n",
       "      <td>14.2</td>\n",
       "      <td>0.0201</td>\n",
       "      <td>90.0</td>\n",
       "      <td>0.903811</td>\n",
       "      <td>5637.852315</td>\n",
       "      <td>5637.852315</td>\n",
       "    </tr>\n",
       "  </tbody>\n",
       "</table>\n",
       "</div>"
      ],
      "text/plain": [
       "   POINTID   CTNO  Year  Month  Day        Lon        Lat  WaterTemp     SSH  \\\n",
       "0        1  10001  2000      1    1 -60.758637 -46.297230       14.0  0.0201   \n",
       "1        2  10001  2000      1    2 -60.589546 -46.319036       13.9  0.0201   \n",
       "2        3  10001  2000      1    3 -60.653497 -46.096548       14.7  0.0201   \n",
       "3        4  10001  2000      1    4 -60.697349 -45.962174       15.6  0.0201   \n",
       "4        5  10001  2000      1    5 -60.691715 -46.148531       14.2  0.0201   \n",
       "\n",
       "   Depth  Chlor_a_mg_m3    SqCatch_Kg          CPUE  \n",
       "0   80.0       0.903811  13922.858090  13922.858090  \n",
       "1   85.0       0.903811   4284.774801   4284.774801  \n",
       "2   85.0       0.903811   8263.649496   8263.649496  \n",
       "3   85.0       0.903811  12870.823170  12870.823170  \n",
       "4   90.0       0.903811   5637.852315   5637.852315  "
      ]
     },
     "execution_count": 61,
     "metadata": {},
     "output_type": "execute_result"
    }
   ],
   "source": [
    "# Load and prepare data\n",
    "df = pd.read_csv(\"../data/Final_dataset.csv\")\n",
    "required_cols = [\"SqCatch_Kg\", \"Depth\", \"Lat\", \"Lon\", \"WaterTemp\", \"Chlor_a_mg_m3\", \"Month\", \"Year\", \"Day\", \"SSH\"]\n",
    "df.dropna(subset=required_cols, inplace=True)\n",
    "\n",
    "# Filter for Jan–June\n",
    "df = df[df[\"Month\"].between(1, 6)]\n",
    "\n",
    "# Create CPUE per day\n",
    "df[\"CPUE\"] = df[\"SqCatch_Kg\"] \n",
    "df.head()\n"
   ]
  },
  {
   "cell_type": "code",
   "execution_count": 62,
   "id": "c3432a4b",
   "metadata": {},
   "outputs": [
    {
     "data": {
      "text/html": [
       "<div>\n",
       "<style scoped>\n",
       "    .dataframe tbody tr th:only-of-type {\n",
       "        vertical-align: middle;\n",
       "    }\n",
       "\n",
       "    .dataframe tbody tr th {\n",
       "        vertical-align: top;\n",
       "    }\n",
       "\n",
       "    .dataframe thead th {\n",
       "        text-align: right;\n",
       "    }\n",
       "</style>\n",
       "<table border=\"1\" class=\"dataframe\">\n",
       "  <thead>\n",
       "    <tr style=\"text-align: right;\">\n",
       "      <th></th>\n",
       "      <th>Year</th>\n",
       "      <th>Month</th>\n",
       "      <th>TotalCatch</th>\n",
       "      <th>DaysFished</th>\n",
       "      <th>Monthly_CPUE</th>\n",
       "      <th>WaterTemp</th>\n",
       "      <th>Depth</th>\n",
       "      <th>Weighted_Latitude</th>\n",
       "      <th>Weighted_Longitude</th>\n",
       "      <th>SSH</th>\n",
       "      <th>Chlor_a_mg_m3</th>\n",
       "    </tr>\n",
       "  </thead>\n",
       "  <tbody>\n",
       "    <tr>\n",
       "      <th>0</th>\n",
       "      <td>2000</td>\n",
       "      <td>1</td>\n",
       "      <td>2.588951e+07</td>\n",
       "      <td>2177</td>\n",
       "      <td>11892.288772</td>\n",
       "      <td>13.772538</td>\n",
       "      <td>76.641709</td>\n",
       "      <td>-46.533534</td>\n",
       "      <td>-60.723543</td>\n",
       "      <td>0.0201</td>\n",
       "      <td>0.903811</td>\n",
       "    </tr>\n",
       "    <tr>\n",
       "      <th>1</th>\n",
       "      <td>2000</td>\n",
       "      <td>2</td>\n",
       "      <td>6.305128e+07</td>\n",
       "      <td>2737</td>\n",
       "      <td>23036.638502</td>\n",
       "      <td>13.234984</td>\n",
       "      <td>78.006577</td>\n",
       "      <td>-47.162833</td>\n",
       "      <td>-61.276076</td>\n",
       "      <td>0.0178</td>\n",
       "      <td>1.546665</td>\n",
       "    </tr>\n",
       "    <tr>\n",
       "      <th>2</th>\n",
       "      <td>2000</td>\n",
       "      <td>3</td>\n",
       "      <td>7.175835e+07</td>\n",
       "      <td>2944</td>\n",
       "      <td>24374.440194</td>\n",
       "      <td>12.151003</td>\n",
       "      <td>84.641644</td>\n",
       "      <td>-47.567805</td>\n",
       "      <td>-60.756138</td>\n",
       "      <td>0.0150</td>\n",
       "      <td>0.690164</td>\n",
       "    </tr>\n",
       "    <tr>\n",
       "      <th>3</th>\n",
       "      <td>2000</td>\n",
       "      <td>4</td>\n",
       "      <td>3.532778e+07</td>\n",
       "      <td>2822</td>\n",
       "      <td>12518.701380</td>\n",
       "      <td>10.106035</td>\n",
       "      <td>96.687810</td>\n",
       "      <td>-48.823479</td>\n",
       "      <td>-61.871991</td>\n",
       "      <td>0.0097</td>\n",
       "      <td>0.591688</td>\n",
       "    </tr>\n",
       "    <tr>\n",
       "      <th>4</th>\n",
       "      <td>2000</td>\n",
       "      <td>5</td>\n",
       "      <td>2.437390e+07</td>\n",
       "      <td>2739</td>\n",
       "      <td>8898.831789</td>\n",
       "      <td>8.781864</td>\n",
       "      <td>107.336254</td>\n",
       "      <td>-47.660462</td>\n",
       "      <td>-61.109375</td>\n",
       "      <td>0.0109</td>\n",
       "      <td>0.442545</td>\n",
       "    </tr>\n",
       "  </tbody>\n",
       "</table>\n",
       "</div>"
      ],
      "text/plain": [
       "   Year  Month    TotalCatch  DaysFished  Monthly_CPUE  WaterTemp       Depth  \\\n",
       "0  2000      1  2.588951e+07        2177  11892.288772  13.772538   76.641709   \n",
       "1  2000      2  6.305128e+07        2737  23036.638502  13.234984   78.006577   \n",
       "2  2000      3  7.175835e+07        2944  24374.440194  12.151003   84.641644   \n",
       "3  2000      4  3.532778e+07        2822  12518.701380  10.106035   96.687810   \n",
       "4  2000      5  2.437390e+07        2739   8898.831789   8.781864  107.336254   \n",
       "\n",
       "   Weighted_Latitude  Weighted_Longitude     SSH  Chlor_a_mg_m3  \n",
       "0         -46.533534          -60.723543  0.0201       0.903811  \n",
       "1         -47.162833          -61.276076  0.0178       1.546665  \n",
       "2         -47.567805          -60.756138  0.0150       0.690164  \n",
       "3         -48.823479          -61.871991  0.0097       0.591688  \n",
       "4         -47.660462          -61.109375  0.0109       0.442545  "
      ]
     },
     "execution_count": 62,
     "metadata": {},
     "output_type": "execute_result"
    }
   ],
   "source": [
    "# Compute Monthly CPUE\n",
    "monthly_cpue = (\n",
    "    df.groupby([\"Year\", \"Month\"])\n",
    "    .agg(\n",
    "        TotalCatch=(\"CPUE\", \"sum\"),\n",
    "        DaysFished=(\"Day\", \"count\")\n",
    "    )\n",
    "    .reset_index()\n",
    ")\n",
    "monthly_cpue[\"Monthly_CPUE\"] = monthly_cpue[\"TotalCatch\"] / monthly_cpue[\"DaysFished\"]\n",
    "monthly_cpue.sort_values([\"Year\", \"Month\"], inplace=True)\n",
    "\n",
    "# Compute weighted average Latitude and Longitude per Year and Month\n",
    "def weighted_mean(group, value_col, weight_col):\n",
    "    return (group[value_col] * group[weight_col]).sum() / group[weight_col].sum()\n",
    "\n",
    "weighted_coords = (\n",
    "    df.groupby([\"Year\", \"Month\"])\n",
    "    .apply(lambda g: pd.Series({\n",
    "        \"Weighted_Latitude\": weighted_mean(g, \"Lat\", \"CPUE\"),\n",
    "        \"Weighted_Longitude\": weighted_mean(g, \"Lon\", \"CPUE\")\n",
    "    }))\n",
    "    .reset_index()\n",
    ")\n",
    "\n",
    "# Merge back with features\n",
    "ftba = [\"WaterTemp\", \"Depth\"] # \"ftba\" stands for features to be avergaed\n",
    "aaf = [\"SSH\", \"Chlor_a_mg_m3\"] # \"aaf\" stands for already avergaed features\n",
    "\n",
    "#Creating dataframes to merge after grouping them by months.\n",
    "averaged_features = df.groupby([\"Year\", \"Month\"])[ftba].mean().reset_index()\n",
    "already_averaged = df.groupby([\"Year\", \"Month\"])[aaf].first().reset_index()\n",
    "data = monthly_cpue.merge(averaged_features, on=[\"Year\", \"Month\"]).merge(weighted_coords, on=[\"Year\", \"Month\"]).merge(already_averaged, on=[\"Year\", \"Month\"])\n",
    "data.head()\n"
   ]
  },
  {
   "cell_type": "code",
   "execution_count": null,
   "id": "e6ab0f6f",
   "metadata": {},
   "outputs": [
    {
     "name": "stdout",
     "output_type": "stream",
     "text": [
      "Since there are:0 values out of 110 then it would be best to proceed with GammaGam and maybe consider TweedieGAM for outliers\n"
     ]
    }
   ],
   "source": [
    "# Log-transform CPUE for GLBM (with c = 10% of mean yearly CPUE)\n",
    "yearly_mean_cpue = (\n",
    "    data.groupby(\"Year\")[\"Monthly_CPUE\"].mean()\n",
    ")\n",
    "yearly_mean_cpue.name = \"Yearly_Mean_CPUE\"\n",
    "\n",
    "# Merge back to full data\n",
    "data_df =  data.merge(yearly_mean_cpue, on=\"Year\")\n",
    "\n",
    "# finding 10% of Yearly_Mean_CPUE(constant/c) in data to avoid zero when log-transforming CPUE\n",
    "data_df[\"c\"] =  0.1 * data_df[\"Yearly_Mean_CPUE\"]\n",
    "\n",
    "#log Transforming the monthly CPUE + c then adding it to a new column in the full df\n",
    "data_df[\"Log_CPUE_plus_c\"] = np.log(data_df[\"Monthly_CPUE\"] + data_df[\"c\"])\n",
    "\n",
    "\n",
    "#log Transforming the monthly CPUE + 1 then adding it to a new column in the full df\n",
    "data_df[\"Log_CPUE_plus_1\"] = np.log(data_df[\"Monthly_CPUE\"] + 1)\n",
    "\n",
    "\n",
    "# Features and Target\n",
    "glbm_features = [\"Month\", \"Year\", \"Weighted_Latitude\", \"Weighted_Longitude\", \"WaterTemp\", \"Chlor_a_mg_m3\", \"SSH\", \"Depth\"]\n",
    "\n",
    "# setting the \"Year\" column as integer\n",
    "data_df[\"Year\"] = data_df[\"Year\"].astype(int)\n",
    "\n",
    "\n",
    "#Making a copy of the full dataset for standardization\n",
    "full_df = data_df\n",
    "\n",
    "\n",
    "\n",
    "#Double checking if there are values that are zero or below in the full dataframe to know which methid aside from linear GAM takes priority for predictions\n",
    "num_values_zero_and_below = (full_df[\"Monthly_CPUE\"] <= 0).sum()\n",
    "total_values = len(full_df[\"Monthly_CPUE\"])\n",
    "\n",
    "if num_values_zero_and_below == 0:\n",
    "    print(f\"Since there are:{num_values_zero_and_below} values out of {total_values} then it would be best to proceed with GammaGam and maybe consider TweedieGAM for outliers\")\n",
    "else:\n",
    "    print(f\"Since there are:{num_values_zero_and_below} values out of {total_values} then it would be best to proceed with TweedieGam\")\n",
    "\n",
    "# Split: 2000-2014 (train), 2015-2020 (test)\n",
    "train_df = full_df[full_df[\"Year\"] < 2014].copy()\n",
    "test_df = full_df[full_df[\"Year\"] >= 2015].copy()\n",
    "#y_test = test_df[\"Monthly_CPUE\"]  # for evaluation"
   ]
  },
  {
   "cell_type": "code",
   "execution_count": 152,
   "id": "19d18395",
   "metadata": {},
   "outputs": [],
   "source": [
    "# Standardization Using LinearGAM (GLBM)(log(CPUE + c))\n",
    "# Features and Target\n",
    "features = [\"Month\", \"Year\", \"Weighted_Latitude\", \"Weighted_Longitude\", \"WaterTemp\", \"Chlor_a_mg_m3\", \"SSH\", \"Depth\"]\n",
    "\n",
    "#Making a copy of the full dataset for standardization\n",
    "full_df = data_df\n",
    "\n",
    "#Subsetting full_df for only the features we would need to train the data\n",
    "X_all = full_df[features]\n",
    "\n",
    "# Target for LinearGAM \n",
    "y_all = full_df[\"Log_CPUE_plus_c\"]\n",
    "\n",
    "# Fit GLBM (GAM-like structure)\n",
    "linear_gam_c_std = LinearGAM(f(0) + f(1) + s(2) + s(3) + s(4) + s(5) + s(6) + s(7))\n",
    "\n",
    "# Fit the model on full data\n",
    "linear_gam_c_std.fit(X_all, y_all)\n",
    "\n",
    "# Predict standardized log(CPUE + c) for every row\n",
    "linear_gam_c_all = linear_gam_c_std.predict(X_all)\n",
    "\n",
    "# Back-transform to standardized CPUE\n",
    "standardized_log_cpueC = np.exp(linear_gam_c_all) - full_df[\"c\"]\n",
    "\n",
    "# Store result\n",
    "full_df[\"Standardized_log_cpueC\"] = standardized_log_cpueC\n"
   ]
  },
  {
   "cell_type": "code",
   "execution_count": 154,
   "id": "1a697f5b",
   "metadata": {},
   "outputs": [],
   "source": [
    "# Standardization Using Linear_GAM (log(CPUE + 1))\n",
    "# Select features used in the model \n",
    "features = [\"Year\", \"Month\", \"Weighted_Latitude\", \"Weighted_Longitude\", \"WaterTemp\", \"Depth\"]\n",
    "X_all = full_df[features]\n",
    "\n",
    "# Target for LinearGAM \n",
    "y_all = full_df[\"Log_CPUE_plus_1\"]\n",
    "\n",
    "# Fit the GAM model on full data\n",
    "linear_gam_1_std = LinearGAM(s(0) + s(1) + s(2) + s(3) + s(4) + s(5)).fit(X_all, y_all)\n",
    "\n",
    "# Predict on all data (standardized log(CPUE + 1))\n",
    "linear_gam_1_all = linear_gam_1_std.predict(X_all)\n",
    "\n",
    "# Back-transform to CPUE\n",
    "standardized_log_cpue1 = np.exp(linear_gam_1_all) - 1\n",
    "\n",
    "# Store result\n",
    "full_df[\"Standardized_log_cpue1\"] = standardized_log_cpue1\n",
    "\n"
   ]
  },
  {
   "cell_type": "code",
   "execution_count": 155,
   "id": "b79a4fbc",
   "metadata": {},
   "outputs": [],
   "source": [
    "# Standardization Using GammaGAM\n",
    "# Features and Target\n",
    "features = [\"Month\", \"Year\", \"Weighted_Latitude\", \"Weighted_Longitude\", \"WaterTemp\", \"Chlor_a_mg_m3\", \"SSH\", \"Depth\"]\n",
    "\n",
    "\n",
    "# Features\n",
    "X_all = full_df[features]\n",
    "\n",
    "# Target for GammaGAM (no log-transform needed)\n",
    "y_all = full_df[\"Monthly_CPUE\"]\n",
    "\n",
    "# Fit GammaGAM\n",
    "# Because CPUE can vary sharply between months (e.g., seasonal fishing behavior, spawning), we will use a factor for flexibility.\n",
    "# Since years often follow a longer trend (e.g., stock depletion, climate change) we will use a spline to prevent overfitting the yearly spikes and ensure better generalization to other years. This was seen in the trend from the time series EDA we could have seen that the yearly spikes are real but rare .\n",
    "gamma_gam_std = GammaGAM(f(0) + s(1) + s(2) + s(3) + s(4) + s(5) + s(6) + s(7))\n",
    "gamma_gam_std.fit(X_all, y_all)\n",
    "\n",
    "# Predict CPUE \n",
    "gamma_gam_std_all = gamma_gam_std.predict(X_all)\n",
    "\n",
    "# Subtract the constant to get back standardized CPUE\n",
    "standardized_cpue_GammaGAM = gamma_gam_std_all \n",
    "\n",
    "# Store result\n",
    "full_df[\"Standardized_CPUE_GammaGAM\"] = standardized_cpue_GammaGAM\n"
   ]
  },
  {
   "cell_type": "code",
   "execution_count": 157,
   "id": "6065107d",
   "metadata": {},
   "outputs": [],
   "source": [
    "# Standardization Using tweedieglm\n",
    "# Create the formula with splines\n",
    "formula = \"\"\"\n",
    "Monthly_CPUE ~ C(Month) + bs(Year, df=6) + bs(Weighted_Latitude, df=6) +\n",
    " bs(Weighted_Longitude, df=6) + bs(WaterTemp, df=6) + \n",
    "bs(Chlor_a_mg_m3, df=6) + bs(SSH, df=6) + bs(Depth, df=6)\n",
    "\"\"\"\n",
    "\n",
    "# Fit the model\n",
    "tweedie_glm = smf.glm(formula=formula, data=full_df,\n",
    "family=sm.families.Tweedie(var_power=1.5, link=sm.families.links.log())).fit()\n",
    "\n",
    "# Predict\n",
    "full_df[\"Standardized_CPUE_tweedieglm\"] = tweedie_glm.predict(full_df)\n",
    "\n"
   ]
  },
  {
   "cell_type": "code",
   "execution_count": 158,
   "id": "e81b66ec",
   "metadata": {},
   "outputs": [
    {
     "name": "stdout",
     "output_type": "stream",
     "text": [
      "Negative predictions: 10 out of 29 (34.48%)\n"
     ]
    }
   ],
   "source": [
    "# Prediction Using LinearGAM (GLBM)(log(CPUE + c))\n",
    "# Features and Target\n",
    "features = [\"Month\", \"Year\", \"Weighted_Latitude\", \"Weighted_Longitude\", \"WaterTemp\", \"Chlor_a_mg_m3\", \"SSH\", \"Depth\"]\n",
    "X_train = train_df[features]\n",
    "X_test = test_df[features]\n",
    "\n",
    "#log transforming data for training\n",
    "y_train = np.log(train_df[\"Monthly_CPUE\"] + train_df[\"c\"])\n",
    "y_test_linear = test_df[\"Monthly_CPUE\"]  # for evaluation\n",
    "\n",
    "# Fit GLBM (GAM-like structure)\n",
    "linear_gam_c_prd = LinearGAM(s(0) + s(1) + s(2) + s(3) + s(4) + s(5) + s(6) + s(7))\n",
    "\n",
    "# Train the model on part of the data\n",
    "linear_gam_c_prd.fit(X_train, y_train)\n",
    "\n",
    "# Predict log(CPUE + c) on test set\n",
    "linear_gam_c_preds = linear_gam_c_prd.predict(X_test)\n",
    "\n",
    "#Saving constant column for evaluation\n",
    "lin_gam_c = test_df[\"c\"]\n",
    "\n",
    "# Back-transform to predicted CPUE (standardized)\n",
    "linear_gam_c_preds_all = np.exp(linear_gam_c_preds) - lin_gam_c\n",
    "\n",
    "#checking the amount of negatives values for glbm_preds\n",
    "num_negatives = (linear_gam_c_preds_all < 0).sum()\n",
    "total_preds = len(linear_gam_c_preds_all)\n",
    "percent_negative = (num_negatives / total_preds) * 100\n",
    "\n",
    "print(f\"Negative predictions: {num_negatives} out of {total_preds} ({percent_negative:.2f}%)\")\n",
    "\n",
    "# 6 out of 29 predictions (20.69%) being negative means that about 1 in 5 predictions is unusable — which can bias results and understate CPUE trends hence why we clip to 0.\n",
    "# The current LinearGAM with log-transformed CPUE (log(CPUE + c)) is not modeling the data well enough to avoid invalid predictions.\n",
    "\n",
    "linear_gam_c_preds_all = linear_gam_c_preds_all.clip(lower=0)\n"
   ]
  },
  {
   "cell_type": "code",
   "execution_count": 159,
   "id": "e26170a8",
   "metadata": {},
   "outputs": [],
   "source": [
    "# Prediction Using LinearGAM GAM (log(CPUE + 1))\n",
    "\n",
    "# Select features used in the model\n",
    "features = [\"Year\", \"Month\",\"Weighted_Latitude\", \"Weighted_Longitude\", \"WaterTemp\", \"Depth\"]\n",
    "\n",
    "X_train = train_df[features]\n",
    "X_test = test_df[features]\n",
    "\n",
    "#log transforming data for training\n",
    "y_train = np.log(train_df[\"Monthly_CPUE\"] + 1)\n",
    "y_test_linear = test_df[\"Monthly_CPUE\"]  # for evaluation\n",
    "\n",
    "# Fit GAM\n",
    "linear_gam_1_prd = LinearGAM(s(0) + s(1) + s(2) + s(3) + s(4) + s(5)).fit(X_train, y_train)\n",
    "\n",
    "# Predict on test\n",
    "linear_gam_1_preds = linear_gam_1_prd.predict(X_test)\n",
    "linear_gam_1_preds_all = np.exp(linear_gam_1_preds) - 1\n"
   ]
  },
  {
   "cell_type": "code",
   "execution_count": 160,
   "id": "ff0bd479",
   "metadata": {},
   "outputs": [],
   "source": [
    "# Prediction Using GammaGAM (general additive model, with spline automation defined only for positive and continuous outcomes)\n",
    "# Features and Target\n",
    "features = [\"Month\", \"Year\", \"Weighted_Latitude\", \"Weighted_Longitude\", \"WaterTemp\", \"Chlor_a_mg_m3\", \"SSH\", \"Depth\"]\n",
    "X_train = train_df[features]\n",
    "X_test = test_df[features]\n",
    "\n",
    "# Ensuring strictly positive CPUE by adding a small constant \n",
    "y_train = train_df[\"Monthly_CPUE\"]\n",
    "y_test_gamma = test_df[\"Monthly_CPUE\"]  # for evaluation\n",
    "\n",
    "# Training the model on part of the data (raw data)\n",
    "gamma_gam_prd = GammaGAM(s(0) + s(1) + s(2) + s(3) + s(4) + s(5) + s(6) + s(7)).fit(X_train, y_train)\n",
    "\n",
    "# Predict log(CPUE + c_glbm) on test set\n",
    "gamma_gam_preds = gamma_gam_prd.predict(X_test)"
   ]
  },
  {
   "cell_type": "code",
   "execution_count": 208,
   "id": "ac33f547",
   "metadata": {},
   "outputs": [
    {
     "name": "stdout",
     "output_type": "stream",
     "text": [
      "              Year      Month    TotalCatch   DaysFished  Monthly_CPUE  \\\n",
      "count    29.000000  29.000000  2.900000e+01    29.000000     29.000000   \n",
      "mean   2017.448276   3.068966  1.570533e+07  1041.379310  10750.919117   \n",
      "std       1.804483   1.510228  2.453187e+07   886.348545  13767.304124   \n",
      "min    2015.000000   1.000000  2.974881e+02     3.000000     99.162690   \n",
      "25%    2016.000000   2.000000  7.664932e+05   136.000000   3266.792847   \n",
      "50%    2017.000000   3.000000  5.860283e+06   716.000000   5991.620534   \n",
      "75%    2019.000000   4.000000  2.177699e+07  1890.000000  12866.718540   \n",
      "max    2020.000000   6.000000  1.002211e+08  2557.000000  55157.443882   \n",
      "\n",
      "       WaterTemp       Depth  Weighted_Latitude  Weighted_Longitude  \\\n",
      "count  29.000000   29.000000          29.000000           29.000000   \n",
      "mean   11.487017  130.312387         -48.255471          -60.296553   \n",
      "std     1.891466   26.428369           2.028777            0.742697   \n",
      "min     8.071308   79.842105         -51.445536          -62.253411   \n",
      "25%     9.958939  110.632710         -49.885209          -60.657331   \n",
      "50%    11.660165  123.170167         -48.701696          -60.430052   \n",
      "75%    12.477122  156.316109         -46.312947          -59.837924   \n",
      "max    15.333333  193.333333         -44.470910          -58.887738   \n",
      "\n",
      "             SSH  Chlor_a_mg_m3  Yearly_Mean_CPUE            c  \\\n",
      "count  29.000000      29.000000         29.000000    29.000000   \n",
      "mean    0.069966       1.277343      10750.919117  1075.091912   \n",
      "std     0.006838       1.042008       9495.883574   949.588357   \n",
      "min     0.059000       0.171495       2882.617703   288.261770   \n",
      "25%     0.065200       0.626915       4052.953378   405.295338   \n",
      "50%     0.069900       1.066420       7954.027395   795.402739   \n",
      "75%     0.075300       1.413261       9732.283524   973.228352   \n",
      "max     0.082900       4.324865      28472.609641  2847.260964   \n",
      "\n",
      "       Log_CPUE_plus_c  Log_CPUE_plus_1  \n",
      "count        29.000000        29.000000  \n",
      "mean          8.740575         8.465762  \n",
      "std           1.243317         1.554806  \n",
      "min           6.223485         4.606796  \n",
      "25%           8.176126         8.091870  \n",
      "50%           8.822768         8.698284  \n",
      "75%           9.522382         9.462477  \n",
      "max          10.968279        10.917965  \n",
      "                        Year     Month  TotalCatch  DaysFished  Monthly_CPUE  \\\n",
      "Year                1.000000 -0.051065   -0.366941    0.004021     -0.449122   \n",
      "Month              -0.051065  1.000000    0.177365    0.193094      0.179118   \n",
      "TotalCatch         -0.366941  0.177365    1.000000    0.590048      0.920776   \n",
      "DaysFished          0.004021  0.193094    0.590048    1.000000      0.382754   \n",
      "Monthly_CPUE       -0.449122  0.179118    0.920776    0.382754      1.000000   \n",
      "WaterTemp           0.080062 -0.903733   -0.273593   -0.188133     -0.334185   \n",
      "Depth               0.748321  0.246641   -0.168230    0.188290     -0.258478   \n",
      "Weighted_Latitude  -0.138681 -0.526411   -0.476059   -0.507406     -0.458429   \n",
      "Weighted_Longitude  0.541121 -0.097287   -0.119771    0.360210     -0.273582   \n",
      "SSH                 0.873365 -0.468706   -0.482685   -0.205362     -0.530782   \n",
      "Chlor_a_mg_m3       0.272574 -0.577620   -0.209596   -0.141122     -0.144334   \n",
      "Yearly_Mean_CPUE   -0.651146  0.157713    0.552912    0.007860      0.689742   \n",
      "c                  -0.651146  0.157713    0.552912    0.007860      0.689742   \n",
      "Log_CPUE_plus_c    -0.383062  0.247335    0.713550    0.554709      0.795017   \n",
      "Log_CPUE_plus_1    -0.360882  0.293566    0.658588    0.586285      0.732041   \n",
      "\n",
      "                    WaterTemp     Depth  Weighted_Latitude  \\\n",
      "Year                 0.080062  0.748321          -0.138681   \n",
      "Month               -0.903733  0.246641          -0.526411   \n",
      "TotalCatch          -0.273593 -0.168230          -0.476059   \n",
      "DaysFished          -0.188133  0.188290          -0.507406   \n",
      "Monthly_CPUE        -0.334185 -0.258478          -0.458429   \n",
      "WaterTemp            1.000000 -0.174687           0.695296   \n",
      "Depth               -0.174687  1.000000          -0.387493   \n",
      "Weighted_Latitude    0.695296 -0.387493           1.000000   \n",
      "Weighted_Longitude   0.110020  0.432562          -0.005551   \n",
      "SSH                  0.466852  0.507991           0.206888   \n",
      "Chlor_a_mg_m3        0.601244 -0.055706           0.289672   \n",
      "Yearly_Mean_CPUE    -0.315403 -0.471770          -0.190192   \n",
      "c                   -0.315403 -0.471770          -0.190192   \n",
      "Log_CPUE_plus_c     -0.376197 -0.195902          -0.449895   \n",
      "Log_CPUE_plus_1     -0.413353 -0.182635          -0.463340   \n",
      "\n",
      "                    Weighted_Longitude       SSH  Chlor_a_mg_m3  \\\n",
      "Year                          0.541121  0.873365       0.272574   \n",
      "Month                        -0.097287 -0.468706      -0.577620   \n",
      "TotalCatch                   -0.119771 -0.482685      -0.209596   \n",
      "DaysFished                    0.360210 -0.205362      -0.141122   \n",
      "Monthly_CPUE                 -0.273582 -0.530782      -0.144334   \n",
      "WaterTemp                     0.110020  0.466852       0.601244   \n",
      "Depth                         0.432562  0.507991      -0.055706   \n",
      "Weighted_Latitude            -0.005551  0.206888       0.289672   \n",
      "Weighted_Longitude            1.000000  0.487565       0.165892   \n",
      "SSH                           0.487565  1.000000       0.495314   \n",
      "Chlor_a_mg_m3                 0.165892  0.495314       1.000000   \n",
      "Yearly_Mean_CPUE             -0.421705 -0.700059      -0.236564   \n",
      "c                            -0.421705 -0.700059      -0.236564   \n",
      "Log_CPUE_plus_c              -0.013592 -0.542165      -0.009635   \n",
      "Log_CPUE_plus_1               0.046207 -0.534263      -0.018725   \n",
      "\n",
      "                    Yearly_Mean_CPUE         c  Log_CPUE_plus_c  \\\n",
      "Year                       -0.651146 -0.651146        -0.383062   \n",
      "Month                       0.157713  0.157713         0.247335   \n",
      "TotalCatch                  0.552912  0.552912         0.713550   \n",
      "DaysFished                  0.007860  0.007860         0.554709   \n",
      "Monthly_CPUE                0.689742  0.689742         0.795017   \n",
      "WaterTemp                  -0.315403 -0.315403        -0.376197   \n",
      "Depth                      -0.471770 -0.471770        -0.195902   \n",
      "Weighted_Latitude          -0.190192 -0.190192        -0.449895   \n",
      "Weighted_Longitude         -0.421705 -0.421705        -0.013592   \n",
      "SSH                        -0.700059 -0.700059        -0.542165   \n",
      "Chlor_a_mg_m3              -0.236564 -0.236564        -0.009635   \n",
      "Yearly_Mean_CPUE            1.000000  1.000000         0.639677   \n",
      "c                           1.000000  1.000000         0.639677   \n",
      "Log_CPUE_plus_c             0.639677  0.639677         1.000000   \n",
      "Log_CPUE_plus_1             0.547730  0.547730         0.985461   \n",
      "\n",
      "                    Log_CPUE_plus_1  \n",
      "Year                      -0.360882  \n",
      "Month                      0.293566  \n",
      "TotalCatch                 0.658588  \n",
      "DaysFished                 0.586285  \n",
      "Monthly_CPUE               0.732041  \n",
      "WaterTemp                 -0.413353  \n",
      "Depth                     -0.182635  \n",
      "Weighted_Latitude         -0.463340  \n",
      "Weighted_Longitude         0.046207  \n",
      "SSH                       -0.534263  \n",
      "Chlor_a_mg_m3             -0.018725  \n",
      "Yearly_Mean_CPUE           0.547730  \n",
      "c                          0.547730  \n",
      "Log_CPUE_plus_c            0.985461  \n",
      "Log_CPUE_plus_1            1.000000  \n"
     ]
    }
   ],
   "source": [
    "# Prediction Using tweedie_glm (glm with spline felxibility basis spline and full statitical output model, defined only for positive and continuous outcomes)\n",
    "# Combine train and test for formula evaluation (since formula uses string-based feature names)\n",
    "train_df[\"split\"] = \"train\"\n",
    "test_df[\"split\"] = \"test\"\n",
    "\n",
    "# Combine train and test\n",
    "combined_df = pd.concat([train_df, test_df])\n",
    "test_df_tw = combined_df[combined_df[\"split\"] == \"test\"]\n",
    "\n",
    "y_test_tweedie = test_df_tw[\"Monthly_CPUE\"]  # for evaluation\n",
    "\n",
    "# Explicit bounds based on the full data\n",
    "# Reducing the degrees of freedom from 6 to 3 makes the spline smoother and less flexible, which often helps the model generalize better and thus improves the RMSE and MAE\n",
    "def bounded_bspline(var, df=3):\n",
    "    return f\"bs({var}, df={df}, degree=3, include_intercept=False, \" \\\n",
    "           f\"lower_bound={combined_df[var].min()}, upper_bound={combined_df[var].max()})\"\n",
    "\n",
    "# Updated formula with explicit bounds\n",
    "formula = (\n",
    "    \"Monthly_CPUE ~ C(Month) + \" +\n",
    "    bounded_bspline(\"Year\") + \" + \" +\n",
    "    bounded_bspline(\"Weighted_Latitude\") + \" + \" +\n",
    "    bounded_bspline(\"Weighted_Longitude\") + \" + \" +\n",
    "    bounded_bspline(\"WaterTemp\") + \" + \" +\n",
    "    bounded_bspline(\"Chlor_a_mg_m3\") + \" + \" +\n",
    "    bounded_bspline(\"SSH\") + \" + \" +\n",
    "    bounded_bspline(\"Depth\")\n",
    ")\n",
    "\n",
    "# Fit using training data\n",
    "tweedie_glm = smf.glm(formula=formula,\n",
    "                      data=combined_df[combined_df[\"split\"] == \"train\"],\n",
    "                      family=sm.families.Tweedie(var_power=2, link=sm.families.links.log())).fit()\n",
    "\n",
    "# Predict on test data\n",
    "tweedie_glm_pred = tweedie_glm.predict(combined_df[combined_df[\"split\"] == \"test\"])\n",
    "print(test_df.describe())\n",
    "print(test_df.corr())"
   ]
  },
  {
   "cell_type": "code",
   "execution_count": 207,
   "id": "5d8125d1",
   "metadata": {},
   "outputs": [
    {
     "name": "stdout",
     "output_type": "stream",
     "text": [
      "LinearGAM_c Mean RMSE: 12538.322756126652\n",
      "LinearGAM_1 Mean RMSE: 13731.35536152771\n",
      "GammaGAM Mean RMSE: 11316.122032399859\n",
      "TweedieGAM Mean RMSE: 13442.242136231693\n",
      "              Model      RMSE       MAE\n",
      "0  GAM(log(CPUE+c)) 16,959.50 10,317.78\n",
      "1  GAM(log(CPUE+1)) 16,299.05  9,894.59\n",
      "2          GammaGAM 15,942.68  9,383.47\n",
      "3       Tweedie_GLM 10,820.77  7,379.73\n"
     ]
    }
   ],
   "source": [
    "\n",
    "#Cross Validation (RMSE) using 5 folds\n",
    "\n",
    "# Scoring function for RMSE:\n",
    "def compute_rmse(y_true, y_pred):\n",
    "    return np.sqrt(mean_squared_error(y_true, y_pred))\n",
    "\n",
    "rmse_scorer = make_scorer(compute_rmse, greater_is_better=False)\n",
    "\n",
    "\n",
    "# LinearGAM (log-transformed CPUE + c)\n",
    "features_c = [\"Month\", \"Year\", \"Weighted_Latitude\", \"Weighted_Longitude\", \"WaterTemp\", \"Chlor_a_mg_m3\", \"SSH\", \"Depth\"]\n",
    "X = data_df[features_c].values\n",
    "y = data_df[\"Log_CPUE_plus_c\"].values\n",
    "c_series = full_df[\"c\"].values  # full Series of c values (same length as X)\n",
    "\n",
    "# Set up 5-fold CV\n",
    "kf = KFold(n_splits=5, shuffle=True, random_state=42)\n",
    "\n",
    "rmse_scores = []\n",
    "\n",
    "# Manual CV loop\n",
    "for train_index, test_index in kf.split(X):\n",
    "    X_train, X_test = X[train_index], X[test_index]\n",
    "    y_train, y_test = y[train_index], y[test_index]\n",
    "    c_test = c_series[test_index]  # ✨ Grab matching c values for the test se\n",
    "    gam = LinearGAM(s(0) + s(1) + s(2) + s(3) + s(4) + s(5) + s(6) + s(7))\n",
    "    gam.fit(X_train, y_train)\n",
    "    lin_gam_c_preds = gam.predict(X_test)\n",
    "    lin_gam_c_preds_all = np.exp(lin_gam_c_preds) - c_test\n",
    "    rmse = np.sqrt(mean_squared_error(y_test, lin_gam_c_preds_all))\n",
    "    rmse_scores.append(rmse)\n",
    "\n",
    "print(\"LinearGAM_c Mean RMSE:\", np.mean(rmse_scores))\n",
    "\n",
    "# LinearGAM (log-transformed CPUE + 1)\n",
    "features_1 = [\"Year\", \"Month\", \"Weighted_Latitude\", \"Weighted_Longitude\", \"WaterTemp\", \"Depth\"]\n",
    "X = data_df[features_1].values\n",
    "y = data_df[\"Log_CPUE_plus_1\"].values\n",
    "\n",
    "# Set up 5-fold CV\n",
    "kf = KFold(n_splits=5, shuffle=True, random_state=42)\n",
    "\n",
    "rmse_scores = []\n",
    "\n",
    "# Manual CV loop\n",
    "for train_index, test_index in kf.split(X):\n",
    "    X_train, X_test = X[train_index], X[test_index]\n",
    "    y_train, y_test = y[train_index], y[test_index]\n",
    "\n",
    "    gam = LinearGAM(s(0) + s(1) + s(2) + s(3) + s(4) + s(5))\n",
    "    gam.fit(X_train, y_train)\n",
    "    lin_gam_c_preds = gam.predict(X_test)\n",
    "    lin_gam_1_preds_all = np.exp(lin_gam_c_preds) - 1\n",
    "    rmse = np.sqrt(mean_squared_error(y_test,lin_gam_1_preds_all))\n",
    "    rmse_scores.append(rmse)\n",
    "\n",
    "print(\"LinearGAM_1 Mean RMSE:\", np.mean(rmse_scores))\n",
    "\n",
    "#GammaGAM (raw CPUE, no log)\n",
    "X = data_df[features_c]\n",
    "y = data_df[\"Monthly_CPUE\"]\n",
    "gam_gamma = GammaGAM(f(0) + s(1) + s(2) + s(3) + s(4) + s(5) + s(6) + s(7))\n",
    "scores_gamma = cross_val_score(gam_gamma, X, y, cv=5, scoring=rmse_scorer)\n",
    "print(\"GammaGAM Mean RMSE:\", -np.mean(scores_gamma))\n",
    "\n",
    "\n",
    "#TweedieGAM (raw CPUE, more robust to outliers)\n",
    "kf = KFold(n_splits=5, shuffle=True, random_state=42)\n",
    "tweedie_rmse_scores = []\n",
    "\n",
    "for train_index, test_index in kf.split(X):\n",
    "    X_train, X_test = X.iloc[train_index], X.iloc[test_index]\n",
    "    y_train, y_test = y.iloc[train_index], y.iloc[test_index]\n",
    "\n",
    "    train_df_cv = X_train.copy()\n",
    "    train_df_cv[\"Monthly_CPUE\"] = y_train\n",
    "    \n",
    "    test_df_cv = X_test.copy()\n",
    "    test_df_cv[\"Monthly_CPUE\"] = y_test\n",
    "\n",
    "    model = smf.glm(formula=formula,\n",
    "                    data=train_df_cv,\n",
    "                    family=sm.families.Tweedie(var_power=2, link=sm.families.links.log())).fit()\n",
    "    \n",
    "    y_pred_tv = model.predict(test_df_cv)\n",
    "    tweedie_rmse_scores.append(compute_rmse(y_test, y_pred_tv))\n",
    "\n",
    "print(\"TweedieGAM Mean RMSE:\", np.mean(tweedie_rmse_scores))\n",
    "\n",
    "\n",
    "\n",
    "\n",
    "#Evaluation (RMSE & MAE)\n",
    "results = pd.DataFrame({\n",
    "    \"Model\": [\"GAM(log(CPUE+c))\",\"GAM(log(CPUE+1))\", \"GammaGAM\", \"Tweedie_GLM\"],\n",
    "    \"RMSE\": [\n",
    "        np.sqrt(mean_squared_error(y_test_linear, linear_gam_c_preds_all)),\n",
    "        np.sqrt(mean_squared_error(y_test_linear, linear_gam_1_preds_all)),\n",
    "        np.sqrt(mean_squared_error(y_test_gamma, gamma_gam_preds)),\n",
    "        np.sqrt(mean_squared_error(y_test_tweedie, tweedie_glm_pred))\n",
    "    ],\n",
    "    \"MAE\": [\n",
    "        mean_absolute_error(y_test_linear, linear_gam_c_preds_all),\n",
    "        mean_absolute_error(y_test_linear, linear_gam_1_preds_all),\n",
    "        mean_absolute_error(y_test_gamma, gamma_gam_preds),\n",
    "        mean_absolute_error(y_test_tweedie, tweedie_glm_pred)\n",
    "    ]\n",
    "})\n",
    "\n",
    "pd.options.display.float_format = '{:,.2f}'.format\n",
    "print(results)\n",
    "pd.reset_option('display.float_format')  # Optional: reset after printing"
   ]
  },
  {
   "cell_type": "code",
   "execution_count": null,
   "id": "142d3a0a",
   "metadata": {},
   "outputs": [],
   "source": [
    "# Prediction Using tweedie_glm (glm with spline felxibility basis spline and full statitical output model, defined only for positive and continuous outcomes)\n",
    "# Combine train and test for formula evaluation (since formula uses string-based feature names)\n",
    "train_df[\"split\"] = \"train\"\n",
    "test_df[\"split\"] = \"test\"\n",
    "\n",
    "# Combine train and test\n",
    "combined_df = pd.concat([train_df, test_df])\n",
    "test_df_tw = combined_df[combined_df[\"split\"] == \"test\"]\n",
    "\n",
    "y_test_tweedie = test_df_tw[\"Monthly_CPUE\"]  # for evaluation\n",
    "\n",
    "# Explicit bounds based on the full data\n",
    "# Reducing the degrees of freedom from 6 to 3 makes the spline smoother and less flexible, which often helps the model generalize better and thus improves the RMSE and MAE\n",
    "def bounded_bspline(var, df=3):\n",
    "    return f\"bs({var}, df={df}, degree=3, include_intercept=False, \" \\\n",
    "           f\"lower_bound={combined_df[var].min()}, upper_bound={combined_df[var].max()})\"\n",
    "\n",
    "# Updated formula with explicit bounds\n",
    "formula = (\n",
    "    \"Monthly_CPUE ~ C(Month) + \" +\n",
    "    bounded_bspline(\"Year\") + \" + \" +\n",
    "    bounded_bspline(\"Weighted_Latitude\") + \" + \" +\n",
    "    bounded_bspline(\"Weighted_Longitude\") + \" + \" +\n",
    "    bounded_bspline(\"WaterTemp\") + \" + \" +\n",
    "    bounded_bspline(\"Chlor_a_mg_m3\") + \" + \" +\n",
    "    bounded_bspline(\"SSH\") + \" + \" +\n",
    "    bounded_bspline(\"Depth\")\n",
    ")\n",
    "\n",
    "# Fit using training data\n",
    "tweedie_glm = smf.glm(formula=formula,\n",
    "                      data=combined_df[combined_df[\"split\"] == \"train\"],\n",
    "                      family=sm.families.Tweedie(var_power=2, link=sm.families.links.log())).fit()\n",
    "\n",
    "# Predict on test data\n",
    "tweedie_glm_pred = tweedie_glm.predict(combined_df[combined_df[\"split\"] == \"test\"])"
   ]
  },
  {
   "cell_type": "code",
   "execution_count": 203,
   "id": "0a48ce2b",
   "metadata": {},
   "outputs": [
    {
     "data": {
      "application/vnd.plotly.v1+json": {
       "config": {
        "plotlyServerURL": "https://plot.ly"
       },
       "data": [
        {
         "hovertemplate": "variable=Observed<br>Year=%{x}<br>value=%{y}<extra></extra>",
         "legendgroup": "Observed",
         "line": {
          "color": "#636efa",
          "dash": "solid"
         },
         "marker": {
          "symbol": "circle"
         },
         "mode": "markers+lines",
         "name": "Observed",
         "orientation": "v",
         "showlegend": true,
         "type": "scatter",
         "x": [
          2000,
          2001,
          2002,
          2003,
          2004,
          2005,
          2006,
          2007,
          2008,
          2009,
          2010,
          2011,
          2012,
          2013,
          2014,
          2015,
          2016,
          2017,
          2018,
          2019,
          2020
         ],
         "xaxis": "x",
         "y": [
          14475.696936183653,
          10209.357690435263,
          6581.955598371863,
          9632.856368932586,
          1471.854376545912,
          3868.6399296864197,
          11218.872171581379,
          25441.952750802884,
          26900.541623368026,
          7887.702052318408,
          5082.906027190937,
          6686.283624700768,
          9269.90420869747,
          10080.297085284714,
          30054.869976462145,
          28472.609641298386,
          2882.617703300585,
          9732.283523692424,
          5178.551061991957,
          4052.9533783063043,
          7954.027394540119
         ],
         "yaxis": "y"
        },
        {
         "hovertemplate": "variable=Standardized_log_cpueC<br>Year=%{x}<br>value=%{y}<extra></extra>",
         "legendgroup": "Standardized_log_cpueC",
         "line": {
          "color": "#EF553B",
          "dash": "solid"
         },
         "marker": {
          "symbol": "circle"
         },
         "mode": "markers+lines",
         "name": "Standardized_log_cpueC",
         "orientation": "v",
         "showlegend": true,
         "type": "scatter",
         "x": [
          2000,
          2001,
          2002,
          2003,
          2004,
          2005,
          2006,
          2007,
          2008,
          2009,
          2010,
          2011,
          2012,
          2013,
          2014,
          2015,
          2016,
          2017,
          2018,
          2019,
          2020
         ],
         "xaxis": "x",
         "y": [
          14642.048940653816,
          10063.032563282388,
          6773.80829025806,
          9268.506804409313,
          1454.0626331204805,
          3935.0124280668356,
          9860.330934943095,
          22469.674661932066,
          22889.342998708922,
          6080.619009269887,
          4784.622378433212,
          5229.772103525688,
          9516.826886866194,
          7630.618987692523,
          28701.182965083186,
          23236.572420453555,
          2520.1257647771627,
          9369.242732940722,
          3644.162075635214,
          3848.992351534217,
          6728.661732775812
         ],
         "yaxis": "y"
        },
        {
         "hovertemplate": "variable=Standardized_log_cpue1<br>Year=%{x}<br>value=%{y}<extra></extra>",
         "legendgroup": "Standardized_log_cpue1",
         "line": {
          "color": "#00cc96",
          "dash": "solid"
         },
         "marker": {
          "symbol": "circle"
         },
         "mode": "markers+lines",
         "name": "Standardized_log_cpue1",
         "orientation": "v",
         "showlegend": true,
         "type": "scatter",
         "x": [
          2000,
          2001,
          2002,
          2003,
          2004,
          2005,
          2006,
          2007,
          2008,
          2009,
          2010,
          2011,
          2012,
          2013,
          2014,
          2015,
          2016,
          2017,
          2018,
          2019,
          2020
         ],
         "xaxis": "x",
         "y": [
          15759.487258733781,
          11647.9117022236,
          5805.59646049888,
          7693.922944608031,
          2102.2537923749346,
          3366.447694903751,
          10401.370851355008,
          23047.331079602056,
          23393.477003276323,
          5548.0213105879,
          5121.148964564436,
          6667.292440305615,
          8010.39609493267,
          9604.52552614765,
          29136.119411802018,
          25968.6035572619,
          4457.494771117861,
          5664.756757517214,
          3589.7585287129587,
          4868.951504980387,
          5700.391187393422
         ],
         "yaxis": "y"
        },
        {
         "hovertemplate": "variable=Standardized_CPUE_GammaGAM<br>Year=%{x}<br>value=%{y}<extra></extra>",
         "legendgroup": "Standardized_CPUE_GammaGAM",
         "line": {
          "color": "#ab63fa",
          "dash": "solid"
         },
         "marker": {
          "symbol": "circle"
         },
         "mode": "markers+lines",
         "name": "Standardized_CPUE_GammaGAM",
         "orientation": "v",
         "showlegend": true,
         "type": "scatter",
         "x": [
          2000,
          2001,
          2002,
          2003,
          2004,
          2005,
          2006,
          2007,
          2008,
          2009,
          2010,
          2011,
          2012,
          2013,
          2014,
          2015,
          2016,
          2017,
          2018,
          2019,
          2020
         ],
         "xaxis": "x",
         "y": [
          13742.767135332855,
          13108.70041436646,
          7326.859862785893,
          8231.824174895699,
          2341.027463549167,
          3790.202323895133,
          10065.62018612837,
          22963.6908004805,
          20889.307863961443,
          7772.652089565321,
          5944.344999093608,
          5892.543365474682,
          9616.756186547453,
          8301.656959890168,
          38532.26603824877,
          23992.8737299515,
          5915.868480429885,
          6076.106777737779,
          4263.161263262384,
          5746.895505579174,
          6233.275654421498
         ],
         "yaxis": "y"
        },
        {
         "hovertemplate": "variable=Standardized_CPUE_tweedieglm<br>Year=%{x}<br>value=%{y}<extra></extra>",
         "legendgroup": "Standardized_CPUE_tweedieglm",
         "line": {
          "color": "#FFA15A",
          "dash": "solid"
         },
         "marker": {
          "symbol": "circle"
         },
         "mode": "markers+lines",
         "name": "Standardized_CPUE_tweedieglm",
         "orientation": "v",
         "showlegend": true,
         "type": "scatter",
         "x": [
          2000,
          2001,
          2002,
          2003,
          2004,
          2005,
          2006,
          2007,
          2008,
          2009,
          2010,
          2011,
          2012,
          2013,
          2014,
          2015,
          2016,
          2017,
          2018,
          2019,
          2020
         ],
         "xaxis": "x",
         "y": [
          15500.617031651993,
          9616.18192052883,
          5908.396595791351,
          9426.64733722027,
          4280.1517571586255,
          4064.511142759515,
          9982.061936183198,
          20210.259591749862,
          27606.794128657453,
          8102.790139158396,
          8714.216438565942,
          8901.765922307133,
          7735.481366415028,
          9848.37681388308,
          25482.528556279958,
          32194.12126050195,
          3734.358468844094,
          7763.1597339240425,
          7006.010511112906,
          4897.43059248167,
          7907.661258821587
         ],
         "yaxis": "y"
        }
       ],
       "layout": {
        "height": 900,
        "hovermode": "x unified",
        "legend": {
         "title": {
          "text": "Series"
         },
         "tracegroupgap": 0
        },
        "template": {
         "data": {
          "bar": [
           {
            "error_x": {
             "color": "#2a3f5f"
            },
            "error_y": {
             "color": "#2a3f5f"
            },
            "marker": {
             "line": {
              "color": "#E5ECF6",
              "width": 0.5
             },
             "pattern": {
              "fillmode": "overlay",
              "size": 10,
              "solidity": 0.2
             }
            },
            "type": "bar"
           }
          ],
          "barpolar": [
           {
            "marker": {
             "line": {
              "color": "#E5ECF6",
              "width": 0.5
             },
             "pattern": {
              "fillmode": "overlay",
              "size": 10,
              "solidity": 0.2
             }
            },
            "type": "barpolar"
           }
          ],
          "carpet": [
           {
            "aaxis": {
             "endlinecolor": "#2a3f5f",
             "gridcolor": "white",
             "linecolor": "white",
             "minorgridcolor": "white",
             "startlinecolor": "#2a3f5f"
            },
            "baxis": {
             "endlinecolor": "#2a3f5f",
             "gridcolor": "white",
             "linecolor": "white",
             "minorgridcolor": "white",
             "startlinecolor": "#2a3f5f"
            },
            "type": "carpet"
           }
          ],
          "choropleth": [
           {
            "colorbar": {
             "outlinewidth": 0,
             "ticks": ""
            },
            "type": "choropleth"
           }
          ],
          "contour": [
           {
            "colorbar": {
             "outlinewidth": 0,
             "ticks": ""
            },
            "colorscale": [
             [
              0,
              "#0d0887"
             ],
             [
              0.1111111111111111,
              "#46039f"
             ],
             [
              0.2222222222222222,
              "#7201a8"
             ],
             [
              0.3333333333333333,
              "#9c179e"
             ],
             [
              0.4444444444444444,
              "#bd3786"
             ],
             [
              0.5555555555555556,
              "#d8576b"
             ],
             [
              0.6666666666666666,
              "#ed7953"
             ],
             [
              0.7777777777777778,
              "#fb9f3a"
             ],
             [
              0.8888888888888888,
              "#fdca26"
             ],
             [
              1,
              "#f0f921"
             ]
            ],
            "type": "contour"
           }
          ],
          "contourcarpet": [
           {
            "colorbar": {
             "outlinewidth": 0,
             "ticks": ""
            },
            "type": "contourcarpet"
           }
          ],
          "heatmap": [
           {
            "colorbar": {
             "outlinewidth": 0,
             "ticks": ""
            },
            "colorscale": [
             [
              0,
              "#0d0887"
             ],
             [
              0.1111111111111111,
              "#46039f"
             ],
             [
              0.2222222222222222,
              "#7201a8"
             ],
             [
              0.3333333333333333,
              "#9c179e"
             ],
             [
              0.4444444444444444,
              "#bd3786"
             ],
             [
              0.5555555555555556,
              "#d8576b"
             ],
             [
              0.6666666666666666,
              "#ed7953"
             ],
             [
              0.7777777777777778,
              "#fb9f3a"
             ],
             [
              0.8888888888888888,
              "#fdca26"
             ],
             [
              1,
              "#f0f921"
             ]
            ],
            "type": "heatmap"
           }
          ],
          "heatmapgl": [
           {
            "colorbar": {
             "outlinewidth": 0,
             "ticks": ""
            },
            "colorscale": [
             [
              0,
              "#0d0887"
             ],
             [
              0.1111111111111111,
              "#46039f"
             ],
             [
              0.2222222222222222,
              "#7201a8"
             ],
             [
              0.3333333333333333,
              "#9c179e"
             ],
             [
              0.4444444444444444,
              "#bd3786"
             ],
             [
              0.5555555555555556,
              "#d8576b"
             ],
             [
              0.6666666666666666,
              "#ed7953"
             ],
             [
              0.7777777777777778,
              "#fb9f3a"
             ],
             [
              0.8888888888888888,
              "#fdca26"
             ],
             [
              1,
              "#f0f921"
             ]
            ],
            "type": "heatmapgl"
           }
          ],
          "histogram": [
           {
            "marker": {
             "pattern": {
              "fillmode": "overlay",
              "size": 10,
              "solidity": 0.2
             }
            },
            "type": "histogram"
           }
          ],
          "histogram2d": [
           {
            "colorbar": {
             "outlinewidth": 0,
             "ticks": ""
            },
            "colorscale": [
             [
              0,
              "#0d0887"
             ],
             [
              0.1111111111111111,
              "#46039f"
             ],
             [
              0.2222222222222222,
              "#7201a8"
             ],
             [
              0.3333333333333333,
              "#9c179e"
             ],
             [
              0.4444444444444444,
              "#bd3786"
             ],
             [
              0.5555555555555556,
              "#d8576b"
             ],
             [
              0.6666666666666666,
              "#ed7953"
             ],
             [
              0.7777777777777778,
              "#fb9f3a"
             ],
             [
              0.8888888888888888,
              "#fdca26"
             ],
             [
              1,
              "#f0f921"
             ]
            ],
            "type": "histogram2d"
           }
          ],
          "histogram2dcontour": [
           {
            "colorbar": {
             "outlinewidth": 0,
             "ticks": ""
            },
            "colorscale": [
             [
              0,
              "#0d0887"
             ],
             [
              0.1111111111111111,
              "#46039f"
             ],
             [
              0.2222222222222222,
              "#7201a8"
             ],
             [
              0.3333333333333333,
              "#9c179e"
             ],
             [
              0.4444444444444444,
              "#bd3786"
             ],
             [
              0.5555555555555556,
              "#d8576b"
             ],
             [
              0.6666666666666666,
              "#ed7953"
             ],
             [
              0.7777777777777778,
              "#fb9f3a"
             ],
             [
              0.8888888888888888,
              "#fdca26"
             ],
             [
              1,
              "#f0f921"
             ]
            ],
            "type": "histogram2dcontour"
           }
          ],
          "mesh3d": [
           {
            "colorbar": {
             "outlinewidth": 0,
             "ticks": ""
            },
            "type": "mesh3d"
           }
          ],
          "parcoords": [
           {
            "line": {
             "colorbar": {
              "outlinewidth": 0,
              "ticks": ""
             }
            },
            "type": "parcoords"
           }
          ],
          "pie": [
           {
            "automargin": true,
            "type": "pie"
           }
          ],
          "scatter": [
           {
            "marker": {
             "colorbar": {
              "outlinewidth": 0,
              "ticks": ""
             }
            },
            "type": "scatter"
           }
          ],
          "scatter3d": [
           {
            "line": {
             "colorbar": {
              "outlinewidth": 0,
              "ticks": ""
             }
            },
            "marker": {
             "colorbar": {
              "outlinewidth": 0,
              "ticks": ""
             }
            },
            "type": "scatter3d"
           }
          ],
          "scattercarpet": [
           {
            "marker": {
             "colorbar": {
              "outlinewidth": 0,
              "ticks": ""
             }
            },
            "type": "scattercarpet"
           }
          ],
          "scattergeo": [
           {
            "marker": {
             "colorbar": {
              "outlinewidth": 0,
              "ticks": ""
             }
            },
            "type": "scattergeo"
           }
          ],
          "scattergl": [
           {
            "marker": {
             "colorbar": {
              "outlinewidth": 0,
              "ticks": ""
             }
            },
            "type": "scattergl"
           }
          ],
          "scattermapbox": [
           {
            "marker": {
             "colorbar": {
              "outlinewidth": 0,
              "ticks": ""
             }
            },
            "type": "scattermapbox"
           }
          ],
          "scatterpolar": [
           {
            "marker": {
             "colorbar": {
              "outlinewidth": 0,
              "ticks": ""
             }
            },
            "type": "scatterpolar"
           }
          ],
          "scatterpolargl": [
           {
            "marker": {
             "colorbar": {
              "outlinewidth": 0,
              "ticks": ""
             }
            },
            "type": "scatterpolargl"
           }
          ],
          "scatterternary": [
           {
            "marker": {
             "colorbar": {
              "outlinewidth": 0,
              "ticks": ""
             }
            },
            "type": "scatterternary"
           }
          ],
          "surface": [
           {
            "colorbar": {
             "outlinewidth": 0,
             "ticks": ""
            },
            "colorscale": [
             [
              0,
              "#0d0887"
             ],
             [
              0.1111111111111111,
              "#46039f"
             ],
             [
              0.2222222222222222,
              "#7201a8"
             ],
             [
              0.3333333333333333,
              "#9c179e"
             ],
             [
              0.4444444444444444,
              "#bd3786"
             ],
             [
              0.5555555555555556,
              "#d8576b"
             ],
             [
              0.6666666666666666,
              "#ed7953"
             ],
             [
              0.7777777777777778,
              "#fb9f3a"
             ],
             [
              0.8888888888888888,
              "#fdca26"
             ],
             [
              1,
              "#f0f921"
             ]
            ],
            "type": "surface"
           }
          ],
          "table": [
           {
            "cells": {
             "fill": {
              "color": "#EBF0F8"
             },
             "line": {
              "color": "white"
             }
            },
            "header": {
             "fill": {
              "color": "#C8D4E3"
             },
             "line": {
              "color": "white"
             }
            },
            "type": "table"
           }
          ]
         },
         "layout": {
          "annotationdefaults": {
           "arrowcolor": "#2a3f5f",
           "arrowhead": 0,
           "arrowwidth": 1
          },
          "autotypenumbers": "strict",
          "coloraxis": {
           "colorbar": {
            "outlinewidth": 0,
            "ticks": ""
           }
          },
          "colorscale": {
           "diverging": [
            [
             0,
             "#8e0152"
            ],
            [
             0.1,
             "#c51b7d"
            ],
            [
             0.2,
             "#de77ae"
            ],
            [
             0.3,
             "#f1b6da"
            ],
            [
             0.4,
             "#fde0ef"
            ],
            [
             0.5,
             "#f7f7f7"
            ],
            [
             0.6,
             "#e6f5d0"
            ],
            [
             0.7,
             "#b8e186"
            ],
            [
             0.8,
             "#7fbc41"
            ],
            [
             0.9,
             "#4d9221"
            ],
            [
             1,
             "#276419"
            ]
           ],
           "sequential": [
            [
             0,
             "#0d0887"
            ],
            [
             0.1111111111111111,
             "#46039f"
            ],
            [
             0.2222222222222222,
             "#7201a8"
            ],
            [
             0.3333333333333333,
             "#9c179e"
            ],
            [
             0.4444444444444444,
             "#bd3786"
            ],
            [
             0.5555555555555556,
             "#d8576b"
            ],
            [
             0.6666666666666666,
             "#ed7953"
            ],
            [
             0.7777777777777778,
             "#fb9f3a"
            ],
            [
             0.8888888888888888,
             "#fdca26"
            ],
            [
             1,
             "#f0f921"
            ]
           ],
           "sequentialminus": [
            [
             0,
             "#0d0887"
            ],
            [
             0.1111111111111111,
             "#46039f"
            ],
            [
             0.2222222222222222,
             "#7201a8"
            ],
            [
             0.3333333333333333,
             "#9c179e"
            ],
            [
             0.4444444444444444,
             "#bd3786"
            ],
            [
             0.5555555555555556,
             "#d8576b"
            ],
            [
             0.6666666666666666,
             "#ed7953"
            ],
            [
             0.7777777777777778,
             "#fb9f3a"
            ],
            [
             0.8888888888888888,
             "#fdca26"
            ],
            [
             1,
             "#f0f921"
            ]
           ]
          },
          "colorway": [
           "#636efa",
           "#EF553B",
           "#00cc96",
           "#ab63fa",
           "#FFA15A",
           "#19d3f3",
           "#FF6692",
           "#B6E880",
           "#FF97FF",
           "#FECB52"
          ],
          "font": {
           "color": "#2a3f5f"
          },
          "geo": {
           "bgcolor": "white",
           "lakecolor": "white",
           "landcolor": "#E5ECF6",
           "showlakes": true,
           "showland": true,
           "subunitcolor": "white"
          },
          "hoverlabel": {
           "align": "left"
          },
          "hovermode": "closest",
          "mapbox": {
           "style": "light"
          },
          "paper_bgcolor": "white",
          "plot_bgcolor": "#E5ECF6",
          "polar": {
           "angularaxis": {
            "gridcolor": "white",
            "linecolor": "white",
            "ticks": ""
           },
           "bgcolor": "#E5ECF6",
           "radialaxis": {
            "gridcolor": "white",
            "linecolor": "white",
            "ticks": ""
           }
          },
          "scene": {
           "xaxis": {
            "backgroundcolor": "#E5ECF6",
            "gridcolor": "white",
            "gridwidth": 2,
            "linecolor": "white",
            "showbackground": true,
            "ticks": "",
            "zerolinecolor": "white"
           },
           "yaxis": {
            "backgroundcolor": "#E5ECF6",
            "gridcolor": "white",
            "gridwidth": 2,
            "linecolor": "white",
            "showbackground": true,
            "ticks": "",
            "zerolinecolor": "white"
           },
           "zaxis": {
            "backgroundcolor": "#E5ECF6",
            "gridcolor": "white",
            "gridwidth": 2,
            "linecolor": "white",
            "showbackground": true,
            "ticks": "",
            "zerolinecolor": "white"
           }
          },
          "shapedefaults": {
           "line": {
            "color": "#2a3f5f"
           }
          },
          "ternary": {
           "aaxis": {
            "gridcolor": "white",
            "linecolor": "white",
            "ticks": ""
           },
           "baxis": {
            "gridcolor": "white",
            "linecolor": "white",
            "ticks": ""
           },
           "bgcolor": "#E5ECF6",
           "caxis": {
            "gridcolor": "white",
            "linecolor": "white",
            "ticks": ""
           }
          },
          "title": {
           "x": 0.05
          },
          "xaxis": {
           "automargin": true,
           "gridcolor": "white",
           "linecolor": "white",
           "ticks": "",
           "title": {
            "standoff": 15
           },
           "zerolinecolor": "white",
           "zerolinewidth": 2
          },
          "yaxis": {
           "automargin": true,
           "gridcolor": "white",
           "linecolor": "white",
           "ticks": "",
           "title": {
            "standoff": 15
           },
           "zerolinecolor": "white",
           "zerolinewidth": 2
          }
         }
        },
        "title": {
         "text": "Observed vs Standardized CPUE per Year"
        },
        "width": 1000,
        "xaxis": {
         "anchor": "y",
         "domain": [
          0,
          1
         ],
         "tickformat": ".0f",
         "title": {
          "text": "Year"
         }
        },
        "yaxis": {
         "anchor": "x",
         "domain": [
          0,
          1
         ],
         "title": {
          "text": "CPUE"
         }
        }
       }
      }
     },
     "metadata": {},
     "output_type": "display_data"
    },
    {
     "data": {
      "image/png": "[encoded data removed]",
      "text/plain": [
       "<Figure size 864x432 with 1 Axes>"
      ]
     },
     "metadata": {
      "needs_background": "light"
     },
     "output_type": "display_data"
    },
    {
     "data": {
      "image/png": "[encoded data removed]",
      "text/plain": [
       "<Figure size 1296x360 with 4 Axes>"
      ]
     },
     "metadata": {
      "needs_background": "light"
     },
     "output_type": "display_data"
    },
    {
     "data": {
      "application/vnd.plotly.v1+json": {
       "config": {
        "plotlyServerURL": "https://plot.ly"
       },
       "data": [
        {
         "marker": {
          "symbol": "circle"
         },
         "mode": "lines+markers",
         "name": "Actual",
         "type": "scatter",
         "x": [
          0,
          1,
          2,
          3,
          4,
          5,
          6,
          7,
          8,
          9,
          10,
          11,
          12,
          13,
          14,
          15,
          16,
          17,
          18,
          19,
          20,
          21
         ],
         "y": [
          23036.638501843296,
          24374.440193945957,
          5572.9050184810385,
          20765.33300605651,
          9118.631621969427,
          3604.6276502764335,
          4052.5561006750704,
          21656.71499867435,
          11499.073286556364,
          13380.814108160015,
          1363.3275634392871,
          2914.322173769637,
          24423.31846104323,
          14547.545210719272,
          3794.821583788889,
          317.1899228532653,
          8562.37978137581,
          13221.552711762177,
          1952.6250898700998,
          9134.642265794948,
          12866.71854040109,
          5991.620533552921
         ]
        },
        {
         "marker": {
          "symbol": "square"
         },
         "mode": "lines+markers",
         "name": "Predicted (LinearGAM_log_CPUE_plus_c)",
         "type": "scatter",
         "x": [
          0,
          1,
          2,
          3,
          4,
          5,
          6,
          7,
          8,
          9,
          10,
          11,
          12,
          13,
          14,
          15,
          16,
          17,
          18,
          19,
          20,
          21
         ],
         "y": [
          2578.8034790257116,
          2484.0996477309227,
          1128.720404037725,
          358.1755317331631,
          0,
          540.4534777838071,
          2881.8248965054895,
          1315.4423302176397,
          2561.3121237657033,
          777.9852785839702,
          0,
          0,
          435.34923347342874,
          405.90884217886196,
          0,
          360.6718059538139,
          996.3778530226375,
          650.8099391715882,
          549.299477944749,
          837.9652637125077,
          0,
          266.52763220477146,
          178.43779294757798,
          34.63610765225178,
          0,
          0,
          0,
          0,
          0
         ]
        },
        {
         "marker": {
          "symbol": "triangle-up"
         },
         "mode": "lines+markers",
         "name": "Predicted (LinearGAM_log_CPUE_plus_1)",
         "type": "scatter",
         "x": [
          0,
          1,
          2,
          3,
          4,
          5,
          6,
          7,
          8,
          9,
          10,
          11,
          12,
          13,
          14,
          15,
          16,
          17,
          18,
          19,
          20,
          21
         ],
         "y": [
          4224.933077438043,
          3135.536633725591,
          3111.6396930389974,
          2041.6777856270687,
          1946.175737602149,
          2538.9094499240427,
          3889.6633750169563,
          2328.1248553258083,
          3440.2053027641105,
          1031.1018600444024,
          1833.982633646718,
          1019.5121337186605,
          1623.6333206976205,
          1560.3529999632922,
          460.96674370916327,
          1255.6525130614662,
          738.1003448996353,
          1050.9147034896796,
          973.1766024753225,
          7496.321435985105,
          205.48741171193183,
          798.9319865874074,
          353.38724858500626,
          562.3088539940502,
          561.8910220462222,
          145.98775787972463,
          153.2916367708455,
          297.6199312921599,
          402.7962783095054
         ]
        },
        {
         "marker": {
          "symbol": "x"
         },
         "mode": "lines+markers",
         "name": "Predicted (GammaGAM_CPUE)",
         "type": "scatter",
         "x": [
          0,
          1,
          2,
          3,
          4,
          5,
          6,
          7,
          8,
          9,
          10,
          11,
          12,
          13,
          14,
          15,
          16,
          17,
          18,
          19,
          20,
          21
         ],
         "y": [
          5542.402284480094,
          5495.883537965391,
          4002.2985179315783,
          3476.4750794696447,
          1797.7567164544569,
          4088.400897684802,
          3487.089886908735,
          1732.1247205452366,
          3338.1835532351674,
          1144.1498009680297,
          1019.6783253284174,
          928.2331020792454,
          1718.289702648655,
          1505.5493682527688,
          694.2890974819858,
          1033.974514306442,
          1771.6286763170554,
          1400.179270214893,
          1386.411424403483,
          1079.190305374,
          175.6807077152257,
          740.8569401693908,
          639.5406169775123,
          595.2434167528752,
          341.29849456728675,
          109.49006655674538,
          125.0281183618918,
          151.89810872909692,
          546.865766720025
         ]
        },
        {
         "marker": {
          "symbol": "cross"
         },
         "mode": "lines+markers",
         "name": "Predicted (TweedieGLM_CPUE)",
         "type": "scatter",
         "x": [
          0,
          1,
          2,
          3,
          4,
          5,
          6,
          7,
          8,
          9,
          10,
          11,
          12,
          13,
          14,
          15,
          16,
          17,
          18,
          19,
          20,
          21
         ],
         "y": [
          12445.34694921168,
          2811.6669487721006,
          8750.33312086454,
          22703.818447635684,
          45043.23426792041,
          1436.5522574418587,
          1204.4165691951628,
          1130.2501466597191,
          1873.7735223395334,
          1109.885092094713,
          716.1348540906203,
          87.05681291160423,
          1222.884056131532,
          943.6669416657962,
          310.1736288415205,
          163.31208085534178,
          603.218999329358,
          514.6209414800043,
          492.014907287245,
          0.0000071990343280765566,
          22.067514467584683,
          8.947765854782396,
          30.96996873970921,
          572.5219668544547,
          27.900411836874643,
          5.822602660642376,
          24.475523644467046,
          2.4511533561555776,
          1.226127798012883
         ]
        }
       ],
       "layout": {
        "hovermode": "x unified",
        "legend": {
         "title": {
          "text": "Legend"
         }
        },
        "template": {
         "data": {
          "bar": [
           {
            "error_x": {
             "color": "#2a3f5f"
            },
            "error_y": {
             "color": "#2a3f5f"
            },
            "marker": {
             "line": {
              "color": "white",
              "width": 0.5
             },
             "pattern": {
              "fillmode": "overlay",
              "size": 10,
              "solidity": 0.2
             }
            },
            "type": "bar"
           }
          ],
          "barpolar": [
           {
            "marker": {
             "line": {
              "color": "white",
              "width": 0.5
             },
             "pattern": {
              "fillmode": "overlay",
              "size": 10,
              "solidity": 0.2
             }
            },
            "type": "barpolar"
           }
          ],
          "carpet": [
           {
            "aaxis": {
             "endlinecolor": "#2a3f5f",
             "gridcolor": "#C8D4E3",
             "linecolor": "#C8D4E3",
             "minorgridcolor": "#C8D4E3",
             "startlinecolor": "#2a3f5f"
            },
            "baxis": {
             "endlinecolor": "#2a3f5f",
             "gridcolor": "#C8D4E3",
             "linecolor": "#C8D4E3",
             "minorgridcolor": "#C8D4E3",
             "startlinecolor": "#2a3f5f"
            },
            "type": "carpet"
           }
          ],
          "choropleth": [
           {
            "colorbar": {
             "outlinewidth": 0,
             "ticks": ""
            },
            "type": "choropleth"
           }
          ],
          "contour": [
           {
            "colorbar": {
             "outlinewidth": 0,
             "ticks": ""
            },
            "colorscale": [
             [
              0,
              "#0d0887"
             ],
             [
              0.1111111111111111,
              "#46039f"
             ],
             [
              0.2222222222222222,
              "#7201a8"
             ],
             [
              0.3333333333333333,
              "#9c179e"
             ],
             [
              0.4444444444444444,
              "#bd3786"
             ],
             [
              0.5555555555555556,
              "#d8576b"
             ],
             [
              0.6666666666666666,
              "#ed7953"
             ],
             [
              0.7777777777777778,
              "#fb9f3a"
             ],
             [
              0.8888888888888888,
              "#fdca26"
             ],
             [
              1,
              "#f0f921"
             ]
            ],
            "type": "contour"
           }
          ],
          "contourcarpet": [
           {
            "colorbar": {
             "outlinewidth": 0,
             "ticks": ""
            },
            "type": "contourcarpet"
           }
          ],
          "heatmap": [
           {
            "colorbar": {
             "outlinewidth": 0,
             "ticks": ""
            },
            "colorscale": [
             [
              0,
              "#0d0887"
             ],
             [
              0.1111111111111111,
              "#46039f"
             ],
             [
              0.2222222222222222,
              "#7201a8"
             ],
             [
              0.3333333333333333,
              "#9c179e"
             ],
             [
              0.4444444444444444,
              "#bd3786"
             ],
             [
              0.5555555555555556,
              "#d8576b"
             ],
             [
              0.6666666666666666,
              "#ed7953"
             ],
             [
              0.7777777777777778,
              "#fb9f3a"
             ],
             [
              0.8888888888888888,
              "#fdca26"
             ],
             [
              1,
              "#f0f921"
             ]
            ],
            "type": "heatmap"
           }
          ],
          "heatmapgl": [
           {
            "colorbar": {
             "outlinewidth": 0,
             "ticks": ""
            },
            "colorscale": [
             [
              0,
              "#0d0887"
             ],
             [
              0.1111111111111111,
              "#46039f"
             ],
             [
              0.2222222222222222,
              "#7201a8"
             ],
             [
              0.3333333333333333,
              "#9c179e"
             ],
             [
              0.4444444444444444,
              "#bd3786"
             ],
             [
              0.5555555555555556,
              "#d8576b"
             ],
             [
              0.6666666666666666,
              "#ed7953"
             ],
             [
              0.7777777777777778,
              "#fb9f3a"
             ],
             [
              0.8888888888888888,
              "#fdca26"
             ],
             [
              1,
              "#f0f921"
             ]
            ],
            "type": "heatmapgl"
           }
          ],
          "histogram": [
           {
            "marker": {
             "pattern": {
              "fillmode": "overlay",
              "size": 10,
              "solidity": 0.2
             }
            },
            "type": "histogram"
           }
          ],
          "histogram2d": [
           {
            "colorbar": {
             "outlinewidth": 0,
             "ticks": ""
            },
            "colorscale": [
             [
              0,
              "#0d0887"
             ],
             [
              0.1111111111111111,
              "#46039f"
             ],
             [
              0.2222222222222222,
              "#7201a8"
             ],
             [
              0.3333333333333333,
              "#9c179e"
             ],
             [
              0.4444444444444444,
              "#bd3786"
             ],
             [
              0.5555555555555556,
              "#d8576b"
             ],
             [
              0.6666666666666666,
              "#ed7953"
             ],
             [
              0.7777777777777778,
              "#fb9f3a"
             ],
             [
              0.8888888888888888,
              "#fdca26"
             ],
             [
              1,
              "#f0f921"
             ]
            ],
            "type": "histogram2d"
           }
          ],
          "histogram2dcontour": [
           {
            "colorbar": {
             "outlinewidth": 0,
             "ticks": ""
            },
            "colorscale": [
             [
              0,
              "#0d0887"
             ],
             [
              0.1111111111111111,
              "#46039f"
             ],
             [
              0.2222222222222222,
              "#7201a8"
             ],
             [
              0.3333333333333333,
              "#9c179e"
             ],
             [
              0.4444444444444444,
              "#bd3786"
             ],
             [
              0.5555555555555556,
              "#d8576b"
             ],
             [
              0.6666666666666666,
              "#ed7953"
             ],
             [
              0.7777777777777778,
              "#fb9f3a"
             ],
             [
              0.8888888888888888,
              "#fdca26"
             ],
             [
              1,
              "#f0f921"
             ]
            ],
            "type": "histogram2dcontour"
           }
          ],
          "mesh3d": [
           {
            "colorbar": {
             "outlinewidth": 0,
             "ticks": ""
            },
            "type": "mesh3d"
           }
          ],
          "parcoords": [
           {
            "line": {
             "colorbar": {
              "outlinewidth": 0,
              "ticks": ""
             }
            },
            "type": "parcoords"
           }
          ],
          "pie": [
           {
            "automargin": true,
            "type": "pie"
           }
          ],
          "scatter": [
           {
            "marker": {
             "colorbar": {
              "outlinewidth": 0,
              "ticks": ""
             }
            },
            "type": "scatter"
           }
          ],
          "scatter3d": [
           {
            "line": {
             "colorbar": {
              "outlinewidth": 0,
              "ticks": ""
             }
            },
            "marker": {
             "colorbar": {
              "outlinewidth": 0,
              "ticks": ""
             }
            },
            "type": "scatter3d"
           }
          ],
          "scattercarpet": [
           {
            "marker": {
             "colorbar": {
              "outlinewidth": 0,
              "ticks": ""
             }
            },
            "type": "scattercarpet"
           }
          ],
          "scattergeo": [
           {
            "marker": {
             "colorbar": {
              "outlinewidth": 0,
              "ticks": ""
             }
            },
            "type": "scattergeo"
           }
          ],
          "scattergl": [
           {
            "marker": {
             "colorbar": {
              "outlinewidth": 0,
              "ticks": ""
             }
            },
            "type": "scattergl"
           }
          ],
          "scattermapbox": [
           {
            "marker": {
             "colorbar": {
              "outlinewidth": 0,
              "ticks": ""
             }
            },
            "type": "scattermapbox"
           }
          ],
          "scatterpolar": [
           {
            "marker": {
             "colorbar": {
              "outlinewidth": 0,
              "ticks": ""
             }
            },
            "type": "scatterpolar"
           }
          ],
          "scatterpolargl": [
           {
            "marker": {
             "colorbar": {
              "outlinewidth": 0,
              "ticks": ""
             }
            },
            "type": "scatterpolargl"
           }
          ],
          "scatterternary": [
           {
            "marker": {
             "colorbar": {
              "outlinewidth": 0,
              "ticks": ""
             }
            },
            "type": "scatterternary"
           }
          ],
          "surface": [
           {
            "colorbar": {
             "outlinewidth": 0,
             "ticks": ""
            },
            "colorscale": [
             [
              0,
              "#0d0887"
             ],
             [
              0.1111111111111111,
              "#46039f"
             ],
             [
              0.2222222222222222,
              "#7201a8"
             ],
             [
              0.3333333333333333,
              "#9c179e"
             ],
             [
              0.4444444444444444,
              "#bd3786"
             ],
             [
              0.5555555555555556,
              "#d8576b"
             ],
             [
              0.6666666666666666,
              "#ed7953"
             ],
             [
              0.7777777777777778,
              "#fb9f3a"
             ],
             [
              0.8888888888888888,
              "#fdca26"
             ],
             [
              1,
              "#f0f921"
             ]
            ],
            "type": "surface"
           }
          ],
          "table": [
           {
            "cells": {
             "fill": {
              "color": "#EBF0F8"
             },
             "line": {
              "color": "white"
             }
            },
            "header": {
             "fill": {
              "color": "#C8D4E3"
             },
             "line": {
              "color": "white"
             }
            },
            "type": "table"
           }
          ]
         },
         "layout": {
          "annotationdefaults": {
           "arrowcolor": "#2a3f5f",
           "arrowhead": 0,
           "arrowwidth": 1
          },
          "autotypenumbers": "strict",
          "coloraxis": {
           "colorbar": {
            "outlinewidth": 0,
            "ticks": ""
           }
          },
          "colorscale": {
           "diverging": [
            [
             0,
             "#8e0152"
            ],
            [
             0.1,
             "#c51b7d"
            ],
            [
             0.2,
             "#de77ae"
            ],
            [
             0.3,
             "#f1b6da"
            ],
            [
             0.4,
             "#fde0ef"
            ],
            [
             0.5,
             "#f7f7f7"
            ],
            [
             0.6,
             "#e6f5d0"
            ],
            [
             0.7,
             "#b8e186"
            ],
            [
             0.8,
             "#7fbc41"
            ],
            [
             0.9,
             "#4d9221"
            ],
            [
             1,
             "#276419"
            ]
           ],
           "sequential": [
            [
             0,
             "#0d0887"
            ],
            [
             0.1111111111111111,
             "#46039f"
            ],
            [
             0.2222222222222222,
             "#7201a8"
            ],
            [
             0.3333333333333333,
             "#9c179e"
            ],
            [
             0.4444444444444444,
             "#bd3786"
            ],
            [
             0.5555555555555556,
             "#d8576b"
            ],
            [
             0.6666666666666666,
             "#ed7953"
            ],
            [
             0.7777777777777778,
             "#fb9f3a"
            ],
            [
             0.8888888888888888,
             "#fdca26"
            ],
            [
             1,
             "#f0f921"
            ]
           ],
           "sequentialminus": [
            [
             0,
             "#0d0887"
            ],
            [
             0.1111111111111111,
             "#46039f"
            ],
            [
             0.2222222222222222,
             "#7201a8"
            ],
            [
             0.3333333333333333,
             "#9c179e"
            ],
            [
             0.4444444444444444,
             "#bd3786"
            ],
            [
             0.5555555555555556,
             "#d8576b"
            ],
            [
             0.6666666666666666,
             "#ed7953"
            ],
            [
             0.7777777777777778,
             "#fb9f3a"
            ],
            [
             0.8888888888888888,
             "#fdca26"
            ],
            [
             1,
             "#f0f921"
            ]
           ]
          },
          "colorway": [
           "#636efa",
           "#EF553B",
           "#00cc96",
           "#ab63fa",
           "#FFA15A",
           "#19d3f3",
           "#FF6692",
           "#B6E880",
           "#FF97FF",
           "#FECB52"
          ],
          "font": {
           "color": "#2a3f5f"
          },
          "geo": {
           "bgcolor": "white",
           "lakecolor": "white",
           "landcolor": "white",
           "showlakes": true,
           "showland": true,
           "subunitcolor": "#C8D4E3"
          },
          "hoverlabel": {
           "align": "left"
          },
          "hovermode": "closest",
          "mapbox": {
           "style": "light"
          },
          "paper_bgcolor": "white",
          "plot_bgcolor": "white",
          "polar": {
           "angularaxis": {
            "gridcolor": "#EBF0F8",
            "linecolor": "#EBF0F8",
            "ticks": ""
           },
           "bgcolor": "white",
           "radialaxis": {
            "gridcolor": "#EBF0F8",
            "linecolor": "#EBF0F8",
            "ticks": ""
           }
          },
          "scene": {
           "xaxis": {
            "backgroundcolor": "white",
            "gridcolor": "#DFE8F3",
            "gridwidth": 2,
            "linecolor": "#EBF0F8",
            "showbackground": true,
            "ticks": "",
            "zerolinecolor": "#EBF0F8"
           },
           "yaxis": {
            "backgroundcolor": "white",
            "gridcolor": "#DFE8F3",
            "gridwidth": 2,
            "linecolor": "#EBF0F8",
            "showbackground": true,
            "ticks": "",
            "zerolinecolor": "#EBF0F8"
           },
           "zaxis": {
            "backgroundcolor": "white",
            "gridcolor": "#DFE8F3",
            "gridwidth": 2,
            "linecolor": "#EBF0F8",
            "showbackground": true,
            "ticks": "",
            "zerolinecolor": "#EBF0F8"
           }
          },
          "shapedefaults": {
           "line": {
            "color": "#2a3f5f"
           }
          },
          "ternary": {
           "aaxis": {
            "gridcolor": "#DFE8F3",
            "linecolor": "#A2B1C6",
            "ticks": ""
           },
           "baxis": {
            "gridcolor": "#DFE8F3",
            "linecolor": "#A2B1C6",
            "ticks": ""
           },
           "bgcolor": "white",
           "caxis": {
            "gridcolor": "#DFE8F3",
            "linecolor": "#A2B1C6",
            "ticks": ""
           }
          },
          "title": {
           "x": 0.05
          },
          "xaxis": {
           "automargin": true,
           "gridcolor": "#EBF0F8",
           "linecolor": "#EBF0F8",
           "ticks": "",
           "title": {
            "standoff": 15
           },
           "zerolinecolor": "#EBF0F8",
           "zerolinewidth": 2
          },
          "yaxis": {
           "automargin": true,
           "gridcolor": "#EBF0F8",
           "linecolor": "#EBF0F8",
           "ticks": "",
           "title": {
            "standoff": 15
           },
           "zerolinecolor": "#EBF0F8",
           "zerolinewidth": 2
          }
         }
        },
        "title": {
         "text": "Actual vs Predicted CPUE (Interactive)"
        },
        "xaxis": {
         "title": {
          "text": "Test Sample Index"
         }
        },
        "yaxis": {
         "title": {
          "text": "CPUE"
         }
        }
       }
      }
     },
     "metadata": {},
     "output_type": "display_data"
    },
    {
     "data": {
      "image/png": "[encoded data removed]",
      "text/plain": [
       "<Figure size 720x360 with 1 Axes>"
      ]
     },
     "metadata": {
      "needs_background": "light"
     },
     "output_type": "display_data"
    }
   ],
   "source": [
    "# 6. Visualization\n",
    "# A. Yearly Standardized vs Observed\n",
    "yearly = full_df.groupby(\"Year\")[\"Monthly_CPUE\"].mean().reset_index(name=\"Observed\")\n",
    "\n",
    "yearly_log_cpueC = full_df.copy()\n",
    "#yearly_log_cpueC[\"Standardized_log_cpueC\"] = standardized_log_cpueC\n",
    "yearly_log_cpueC = yearly_log_cpueC.groupby(\"Year\")[\"Standardized_log_cpueC\"].mean().reset_index()\n",
    "\n",
    "yearly_log_cpue1 = full_df.copy()\n",
    "#yearly_log_cpue1[\"Standardized_log_cpue1\"] = standardized_log_cpue1\n",
    "yearly_log_cpue1 = yearly_log_cpue1.groupby(\"Year\")[\"Standardized_log_cpue1\"].mean().reset_index()\n",
    "\n",
    "yearly_cpue_gamma_c = full_df.copy()\n",
    "#yearly_cpue_gamma_c[\"GammaGAM_Standardized\"] = standardized_cpue_gamma_c\n",
    "yearly_cpue_gamma_c = yearly_cpue_gamma_c.groupby(\"Year\")[\"Standardized_CPUE_GammaGAM\"].mean().reset_index()\n",
    "\n",
    "yearly_cpue_gamma_1 = full_df.copy()\n",
    "#yearly_cpue_gamma_1[\"GammaGAM_Standardized\"] = standardized_cpue_gamma_1\n",
    "yearly_cpue_gamma_1 = yearly_cpue_gamma_1.groupby(\"Year\")[\"Standardized_CPUE_tweedieglm\"].mean().reset_index()\n",
    "\n",
    "merged = yearly.merge(yearly_log_cpueC, on=\"Year\").merge(yearly_log_cpue1, on=\"Year\").merge(yearly_cpue_gamma_c, on=\"Year\").merge(yearly_cpue_gamma_1, on=\"Year\")\n",
    "\n",
    "# Interactive observed vs standardized plot\n",
    "fig = go.Figure()\n",
    "\n",
    "# Add traces\n",
    "fig.add_trace(go.Scatter(x=merged[\"Year\"], y=merged[\"Observed\"],mode=\"lines+markers\", name=\"Observed\"))\n",
    "fig.add_trace(go.Scatter(x=merged[\"Year\"], y=merged[\"Standardized_log_cpueC\"],mode=\"lines+markers\", name=\"Standardized_log_CPUE_C\"))\n",
    "fig.add_trace(go.Scatter(x=merged[\"Year\"], y=merged[\"Standardized_log_cpue1\"],mode=\"lines+markers\", name=\"Standardized_log_CPUE_1\"))\n",
    "fig.add_trace(go.Scatter(x=merged[\"Year\"], y=merged[\"Standardized_CPUE_GammaGAM\"],mode=\"lines+markers\", name=\"Standardized_CPUE_GammaGAM\"))\n",
    "fig.add_trace(go.Scatter(x=merged[\"Year\"], y=merged[\"Standardized_CPUE_tweedieglm\"],mode=\"lines+markers\", name=\"Standardized_CPUE_TweedieGLM\"))\n",
    "\n",
    "fig = px.line(\n",
    "    merged,\n",
    "    x=\"Year\",\n",
    "    y=[\"Observed\", \"Standardized_log_cpueC\", \"Standardized_log_cpue1\", \"Standardized_CPUE_GammaGAM\", \"Standardized_CPUE_tweedieglm\"],\n",
    "    markers=True,\n",
    "    title=\"Observed vs Standardized CPUE per Year\",\n",
    "    width=1000,  # increase width\n",
    "    height=900   # increase height\n",
    ")\n",
    "\n",
    "# Layout with fixed integer tick labels on x-axis\n",
    "fig.update_layout(\n",
    "    title=\"Observed vs Standardized CPUE per Year\",\n",
    "    xaxis=dict(title=\"Year\", tickformat=\".0f\"),  #removes decimals\n",
    "    yaxis_title=\"CPUE\",\n",
    "    legend_title=\"Series\",  \n",
    "    hovermode=\"x unified\",\n",
    ")\n",
    "\n",
    "fig.show()\n",
    "\n",
    "# Static observed vs standardized plot\n",
    "plt.figure(figsize=(12, 6))\n",
    "plt.plot(merged[\"Year\"], merged[\"Observed\"], label=\"Observed\", marker=\"o\")\n",
    "plt.plot(merged[\"Year\"], merged[\"Standardized_log_cpueC\"], label=\"Standardized_log_CPUE_C\", marker=\"s\")\n",
    "plt.plot(merged[\"Year\"], merged[\"Standardized_log_cpue1\"], label=\"Standardized_log_CPUE_1\", marker=\"^\")\n",
    "plt.plot(merged[\"Year\"], merged[\"Standardized_CPUE_GammaGAM\"], label=\"Standardized_CPUE_GammaGAM\", marker=\"x\")\n",
    "plt.plot(merged[\"Year\"], merged[\"Standardized_CPUE_tweedieglm\"], label=\"Standardized_CPUE_tweedieglm\", marker=\"+\")\n",
    "plt.title(\"Observed vs Standardized CPUE per Year\")\n",
    "plt.ylabel(\"CPUE\")\n",
    "plt.xlabel(\"Year\")\n",
    "plt.legend()\n",
    "plt.grid(True)\n",
    "# Force integer ticks on x-axis\n",
    "plt.gca().xaxis.set_major_locator(MaxNLocator(integer=True))\n",
    "plt.tight_layout()\n",
    "plt.show()\n",
    "\n",
    "# B. Residual Plots\n",
    "residuals_linear_GAM_log_CPUE_plus_c = y_test_linear - linear_gam_c_preds_all\n",
    "residuals_linear_GAM_log_CPUE_plus_1 = y_test_linear - linear_gam_1_preds_all\n",
    "residuals_Gamma_GAM = y_test_gamma - gamma_gam_preds\n",
    "residuals_Tweedie_GLM = y_test_tweedie - tweedie_glm_pred\n",
    "\n",
    "\n",
    "plt.figure(figsize=(18, 5))\n",
    "\n",
    "plt.subplot(1, 4, 1)\n",
    "plt.scatter(linear_gam_c_preds_all, residuals_linear_GAM_log_CPUE_plus_c)\n",
    "plt.axhline(0, color='red', linestyle='--')\n",
    "plt.title(\"Residuals: LinearGAM_Log_CPUE_plus_c\")\n",
    "plt.xlabel(\"Predicted\")\n",
    "plt.ylabel(\"Residuals\")\n",
    "\n",
    "plt.subplot(1, 4, 2)\n",
    "plt.scatter(linear_gam_1_preds_all, residuals_linear_GAM_log_CPUE_plus_1)\n",
    "plt.axhline(0, color='red', linestyle='--')\n",
    "plt.title(\"Residuals: LinearGAM_Log_CPUE_plus_1\")\n",
    "plt.xlabel(\"Predicted\")\n",
    "plt.ylabel(\"Residuals\")\n",
    "\n",
    "plt.subplot(1, 4, 3)\n",
    "plt.scatter(gamma_gam_preds, residuals_Gamma_GAM)\n",
    "plt.axhline(0, color='red', linestyle='--')\n",
    "plt.title(\"Residuals: GammaGAM\")\n",
    "plt.xlabel(\"Predicted\")\n",
    "plt.ylabel(\"Residuals\")\n",
    "\n",
    "plt.subplot(1, 4, 4)\n",
    "plt.scatter(tweedie_glm_pred, residuals_Tweedie_GLM)\n",
    "plt.axhline(0, color='red', linestyle='--')\n",
    "plt.title(\"Residuals: TweedieGLM\")\n",
    "plt.xlabel(\"Predicted\")\n",
    "plt.ylabel(\"Residuals\")\n",
    "\n",
    "plt.tight_layout()\n",
    "plt.show()\n",
    "\n",
    "# x-axis index for all predictions\n",
    "x = list(range(len(y_test)))\n",
    "\n",
    "# Create interactive figure\n",
    "fig = go.Figure()\n",
    "\n",
    "# Add each line as a trace\n",
    "fig.add_trace(go.Scatter(x=x, y=y_test.values,mode='lines+markers', name='Actual', marker=dict(symbol='circle')))\n",
    "fig.add_trace(go.Scatter(x=x, y=linear_gam_c_preds_all, mode='lines+markers', name='Predicted (LinearGAM_log_CPUE_plus_c)', marker=dict(symbol='square')))\n",
    "fig.add_trace(go.Scatter(x=x, y=linear_gam_1_preds_all, mode='lines+markers', name='Predicted (LinearGAM_log_CPUE_plus_1)', marker=dict(symbol='triangle-up')))\n",
    "fig.add_trace(go.Scatter(x=x, y=gamma_gam_preds, mode='lines+markers', name='Predicted (GammaGAM_CPUE)', marker=dict(symbol='x')))\n",
    "fig.add_trace(go.Scatter(x=x, y=tweedie_glm_pred, mode='lines+markers', name='Predicted (TweedieGLM_CPUE)', marker=dict(symbol='cross')))\n",
    "\n",
    "# Customize layout\n",
    "fig.update_layout(title='Actual vs Predicted CPUE (Interactive)', xaxis_title='Test Sample Index', yaxis_title='CPUE', hovermode='x unified', legend_title='Legend',template='plotly_white')\n",
    "\n",
    "# Show interactive plot\n",
    "fig.show()\n",
    "\n",
    "\n",
    "# C. Actual vs Predicted Plot static plot\n",
    "x = range(len(y_test))  # common for all\n",
    "x_linear = range(len(y_test_linear))  # linear_gam\n",
    "x_gamma = range(len(y_test_gamma))  # gamma\n",
    "x_tweedie = range(len(y_test_tweedie))  # tweedie\n",
    "plt.figure(figsize=(10, 5))\n",
    "plt.plot(x, y_test.values, label=\"Actual\", marker=\"o\")\n",
    "plt.plot(x_linear, linear_gam_c_preds_all, label=\"Predicted (LinearGAM_log_CPUE_plus_c)\", marker=\"s\")\n",
    "plt.plot(x_linear, linear_gam_1_preds_all, label=\"Predicted (LinearGAM_log_CPUE_plus_1)\", marker=\"^\")\n",
    "plt.plot(x_gamma, gamma_gam_preds, label=\"Predicted (GammaGAM_CPUE)\", marker=\"x\")\n",
    "plt.plot(x_tweedie, tweedie_glm_pred, label=\"Predicted (TweedieGLM_CPUE)\", marker=\"+\")\n",
    "plt.title(\"Actual vs Predicted CPUE\")\n",
    "plt.ylabel(\"CPUE\")\n",
    "plt.xlabel(\"Test Sample\")\n",
    "plt.legend()\n",
    "plt.grid(True)\n",
    "plt.tight_layout()\n",
    "plt.show()\n"
   ]
  },
  {
   "cell_type": "code",
   "execution_count": null,
   "id": "3baac1e2",
   "metadata": {},
   "outputs": [],
   "source": [
    "# 7. Summary\n",
    "# =====================\n",
    "# This notebook performs CPUE standardization using two robust models:\n",
    "# - GLBM-like model using log(CPUE + c)\n",
    "# - Generalized Additive Model (GAM) using log(CPUE + 1)\n",
    "# Both models capture nonlinear relationships with environmental/spatiotemporal features.\n",
    "# Evaluation includes RMSE/MAE, standardized CPUE comparison by year, and residual analysis.\n",
    "# Very skewed distribution — a few huge values are dragging the mean way up. This is a classic case for log-transforming the target — which you're doing correctly in some models like GAM(log(CPUE + c)).\n",
    "\n",
    "\n",
    "\n",
    "# “The Tweedie GLM required careful tuning. I experimented with spline complexity (df) and found that over-smoothing led to poor generalization, while under-smoothing caused instability. The residual plots revealed stacking behavior, which I addressed by tuning the degrees of freedom, scaling inputs, and exploring alternative link functions. Ultimately, GAMs gave better flexibility, but I appreciated Tweedie’s full GLM output and interpretability.”\n",
    "#If your model’s predictions are always around the same number, it's like it only knows how to say “the answer is 5000” no matter what. Then your errors (residuals) will be all different numbers — but they’re all stacked over 5000 on the x-axis. That’s why your graph looks like a line of dots going up and down — it's just one guess and many mistakes stacked on it."
   ]
  },
  {
   "cell_type": "code",
   "execution_count": null,
   "id": "d59ea0ef",
   "metadata": {},
   "outputs": [],
   "source": [
    "\n",
    "#\"Generalized Linear Bayesian Model (GLBM) for standardized CPUE =ln(CPUE+c)=factor(year)+factor(month)+s(longitude)+s(latitude)+s(SST)+s(SSH)+s(Chl a)+ϵ. \n",
    "# Lu et al. 2013 suggested that  GLBM was a better model to standardize yearly CPUEs for Chinese Mainland which represented the same proportional change \n",
    "# in stock size of I. argentinus. The CPUE was assumed to be normally distributed and log-transformed with errors in the GLBM modelling.\"\n",
    "# c = constant that was assumed to be 10% of the mean yearly CPUE\n",
    "# Expected Ln CPUE=Intercept+∑(Coefficients X Predictors)\n",
    "# Standardized CPUE = exp(Ln CPUE)-c\n",
    "# Orange hilighted is imputed data (mean of other SST in 2021)\n",
    "\n",
    "# GLBM (OLS) Model\n",
    "glm_features = [\"Month\", \"Year\", \"Weighted_Latitude\", \"Weighted_Longitude\", \"WaterTemp\", \"Chlor_a_mg_m3\", \"SSH\", \"Depth\"]\n",
    "X_train_glm = train_df[glm_features]\n",
    "X_test_glm = test_df[glm_features]\n",
    "\n",
    "# One-hot encode Month and Year\n",
    "enc = OneHotEncoder(drop='first', sparse_output=False)\n",
    "X_train_encoded = enc.fit_transform(X_train_glm[[\"Month\", \"Year\"]])\n",
    "X_test_encoded = enc.transform(X_test_glm[[\"Month\", \"Year\"]])\n",
    "\n",
    "X_train_final = np.hstack([X_train_encoded, X_train_glm[[\"Weighted_Latitude\", \"Weighted_Longitude\", \"WaterTemp\", \"Chlor_a_mg_m3\", \"SSH\", \"Depth\"]].values])\n",
    "X_test_final = np.hstack([X_test_encoded, X_test_glm[[\"Weighted_Latitude\", \"Weighted_Longitude\", \"WaterTemp\", \"Chlor_a_mg_m3\", \"SSH\", \"Depth\"]].values])\n",
    "\n",
    "X_train_const = sm.add_constant(X_train_final)\n",
    "X_test_const = sm.add_constant(X_test_final)\n",
    "glm_model = sm.OLS(y_train, X_train_const).fit()\n",
    "glm_preds = glm_model.predict(X_test_const)"
   ]
  }
 ],
 "metadata": {
  "kernelspec": {
   "display_name": "Python 3",
   "language": "python",
   "name": "python3"
  },
  "language_info": {
   "codemirror_mode": {
    "name": "ipython",
    "version": 3
   },
   "file_extension": ".py",
   "mimetype": "text/x-python",
   "name": "python",
   "nbconvert_exporter": "python",
   "pygments_lexer": "ipython3",
   "version": "3.9.12"
  }
 },
 "nbformat": 4,
 "nbformat_minor": 5
}

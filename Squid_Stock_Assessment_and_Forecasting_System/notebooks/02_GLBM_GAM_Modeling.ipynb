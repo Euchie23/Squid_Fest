{
 "cells": [
  {
   "cell_type": "code",
   "execution_count": null,
   "id": "5382ebf3",
   "metadata": {},
   "outputs": [],
   "source": [
    "# Comparing Models (GAM and GLM) Using Squid CPUE Standardization and Forecasting \n",
    "\n",
    "# Lu et al. (2013) applied a Generalized Linear Bayesian Model (GLBM) to standardize CPUE for Illex argentinus, incorporating various environmental and spatial variables within a Bayesian framework. However, due to the increased computational complexity and the need for specialized probabilistic programming tools, this portfolio instead adopts a simplified, interpretable alternative: a linear GAM using ln(CPUE + c), inspired by the structure of Lu et al.'s model. This provides a practical balance between model flexibility and accessibility for exploratory analysis. ”\n",
    "# Lu et al's Generalized Linear Bayesian Model (GLBM) for standardized CPUE formula =ln(CPUE+c)=factor(year)+factor(month)+s(longitude)+s(latitude)+s(SST)+s(SSH)+s(Chl a)+ϵ. \n",
    "# in stock size of I. argentinus. The CPUE was assumed to be normally distributed and log-transformed with errors in the GLBM modelling.\"\n",
    "# - c = constant that was assumed to be 10% of the mean yearly CPUE\n",
    "# - Expected_Ln_CPUE=Intercept+∑(Coefficients X Predictors)\n",
    "# - Standardized CPUE = exp(Expected_Ln_CPUE)-c/exp(Expected_Ln_CPUE)-1 (for linear GAM) and just the predictions for GammaGAM and Tweedie GLM\n",
    "\n",
    "\n",
    "# --------------------------------------------------\n",
    "# This notebook trains and evaluates three variants of the GAM:\n",
    "# - GAM (Additive Model)\n",
    "# - Linear GAM (Generalized Additive Model _ log_CPUE_plus_1)\n",
    "# - Gamma GAM (Generalized Additive Model _ log_CPUE_plus_1)\n",
    "# and one GLM:\n",
    "# - Tweedie GLM (Generalized Linear Model with df=4 and var_power=2[Gamma_distribution])\n",
    "# using monthly CPUE, with full diagnostics."
   ]
  },
  {
   "cell_type": "code",
   "execution_count": 19,
   "id": "2ebaea48",
   "metadata": {},
   "outputs": [],
   "source": [
    "# Loading Modules\n",
    "import json\n",
    "import pandas as pd\n",
    "import matplotlib.pyplot as plt\n",
    "from matplotlib.ticker import MaxNLocator\n",
    "import numpy as np\n",
    "import os\n",
    "from patsy import bs\n",
    "import plotly.graph_objects as go\n",
    "import plotly.express as px\n",
    "from pygam import LinearGAM, s, f\n",
    "from pygam import GammaGAM, s, f\n",
    "from sklearn.metrics import mean_squared_error, mean_absolute_error\n",
    "from sklearn.model_selection import cross_val_score, KFold\n",
    "from sklearn.metrics import make_scorer, mean_squared_error\n",
    "from sklearn.preprocessing import StandardScaler\n",
    "import statsmodels.formula.api as smf\n",
    "import statsmodels.api as sm"
   ]
  },
  {
   "cell_type": "code",
   "execution_count": 3,
   "id": "bb7a6b2e",
   "metadata": {},
   "outputs": [
    {
     "data": {
      "text/html": [
       "<div>\n",
       "<style scoped>\n",
       "    .dataframe tbody tr th:only-of-type {\n",
       "        vertical-align: middle;\n",
       "    }\n",
       "\n",
       "    .dataframe tbody tr th {\n",
       "        vertical-align: top;\n",
       "    }\n",
       "\n",
       "    .dataframe thead th {\n",
       "        text-align: right;\n",
       "    }\n",
       "</style>\n",
       "<table border=\"1\" class=\"dataframe\">\n",
       "  <thead>\n",
       "    <tr style=\"text-align: right;\">\n",
       "      <th></th>\n",
       "      <th>POINTID</th>\n",
       "      <th>CTNO</th>\n",
       "      <th>Year</th>\n",
       "      <th>Month</th>\n",
       "      <th>Day</th>\n",
       "      <th>Lon</th>\n",
       "      <th>Lat</th>\n",
       "      <th>WaterTemp</th>\n",
       "      <th>SSH</th>\n",
       "      <th>Depth</th>\n",
       "      <th>Chlor_a_mg_m3</th>\n",
       "      <th>SqCatch_Kg</th>\n",
       "      <th>CPUE</th>\n",
       "    </tr>\n",
       "  </thead>\n",
       "  <tbody>\n",
       "    <tr>\n",
       "      <th>0</th>\n",
       "      <td>1</td>\n",
       "      <td>10001</td>\n",
       "      <td>2000</td>\n",
       "      <td>1</td>\n",
       "      <td>1</td>\n",
       "      <td>-60.758637</td>\n",
       "      <td>-46.297230</td>\n",
       "      <td>14.0</td>\n",
       "      <td>0.0201</td>\n",
       "      <td>80.0</td>\n",
       "      <td>0.903811</td>\n",
       "      <td>13922.858090</td>\n",
       "      <td>13922.858090</td>\n",
       "    </tr>\n",
       "    <tr>\n",
       "      <th>1</th>\n",
       "      <td>2</td>\n",
       "      <td>10001</td>\n",
       "      <td>2000</td>\n",
       "      <td>1</td>\n",
       "      <td>2</td>\n",
       "      <td>-60.589546</td>\n",
       "      <td>-46.319036</td>\n",
       "      <td>13.9</td>\n",
       "      <td>0.0201</td>\n",
       "      <td>85.0</td>\n",
       "      <td>0.903811</td>\n",
       "      <td>4284.774801</td>\n",
       "      <td>4284.774801</td>\n",
       "    </tr>\n",
       "    <tr>\n",
       "      <th>2</th>\n",
       "      <td>3</td>\n",
       "      <td>10001</td>\n",
       "      <td>2000</td>\n",
       "      <td>1</td>\n",
       "      <td>3</td>\n",
       "      <td>-60.653497</td>\n",
       "      <td>-46.096548</td>\n",
       "      <td>14.7</td>\n",
       "      <td>0.0201</td>\n",
       "      <td>85.0</td>\n",
       "      <td>0.903811</td>\n",
       "      <td>8263.649496</td>\n",
       "      <td>8263.649496</td>\n",
       "    </tr>\n",
       "    <tr>\n",
       "      <th>3</th>\n",
       "      <td>4</td>\n",
       "      <td>10001</td>\n",
       "      <td>2000</td>\n",
       "      <td>1</td>\n",
       "      <td>4</td>\n",
       "      <td>-60.697349</td>\n",
       "      <td>-45.962174</td>\n",
       "      <td>15.6</td>\n",
       "      <td>0.0201</td>\n",
       "      <td>85.0</td>\n",
       "      <td>0.903811</td>\n",
       "      <td>12870.823170</td>\n",
       "      <td>12870.823170</td>\n",
       "    </tr>\n",
       "    <tr>\n",
       "      <th>4</th>\n",
       "      <td>5</td>\n",
       "      <td>10001</td>\n",
       "      <td>2000</td>\n",
       "      <td>1</td>\n",
       "      <td>5</td>\n",
       "      <td>-60.691715</td>\n",
       "      <td>-46.148531</td>\n",
       "      <td>14.2</td>\n",
       "      <td>0.0201</td>\n",
       "      <td>90.0</td>\n",
       "      <td>0.903811</td>\n",
       "      <td>5637.852315</td>\n",
       "      <td>5637.852315</td>\n",
       "    </tr>\n",
       "  </tbody>\n",
       "</table>\n",
       "</div>"
      ],
      "text/plain": [
       "   POINTID   CTNO  Year  Month  Day        Lon        Lat  WaterTemp     SSH  \\\n",
       "0        1  10001  2000      1    1 -60.758637 -46.297230       14.0  0.0201   \n",
       "1        2  10001  2000      1    2 -60.589546 -46.319036       13.9  0.0201   \n",
       "2        3  10001  2000      1    3 -60.653497 -46.096548       14.7  0.0201   \n",
       "3        4  10001  2000      1    4 -60.697349 -45.962174       15.6  0.0201   \n",
       "4        5  10001  2000      1    5 -60.691715 -46.148531       14.2  0.0201   \n",
       "\n",
       "   Depth  Chlor_a_mg_m3    SqCatch_Kg          CPUE  \n",
       "0   80.0       0.903811  13922.858090  13922.858090  \n",
       "1   85.0       0.903811   4284.774801   4284.774801  \n",
       "2   85.0       0.903811   8263.649496   8263.649496  \n",
       "3   85.0       0.903811  12870.823170  12870.823170  \n",
       "4   90.0       0.903811   5637.852315   5637.852315  "
      ]
     },
     "execution_count": 3,
     "metadata": {},
     "output_type": "execute_result"
    }
   ],
   "source": [
    "# Load and prepare data\n",
    "df = pd.read_csv(\"../data/Final_dataset.csv\")\n",
    "required_cols = [\"SqCatch_Kg\", \"Depth\", \"Lat\", \"Lon\", \"WaterTemp\", \"Chlor_a_mg_m3\", \"Month\", \"Year\", \"Day\", \"SSH\"]\n",
    "df.dropna(subset=required_cols, inplace=True)\n",
    "\n",
    "# Filter for Jan–June\n",
    "df = df[df[\"Month\"].between(1, 6)]\n",
    "\n",
    "# Create CPUE per day\n",
    "df[\"CPUE\"] = df[\"SqCatch_Kg\"] \n",
    "df.head()\n"
   ]
  },
  {
   "cell_type": "code",
   "execution_count": 21,
   "id": "0d0b90d8",
   "metadata": {},
   "outputs": [],
   "source": [
    "\n",
    "model_summary_data = [\n",
    "    {\n",
    "        \"Model_Name\": \"LinearGAM_log_CPUE_plus_c\",\n",
    "        \"Distribution\": \"Normal\",\n",
    "        \"Link_Function\": \"Identity\",\n",
    "        \"Target\": \"log(CPUE + c)\",\n",
    "        \"Notes\": \"Log transform with constant c to avoid log(0)\"\n",
    "    },\n",
    "    {\n",
    "        \"Model_Name\": \"LinearGAM_log_CPUE_plus_1\",\n",
    "        \"Distribution\": \"Normal\",\n",
    "        \"Link_Function\": \"Identity\",\n",
    "        \"Target\": \"log(CPUE + 1)\",\n",
    "        \"Notes\": \"Log transform with +1\"\n",
    "    },\n",
    "    {\n",
    "        \"Model_Name\": \"GammaGAM_CPUE\",\n",
    "        \"Distribution\": \"Gamma\",\n",
    "        \"Link_Function\": \"Log\",\n",
    "        \"Target\": \"CPUE\",\n",
    "        \"Notes\": \"Used Gamma distribution for skewed CPUE\"\n",
    "    },\n",
    "    {\n",
    "        \"Model_Name\": \"TweedieGLM_CPUE\",\n",
    "        \"Distribution\": \"Tweedie\",\n",
    "        \"Link_Function\": \"Log\",\n",
    "        \"Target\": \"CPUE\",\n",
    "        \"Notes\": \"Tweedie GLM for zero-inflated CPUE\"\n",
    "    }\n",
    "]\n",
    "\n",
    "model_summary = pd.DataFrame(model_summary_data)\n",
    "model_summary.to_csv(\"../results/summaries/model_summary.csv\", index=False)\n"
   ]
  },
  {
   "cell_type": "code",
   "execution_count": 4,
   "id": "c3432a4b",
   "metadata": {},
   "outputs": [
    {
     "data": {
      "text/html": [
       "<div>\n",
       "<style scoped>\n",
       "    .dataframe tbody tr th:only-of-type {\n",
       "        vertical-align: middle;\n",
       "    }\n",
       "\n",
       "    .dataframe tbody tr th {\n",
       "        vertical-align: top;\n",
       "    }\n",
       "\n",
       "    .dataframe thead th {\n",
       "        text-align: right;\n",
       "    }\n",
       "</style>\n",
       "<table border=\"1\" class=\"dataframe\">\n",
       "  <thead>\n",
       "    <tr style=\"text-align: right;\">\n",
       "      <th></th>\n",
       "      <th>Year</th>\n",
       "      <th>Month</th>\n",
       "      <th>TotalCatch</th>\n",
       "      <th>DaysFished</th>\n",
       "      <th>Monthly_CPUE</th>\n",
       "      <th>WaterTemp</th>\n",
       "      <th>Depth</th>\n",
       "      <th>Weighted_Latitude</th>\n",
       "      <th>Weighted_Longitude</th>\n",
       "      <th>SSH</th>\n",
       "      <th>Chlor_a_mg_m3</th>\n",
       "    </tr>\n",
       "  </thead>\n",
       "  <tbody>\n",
       "    <tr>\n",
       "      <th>0</th>\n",
       "      <td>2000</td>\n",
       "      <td>1</td>\n",
       "      <td>2.588951e+07</td>\n",
       "      <td>2177</td>\n",
       "      <td>11892.288772</td>\n",
       "      <td>13.772538</td>\n",
       "      <td>76.641709</td>\n",
       "      <td>-46.533534</td>\n",
       "      <td>-60.723543</td>\n",
       "      <td>0.0201</td>\n",
       "      <td>0.903811</td>\n",
       "    </tr>\n",
       "    <tr>\n",
       "      <th>1</th>\n",
       "      <td>2000</td>\n",
       "      <td>2</td>\n",
       "      <td>6.305128e+07</td>\n",
       "      <td>2737</td>\n",
       "      <td>23036.638502</td>\n",
       "      <td>13.234984</td>\n",
       "      <td>78.006577</td>\n",
       "      <td>-47.162833</td>\n",
       "      <td>-61.276076</td>\n",
       "      <td>0.0178</td>\n",
       "      <td>1.546665</td>\n",
       "    </tr>\n",
       "    <tr>\n",
       "      <th>2</th>\n",
       "      <td>2000</td>\n",
       "      <td>3</td>\n",
       "      <td>7.175835e+07</td>\n",
       "      <td>2944</td>\n",
       "      <td>24374.440194</td>\n",
       "      <td>12.151003</td>\n",
       "      <td>84.641644</td>\n",
       "      <td>-47.567805</td>\n",
       "      <td>-60.756138</td>\n",
       "      <td>0.0150</td>\n",
       "      <td>0.690164</td>\n",
       "    </tr>\n",
       "    <tr>\n",
       "      <th>3</th>\n",
       "      <td>2000</td>\n",
       "      <td>4</td>\n",
       "      <td>3.532778e+07</td>\n",
       "      <td>2822</td>\n",
       "      <td>12518.701380</td>\n",
       "      <td>10.106035</td>\n",
       "      <td>96.687810</td>\n",
       "      <td>-48.823479</td>\n",
       "      <td>-61.871991</td>\n",
       "      <td>0.0097</td>\n",
       "      <td>0.591688</td>\n",
       "    </tr>\n",
       "    <tr>\n",
       "      <th>4</th>\n",
       "      <td>2000</td>\n",
       "      <td>5</td>\n",
       "      <td>2.437390e+07</td>\n",
       "      <td>2739</td>\n",
       "      <td>8898.831789</td>\n",
       "      <td>8.781864</td>\n",
       "      <td>107.336254</td>\n",
       "      <td>-47.660462</td>\n",
       "      <td>-61.109375</td>\n",
       "      <td>0.0109</td>\n",
       "      <td>0.442545</td>\n",
       "    </tr>\n",
       "  </tbody>\n",
       "</table>\n",
       "</div>"
      ],
      "text/plain": [
       "   Year  Month    TotalCatch  DaysFished  Monthly_CPUE  WaterTemp       Depth  \\\n",
       "0  2000      1  2.588951e+07        2177  11892.288772  13.772538   76.641709   \n",
       "1  2000      2  6.305128e+07        2737  23036.638502  13.234984   78.006577   \n",
       "2  2000      3  7.175835e+07        2944  24374.440194  12.151003   84.641644   \n",
       "3  2000      4  3.532778e+07        2822  12518.701380  10.106035   96.687810   \n",
       "4  2000      5  2.437390e+07        2739   8898.831789   8.781864  107.336254   \n",
       "\n",
       "   Weighted_Latitude  Weighted_Longitude     SSH  Chlor_a_mg_m3  \n",
       "0         -46.533534          -60.723543  0.0201       0.903811  \n",
       "1         -47.162833          -61.276076  0.0178       1.546665  \n",
       "2         -47.567805          -60.756138  0.0150       0.690164  \n",
       "3         -48.823479          -61.871991  0.0097       0.591688  \n",
       "4         -47.660462          -61.109375  0.0109       0.442545  "
      ]
     },
     "execution_count": 4,
     "metadata": {},
     "output_type": "execute_result"
    }
   ],
   "source": [
    "# Compute Monthly CPUE\n",
    "monthly_cpue = (\n",
    "    df.groupby([\"Year\", \"Month\"])\n",
    "    .agg(\n",
    "        TotalCatch=(\"CPUE\", \"sum\"),\n",
    "        DaysFished=(\"Day\", \"count\")\n",
    "    )\n",
    "    .reset_index()\n",
    ")\n",
    "monthly_cpue[\"Monthly_CPUE\"] = monthly_cpue[\"TotalCatch\"] / monthly_cpue[\"DaysFished\"]\n",
    "monthly_cpue.sort_values([\"Year\", \"Month\"], inplace=True)\n",
    "\n",
    "monthly_cpue.to_csv(\"../results/summaries/monthly_cpue.csv\", index=False)\n",
    "\n",
    "# Compute weighted average Latitude and Longitude per Year and Month\n",
    "def weighted_mean(group, value_col, weight_col):\n",
    "    return (group[value_col] * group[weight_col]).sum() / group[weight_col].sum()\n",
    "\n",
    "weighted_coords = (\n",
    "    df.groupby([\"Year\", \"Month\"])\n",
    "    .apply(lambda g: pd.Series({\n",
    "        \"Weighted_Latitude\": weighted_mean(g, \"Lat\", \"CPUE\"),\n",
    "        \"Weighted_Longitude\": weighted_mean(g, \"Lon\", \"CPUE\")\n",
    "    }))\n",
    "    .reset_index()\n",
    ")\n",
    "\n",
    "# Merge back with features\n",
    "ftba = [\"WaterTemp\", \"Depth\"] # \"ftba\" stands for features to be avergaed\n",
    "aaf = [\"SSH\", \"Chlor_a_mg_m3\"] # \"aaf\" stands for already avergaed features\n",
    "\n",
    "#Creating dataframes to merge after grouping them by months.\n",
    "averaged_features = df.groupby([\"Year\", \"Month\"])[ftba].mean().reset_index()\n",
    "already_averaged = df.groupby([\"Year\", \"Month\"])[aaf].first().reset_index()\n",
    "data = monthly_cpue.merge(averaged_features, on=[\"Year\", \"Month\"]).merge(weighted_coords, on=[\"Year\", \"Month\"]).merge(already_averaged, on=[\"Year\", \"Month\"])\n",
    "data.head()"
   ]
  },
  {
   "cell_type": "code",
   "execution_count": 5,
   "id": "e6ab0f6f",
   "metadata": {},
   "outputs": [
    {
     "name": "stdout",
     "output_type": "stream",
     "text": [
      "Since there are:0 values out of 110 then it would be best to proceed with GammaGam and maybe consider TweedieGAM for outliers\n"
     ]
    }
   ],
   "source": [
    "# Log-transform CPUE for Linear GAM (with c = 10% of mean yearly CPUE)\n",
    "yearly_mean_cpue = (\n",
    "    data.groupby(\"Year\")[\"Monthly_CPUE\"].mean()\n",
    ")\n",
    "yearly_mean_cpue.name = \"Yearly_Mean_CPUE\"\n",
    "\n",
    "# Merge back to full data\n",
    "data_df =  data.merge(yearly_mean_cpue, on=\"Year\")\n",
    "\n",
    "# finding 10% of Yearly_Mean_CPUE(constant/c) in data to avoid zero when log-transforming CPUE\n",
    "data_df[\"c\"] =  0.1 * data_df[\"Yearly_Mean_CPUE\"]\n",
    "\n",
    "#log Transforming the monthly CPUE + c then adding it to a new column in the full df\n",
    "data_df[\"Log_CPUE_plus_c\"] = np.log(data_df[\"Monthly_CPUE\"] + data_df[\"c\"])\n",
    "\n",
    "\n",
    "#log Transforming the monthly CPUE + 1 then adding it to a new column in the full df\n",
    "data_df[\"Log_CPUE_plus_1\"] = np.log(data_df[\"Monthly_CPUE\"] + 1)\n",
    "\n",
    "\n",
    "# Features and Target\n",
    "glbm_features = [\"Month\", \"Year\", \"Weighted_Latitude\", \"Weighted_Longitude\", \"WaterTemp\", \"Chlor_a_mg_m3\", \"SSH\", \"Depth\"]\n",
    "\n",
    "# setting the \"Year\" column as integer\n",
    "data_df[\"Year\"] = data_df[\"Year\"].astype(int)\n",
    "\n",
    "\n",
    "#Making a copy of the full dataset for standardization\n",
    "full_df = data_df\n",
    "\n",
    "\n",
    "\n",
    "#Double checking if there are values that are zero or below in the full dataframe to know which methid aside from linear GAM takes priority for predictions\n",
    "num_values_zero_and_below = (full_df[\"Monthly_CPUE\"] <= 0).sum()\n",
    "total_values = len(full_df[\"Monthly_CPUE\"])\n",
    "\n",
    "if num_values_zero_and_below == 0:\n",
    "    print(f\"Since there are:{num_values_zero_and_below} values out of {total_values} then it would be best to proceed with GammaGam and maybe consider TweedieGAM for outliers\")\n",
    "else:\n",
    "    print(f\"Since there are:{num_values_zero_and_below} values out of {total_values} then it would be best to proceed with TweedieGam\")\n",
    "\n",
    "# Split: 2000-2014 (train), 2015-2020 (test)\n",
    "train_df = full_df[full_df[\"Year\"] < 2014].copy()\n",
    "test_df = full_df[full_df[\"Year\"] >= 2015].copy()\n",
    "#y_test = test_df[\"Monthly_CPUE\"]  # for evaluation"
   ]
  },
  {
   "cell_type": "code",
   "execution_count": 6,
   "id": "19d18395",
   "metadata": {},
   "outputs": [],
   "source": [
    "# Standardization Using LinearGAM (GLBM)(log(CPUE + c))\n",
    "# Features and Target\n",
    "features = [\"Month\", \"Year\", \"Weighted_Latitude\", \"Weighted_Longitude\", \"WaterTemp\", \"Chlor_a_mg_m3\", \"SSH\", \"Depth\"]\n",
    "\n",
    "#Making a copy of the full dataset for standardization\n",
    "full_df = data_df\n",
    "\n",
    "#Subsetting full_df for only the features we would need to train the data\n",
    "X_all = full_df[features]\n",
    "\n",
    "# Target for LinearGAM \n",
    "y_all = full_df[\"Log_CPUE_plus_c\"]\n",
    "\n",
    "# Fit GLBM (GAM-like structure)\n",
    "linear_gam_c_std = LinearGAM(f(0) + f(1) + s(2) + s(3) + s(4) + s(5) + s(6) + s(7))\n",
    "\n",
    "# Fit the model on full data\n",
    "linear_gam_c_std.fit(X_all, y_all)\n",
    "\n",
    "# Predict standardized log(CPUE + c) for every row\n",
    "linear_gam_c_all = linear_gam_c_std.predict(X_all)\n",
    "\n",
    "# Back-transform to standardized CPUE\n",
    "standardized_log_cpueC = np.exp(linear_gam_c_all) - full_df[\"c\"]\n",
    "\n",
    "# Store result\n",
    "full_df[\"Standardized_log_cpueC\"] = standardized_log_cpueC\n"
   ]
  },
  {
   "cell_type": "code",
   "execution_count": 7,
   "id": "1a697f5b",
   "metadata": {},
   "outputs": [],
   "source": [
    "# Standardization Using Linear_GAM (log(CPUE + 1))\n",
    "# Select features used in the model \n",
    "features = [\"Year\", \"Month\", \"Weighted_Latitude\", \"Weighted_Longitude\", \"WaterTemp\", \"Depth\"]\n",
    "X_all = full_df[features]\n",
    "\n",
    "# Target for LinearGAM \n",
    "y_all = full_df[\"Log_CPUE_plus_1\"]\n",
    "\n",
    "# Fit the GAM model on full data\n",
    "linear_gam_1_std = LinearGAM(s(0) + s(1) + s(2) + s(3) + s(4) + s(5)).fit(X_all, y_all)\n",
    "\n",
    "# Predict on all data (standardized log(CPUE + 1))\n",
    "linear_gam_1_all = linear_gam_1_std.predict(X_all)\n",
    "\n",
    "# Back-transform to CPUE\n",
    "standardized_log_cpue1 = np.exp(linear_gam_1_all) - 1\n",
    "\n",
    "# Store result\n",
    "full_df[\"Standardized_log_cpue1\"] = standardized_log_cpue1\n",
    "\n"
   ]
  },
  {
   "cell_type": "code",
   "execution_count": 8,
   "id": "b79a4fbc",
   "metadata": {},
   "outputs": [],
   "source": [
    "# Standardization Using GammaGAM\n",
    "# Features and Target\n",
    "features = [\"Month\", \"Year\", \"Weighted_Latitude\", \"Weighted_Longitude\", \"WaterTemp\", \"Chlor_a_mg_m3\", \"SSH\", \"Depth\"]\n",
    "\n",
    "\n",
    "# Features\n",
    "X_all = full_df[features]\n",
    "\n",
    "# Target for GammaGAM (no log-transform needed)\n",
    "y_all = full_df[\"Monthly_CPUE\"]\n",
    "\n",
    "# Fit GammaGAM\n",
    "# Because CPUE can vary sharply between months (e.g., seasonal fishing behavior, spawning), we will use a factor for flexibility.\n",
    "# Since years often follow a longer trend (e.g., stock depletion, climate change) we will use a spline to prevent overfitting the yearly spikes and ensure better generalization to other years. This was seen in the trend from the time series EDA we could have seen that the yearly spikes are real but rare .\n",
    "gamma_gam_std = GammaGAM(f(0) + s(1) + s(2) + s(3) + s(4) + s(5) + s(6) + s(7))\n",
    "gamma_gam_std.fit(X_all, y_all)\n",
    "\n",
    "# Predict CPUE \n",
    "gamma_gam_std_all = gamma_gam_std.predict(X_all)\n",
    "\n",
    "# Subtract the constant to get back standardized CPUE\n",
    "standardized_cpue_GammaGAM = gamma_gam_std_all \n",
    "\n",
    "# Store result\n",
    "full_df[\"Standardized_CPUE_GammaGAM\"] = standardized_cpue_GammaGAM\n"
   ]
  },
  {
   "cell_type": "code",
   "execution_count": 9,
   "id": "6065107d",
   "metadata": {},
   "outputs": [],
   "source": [
    "# Standardization Using tweedieglm\n",
    "# Create the formula with splines\n",
    "formula = \"\"\"\n",
    "Monthly_CPUE ~ C(Month) + bs(Year, df=6) + bs(Weighted_Latitude, df=6) +\n",
    " bs(Weighted_Longitude, df=6) + bs(WaterTemp, df=6) + \n",
    "bs(Chlor_a_mg_m3, df=6) + bs(SSH, df=6) + bs(Depth, df=6)\n",
    "\"\"\"\n",
    "\n",
    "# Fit the model\n",
    "tweedie_glm = smf.glm(formula=formula, data=full_df,\n",
    "family=sm.families.Tweedie(var_power=1.5, link=sm.families.links.log())).fit()\n",
    "\n",
    "# Predict\n",
    "full_df[\"Standardized_CPUE_tweedieglm\"] = tweedie_glm.predict(full_df)\n",
    "\n"
   ]
  },
  {
   "cell_type": "code",
   "execution_count": 10,
   "id": "e81b66ec",
   "metadata": {},
   "outputs": [
    {
     "name": "stdout",
     "output_type": "stream",
     "text": [
      "Negative predictions: 10 out of 29 (34.48%)\n"
     ]
    }
   ],
   "source": [
    "# Prediction Using LinearGAM (GLBM)(log(CPUE + c))\n",
    "# Features and Target\n",
    "features = [\"Month\", \"Year\", \"Weighted_Latitude\", \"Weighted_Longitude\", \"WaterTemp\", \"Chlor_a_mg_m3\", \"SSH\", \"Depth\"]\n",
    "X_train = train_df[features]\n",
    "X_test = test_df[features]\n",
    "\n",
    "#log transforming data for training\n",
    "y_train = np.log(train_df[\"Monthly_CPUE\"] + train_df[\"c\"])\n",
    "y_test_linear = test_df[\"Monthly_CPUE\"]  # for evaluation\n",
    "\n",
    "# Fit GLBM (GAM-like structure)\n",
    "linear_gam_c_prd = LinearGAM(s(0) + s(1) + s(2) + s(3) + s(4) + s(5) + s(6) + s(7))\n",
    "\n",
    "# Train the model on part of the data\n",
    "linear_gam_c_prd.fit(X_train, y_train)\n",
    "\n",
    "# Predict log(CPUE + c) on test set\n",
    "linear_gam_c_preds = linear_gam_c_prd.predict(X_test)\n",
    "\n",
    "#Saving constant column for evaluation\n",
    "lin_gam_c = test_df[\"c\"]\n",
    "\n",
    "# Back-transform to predicted CPUE (standardized)\n",
    "linear_gam_c_preds_all = np.exp(linear_gam_c_preds) - lin_gam_c\n",
    "\n",
    "#checking the amount of negatives values for glbm_preds\n",
    "num_negatives = (linear_gam_c_preds_all < 0).sum()\n",
    "total_preds = len(linear_gam_c_preds_all)\n",
    "percent_negative = (num_negatives / total_preds) * 100\n",
    "\n",
    "print(f\"Negative predictions: {num_negatives} out of {total_preds} ({percent_negative:.2f}%)\")\n",
    "\n",
    "# 6 out of 29 predictions (20.69%) being negative means that about 1 in 5 predictions is unusable — which can bias results and understate CPUE trends hence why we clip to 0.\n",
    "# The current LinearGAM with log-transformed CPUE (log(CPUE + c)) is not modeling the data well enough to avoid invalid predictions.\n",
    "\n",
    "linear_gam_c_preds_all = linear_gam_c_preds_all.clip(lower=0)\n"
   ]
  },
  {
   "cell_type": "code",
   "execution_count": 11,
   "id": "e26170a8",
   "metadata": {},
   "outputs": [],
   "source": [
    "# Prediction Using LinearGAM GAM (log(CPUE + 1))\n",
    "\n",
    "# Select features used in the model\n",
    "features = [\"Year\", \"Month\",\"Weighted_Latitude\", \"Weighted_Longitude\", \"WaterTemp\", \"Depth\"]\n",
    "\n",
    "X_train = train_df[features]\n",
    "X_test = test_df[features]\n",
    "\n",
    "#log transforming data for training\n",
    "y_train = np.log(train_df[\"Monthly_CPUE\"] + 1)\n",
    "y_test_linear = test_df[\"Monthly_CPUE\"]  # for evaluation\n",
    "\n",
    "# Fit GAM\n",
    "linear_gam_1_prd = LinearGAM(s(0) + s(1) + s(2) + s(3) + s(4) + s(5)).fit(X_train, y_train)\n",
    "\n",
    "# Predict on test\n",
    "linear_gam_1_preds = linear_gam_1_prd.predict(X_test)\n",
    "linear_gam_1_preds_all = np.exp(linear_gam_1_preds) - 1\n"
   ]
  },
  {
   "cell_type": "code",
   "execution_count": 12,
   "id": "ff0bd479",
   "metadata": {},
   "outputs": [],
   "source": [
    "# Prediction Using GammaGAM (general additive model, with spline automation defined only for positive and continuous outcomes)\n",
    "# Features and Target\n",
    "features = [\"Month\", \"Year\", \"Weighted_Latitude\", \"Weighted_Longitude\", \"WaterTemp\", \"Chlor_a_mg_m3\", \"SSH\", \"Depth\"]\n",
    "X_train = train_df[features]\n",
    "X_test = test_df[features]\n",
    "\n",
    "# Ensuring strictly positive CPUE by adding a small constant \n",
    "y_train = train_df[\"Monthly_CPUE\"]\n",
    "y_test_gamma = test_df[\"Monthly_CPUE\"]  # for evaluation\n",
    "\n",
    "# Training the model on part of the data (raw data)\n",
    "gamma_gam_prd = GammaGAM(s(0) + s(1) + s(2) + s(3) + s(4) + s(5) + s(6) + s(7)).fit(X_train, y_train)\n",
    "\n",
    "# Predict log(CPUE + c_glbm) on test set\n",
    "gamma_gam_preds = gamma_gam_prd.predict(X_test)"
   ]
  },
  {
   "cell_type": "code",
   "execution_count": 13,
   "id": "ac33f547",
   "metadata": {},
   "outputs": [],
   "source": [
    "# Prediction Using tweedie_glm (glm with spline felxibility basis spline and full statitical output model, defined only for positive and continuous outcomes)\n",
    "# Combine train and test for formula evaluation (since formula uses string-based feature names)\n",
    "train_df[\"split\"] = \"train\"\n",
    "test_df[\"split\"] = \"test\"\n",
    "\n",
    "# Combine train and test\n",
    "combined_df = pd.concat([train_df, test_df])\n",
    "test_df_tw = combined_df[combined_df[\"split\"] == \"test\"]\n",
    "\n",
    "y_test_tweedie = test_df_tw[\"Monthly_CPUE\"]  # for evaluation\n",
    "\n",
    "# Explicit bounds based on the full data\n",
    "# Reducing the degrees of freedom from 6 to 3 makes the spline smoother and less flexible, which often helps the model generalize better and thus improves the RMSE and MAE\n",
    "def bounded_bspline(var, df=4):\n",
    "    return f\"bs({var}, df={df}, degree=3, include_intercept=False, \" \\\n",
    "           f\"lower_bound={combined_df[var].min()}, upper_bound={combined_df[var].max()})\"\n",
    "\n",
    "# Updated formula with explicit bounds\n",
    "formula = (\n",
    "    \"Monthly_CPUE ~ C(Month) + \" +\n",
    "    bounded_bspline(\"Year\") + \" + \" +\n",
    "    bounded_bspline(\"Weighted_Latitude\") + \" + \" +\n",
    "    bounded_bspline(\"Weighted_Longitude\") + \" + \" +\n",
    "    bounded_bspline(\"WaterTemp\") + \" + \" +\n",
    "    bounded_bspline(\"Chlor_a_mg_m3\") + \" + \" +\n",
    "    bounded_bspline(\"SSH\") + \" + \" +\n",
    "    bounded_bspline(\"Depth\")\n",
    ")\n",
    "\n",
    "# Fit using training data\n",
    "tweedie_glm = smf.glm(formula=formula,\n",
    "                      data=combined_df[combined_df[\"split\"] == \"train\"],\n",
    "                      family=sm.families.Tweedie(var_power=2, link=sm.families.links.log())).fit()\n",
    "\n",
    "# Predict on test data\n",
    "tweedie_glm_pred = tweedie_glm.predict(combined_df[combined_df[\"split\"] == \"test\"])"
   ]
  },
  {
   "cell_type": "code",
   "execution_count": 14,
   "id": "142d3a0a",
   "metadata": {},
   "outputs": [],
   "source": [
    "# Prediction Using tweedie_glm (glm with spline felxibility basis spline and full statitical output model, defined only for positive and continuous outcomes)\n",
    "# Combine train and test for formula evaluation (since formula uses string-based feature names)\n",
    "train_df[\"split\"] = \"train\"\n",
    "test_df[\"split\"] = \"test\"\n",
    "\n",
    "# Combine train and test\n",
    "combined_df = pd.concat([train_df, test_df])\n",
    "\n",
    "\n",
    "# Define which variables to scale (your spline terms)\n",
    "vars_to_scale = [\n",
    "    \"Month\", \"Year\", \"Weighted_Latitude\", \"Weighted_Longitude\",\n",
    "    \"WaterTemp\", \"Chlor_a_mg_m3\", \"SSH\", \"Depth\"\n",
    "]\n",
    "\n",
    "# Fit scaler on training data only\n",
    "scaler = StandardScaler()\n",
    "combined_df.loc[combined_df[\"split\"] == \"train\", vars_to_scale] = scaler.fit_transform(\n",
    "    combined_df.loc[combined_df[\"split\"] == \"train\", vars_to_scale]\n",
    ")\n",
    "\n",
    "# Apply same transformation to test data\n",
    "combined_df.loc[combined_df[\"split\"] == \"test\", vars_to_scale] = scaler.transform(\n",
    "    combined_df.loc[combined_df[\"split\"] == \"test\", vars_to_scale]\n",
    ")\n",
    "\n",
    "\n",
    "# Clip test values to ensure they fall within training range (for safe spline application)\n",
    "for var in vars_to_scale:\n",
    "    train_min = combined_df.loc[combined_df[\"split\"] == \"train\", var].min()\n",
    "    train_max = combined_df.loc[combined_df[\"split\"] == \"train\", var].max()\n",
    "    combined_df.loc[combined_df[\"split\"] == \"test\", var] = combined_df.loc[\n",
    "        combined_df[\"split\"] == \"test\", var\n",
    "    ].clip(lower=train_min, upper=train_max)\n",
    "\n",
    "\n",
    "\n",
    "# Saving test variable  \n",
    "test_df_tw = combined_df[combined_df[\"split\"] == \"test\"]\n",
    "y_test_tweedie = test_df_tw[\"Monthly_CPUE\"]  # for evaluation\n",
    "\n",
    "\n",
    "# Explicit bounds based on the full data\n",
    "# Reducing the degrees of freedom from 6 to 3 makes the spline smoother and less flexible, which often helps the model generalize better and thus improves the RMSE and MAE\n",
    "def bounded_bspline(var, df=4):\n",
    "    train_vals = combined_df[combined_df[\"split\"] == \"train\"][var]\n",
    "    return (\n",
    "        f\"bs({var}, df={df}, degree=3, include_intercept=False, \"\n",
    "        f\"lower_bound={train_vals.min()}, upper_bound={train_vals.max()})\"\n",
    "    )\n",
    "\n",
    "# Updated formula with explicit bounds\n",
    "formula = (\n",
    "    \"Monthly_CPUE ~ C(Month) + \" +\n",
    "    bounded_bspline(\"Year\") + \" + \" +\n",
    "    bounded_bspline(\"Weighted_Latitude\") + \" + \" +\n",
    "    bounded_bspline(\"Weighted_Longitude\") + \" + \" +\n",
    "    bounded_bspline(\"WaterTemp\") + \" + \" +\n",
    "    bounded_bspline(\"Chlor_a_mg_m3\") + \" + \" +\n",
    "    bounded_bspline(\"SSH\") + \" + \" +\n",
    "    bounded_bspline(\"Depth\")\n",
    ")\n",
    "\n",
    "# Fit using training data\n",
    "tweedie_glm = smf.glm(formula=formula,\n",
    "                      data=combined_df[combined_df[\"split\"] == \"train\"],\n",
    "                      family=sm.families.Tweedie(var_power=2, link=sm.families.links.log())).fit()\n",
    "\n",
    "# Predict on test data\n",
    "tweedie_glm_pred = tweedie_glm.predict(combined_df[combined_df[\"split\"] == \"test\"])"
   ]
  },
  {
   "cell_type": "code",
   "execution_count": 15,
   "id": "5d8125d1",
   "metadata": {},
   "outputs": [
    {
     "name": "stdout",
     "output_type": "stream",
     "text": [
      "LinearGAM_c Mean RMSE: 12538.322756126652\n",
      "LinearGAM_1 Mean RMSE: 13731.35536152771\n",
      "GammaGAM Mean RMSE: 11316.122032399859\n",
      "TweedieGAM Mean RMSE: 11942.236933395388\n"
     ]
    }
   ],
   "source": [
    "\n",
    "#Cross Validation (RMSE) using 5 folds\n",
    "\n",
    "# Scoring function for RMSE:\n",
    "def compute_rmse(y_true, y_pred):\n",
    "    return np.sqrt(mean_squared_error(y_true, y_pred))\n",
    "\n",
    "rmse_scorer = make_scorer(compute_rmse, greater_is_better=False)\n",
    "\n",
    "\n",
    "# LinearGAM (log-transformed CPUE + c)\n",
    "features_c = [\"Month\", \"Year\", \"Weighted_Latitude\", \"Weighted_Longitude\", \"WaterTemp\", \"Chlor_a_mg_m3\", \"SSH\", \"Depth\"]\n",
    "X = data_df[features_c].values\n",
    "y = data_df[\"Log_CPUE_plus_c\"].values\n",
    "c_series = full_df[\"c\"].values  # full Series of c values (same length as X)\n",
    "\n",
    "# Set up 5-fold CV\n",
    "kf = KFold(n_splits=5, shuffle=True, random_state=42)\n",
    "\n",
    "lin_gam_c_rmse_scores = []\n",
    "\n",
    "# Manual CV loop\n",
    "for train_index, test_index in kf.split(X):\n",
    "    X_train, X_test = X[train_index], X[test_index]\n",
    "    y_train, y_test = y[train_index], y[test_index]\n",
    "    c_test = c_series[test_index]  # ✨ Grab matching c values for the test se\n",
    "    gam = LinearGAM(s(0) + s(1) + s(2) + s(3) + s(4) + s(5) + s(6) + s(7))\n",
    "    gam.fit(X_train, y_train)\n",
    "    lin_gam_c_preds = gam.predict(X_test)\n",
    "    lin_gam_c_preds_all = np.exp(lin_gam_c_preds) - c_test\n",
    "    rmse = np.sqrt(mean_squared_error(y_test, lin_gam_c_preds_all))\n",
    "    lin_gam_c_rmse_scores.append(rmse)\n",
    "\n",
    "print(\"LinearGAM_c Mean RMSE:\", np.mean(lin_gam_c_rmse_scores))\n",
    "\n",
    "# LinearGAM (log-transformed CPUE + 1)\n",
    "features_1 = [\"Year\", \"Month\", \"Weighted_Latitude\", \"Weighted_Longitude\", \"WaterTemp\", \"Depth\"]\n",
    "X = data_df[features_1].values\n",
    "y = data_df[\"Log_CPUE_plus_1\"].values\n",
    "\n",
    "# Set up 5-fold CV\n",
    "kf = KFold(n_splits=5, shuffle=True, random_state=42)\n",
    "\n",
    "lin_gam_1_rmse_scores = []\n",
    "\n",
    "# Manual CV loop\n",
    "for train_index, test_index in kf.split(X):\n",
    "    X_train, X_test = X[train_index], X[test_index]\n",
    "    y_train, y_test = y[train_index], y[test_index]\n",
    "\n",
    "    gam = LinearGAM(s(0) + s(1) + s(2) + s(3) + s(4) + s(5))\n",
    "    gam.fit(X_train, y_train)\n",
    "    lin_gam_c_preds = gam.predict(X_test)\n",
    "    lin_gam_1_preds_all = np.exp(lin_gam_c_preds) - 1\n",
    "    rmse = np.sqrt(mean_squared_error(y_test,lin_gam_1_preds_all))\n",
    "    lin_gam_1_rmse_scores.append(rmse)\n",
    "\n",
    "print(\"LinearGAM_1 Mean RMSE:\", np.mean(lin_gam_1_rmse_scores))\n",
    "\n",
    "#GammaGAM (raw CPUE, no log)\n",
    "X = data_df[features_c]\n",
    "y = data_df[\"Monthly_CPUE\"]\n",
    "gam_gamma = GammaGAM(f(0) + s(1) + s(2) + s(3) + s(4) + s(5) + s(6) + s(7))\n",
    "scores_gamma = cross_val_score(gam_gamma, X, y, cv=5, scoring=rmse_scorer)\n",
    "print(\"GammaGAM Mean RMSE:\", -np.mean(scores_gamma))\n",
    "\n",
    "\n",
    "#TweedieGAM (raw CPUE, more robust to outliers)\n",
    "\n",
    "# List of spline-transformed variables\n",
    "vars_to_scale = [\n",
    "    \"Month\", \"Year\", \"Weighted_Latitude\", \"Weighted_Longitude\",\n",
    "    \"WaterTemp\", \"Chlor_a_mg_m3\", \"SSH\", \"Depth\"\n",
    "]\n",
    "\n",
    "tweedie_rmse_scores = []\n",
    "\n",
    "kf = KFold(n_splits=5, shuffle=True, random_state=42)\n",
    "\n",
    "for train_index, test_index in kf.split(X):\n",
    "    X_train, X_test = X.iloc[train_index].copy(), X.iloc[test_index].copy()\n",
    "    y_train, y_test = y.iloc[train_index], y.iloc[test_index]\n",
    "\n",
    "    train_df_cv = X_train.copy()\n",
    "    train_df_cv[\"Monthly_CPUE\"] = y_train\n",
    "    \n",
    "    test_df_cv = X_test.copy()\n",
    "    test_df_cv[\"Monthly_CPUE\"] = y_test\n",
    "\n",
    "       # Standardize using only training fold\n",
    "    scaler = StandardScaler()\n",
    "    train_df_cv[vars_to_scale] = scaler.fit_transform(train_df_cv[vars_to_scale])\n",
    "    test_df_cv[vars_to_scale] = scaler.transform(test_df_cv[vars_to_scale])\n",
    "\n",
    "    # Clip test fold to training fold min/max\n",
    "    for var in vars_to_scale:\n",
    "        train_min = train_df_cv[var].min()\n",
    "        train_max = train_df_cv[var].max()\n",
    "        test_df_cv[var] = test_df_cv[var].clip(lower=train_min, upper=train_max)\n",
    "\n",
    "\n",
    "     # Define bounded spline terms\n",
    "    def bounded_bspline(var, df=4):\n",
    "        train_vals = train_df_cv[var]\n",
    "        return (\n",
    "            f\"bs({var}, df={df}, degree=3, include_intercept=False, \"\n",
    "            f\"lower_bound={train_vals.min()}, upper_bound={train_vals.max()})\"\n",
    "        )\n",
    "\n",
    "    # Build formula dynamically\n",
    "    formula = (\n",
    "        \"Monthly_CPUE ~ C(Month) + \" +\n",
    "        bounded_bspline(\"Year\") + \" + \" +\n",
    "        bounded_bspline(\"Weighted_Latitude\") + \" + \" +\n",
    "        bounded_bspline(\"Weighted_Longitude\") + \" + \" +\n",
    "        bounded_bspline(\"WaterTemp\") + \" + \" +\n",
    "        bounded_bspline(\"Chlor_a_mg_m3\") + \" + \" +\n",
    "        bounded_bspline(\"SSH\") + \" + \" +\n",
    "        bounded_bspline(\"Depth\")\n",
    "    )\n",
    "\n",
    "    model = smf.glm(formula=formula,\n",
    "                    data=train_df_cv,\n",
    "                    family=sm.families.Tweedie(var_power=2, link=sm.families.links.log())).fit()\n",
    "    \n",
    "     # Predict on test fold\n",
    "    y_pred_tw = model.predict(test_df_cv)\n",
    "    tweedie_rmse_scores.append(compute_rmse(y_test, y_pred_tw))\n",
    "\n",
    "print(\"TweedieGAM Mean RMSE:\", np.mean(tweedie_rmse_scores))\n",
    "\n",
    "# Storing and rounding all mean RMSE scores\n",
    "cv_summary = pd.DataFrame({\n",
    "    \"Model\": [\n",
    "        \"LinearGAM_log_cpueC\",\n",
    "        \"LinearGAM_log_cpue1\",\n",
    "        \"GammaGAM\",\n",
    "        \"TweedieGAM\"\n",
    "    ],\n",
    "    \"Mean_RMSE\": [\n",
    "        round(np.mean(lin_gam_c_rmse_scores), 2),\n",
    "        round(np.mean(lin_gam_1_rmse_scores), 2),\n",
    "        round(-np.mean(scores_gamma), 2),  # negate because scorer is negative\n",
    "        round(np.mean(tweedie_rmse_scores), 2)\n",
    "    ]\n",
    "})\n",
    "\n",
    "# Save to CSV\n",
    "cv_summary.to_csv(\"../results/summaries/cv_results.csv\", index=False)"
   ]
  },
  {
   "cell_type": "code",
   "execution_count": 16,
   "id": "0854f81f",
   "metadata": {},
   "outputs": [
    {
     "name": "stdout",
     "output_type": "stream",
     "text": [
      "              Model      RMSE       MAE\n",
      "0  GAM(log(CPUE+c)) 16,959.50 10,317.78\n",
      "1  GAM(log(CPUE+1)) 16,299.05  9,894.59\n",
      "2          GammaGAM 15,942.68  9,383.47\n",
      "3       Tweedie_GLM  8,835.18  6,080.68\n"
     ]
    }
   ],
   "source": [
    "#Evaluation (RMSE & MAE)\n",
    "results = pd.DataFrame({\n",
    "    \"Model\": [\"GAM(log(CPUE+c))\",\"GAM(log(CPUE+1))\", \"GammaGAM\", \"Tweedie_GLM\"],\n",
    "    \"RMSE\": [\n",
    "        np.sqrt(mean_squared_error(y_test_linear, linear_gam_c_preds_all)),\n",
    "        np.sqrt(mean_squared_error(y_test_linear, linear_gam_1_preds_all)),\n",
    "        np.sqrt(mean_squared_error(y_test_gamma, gamma_gam_preds)),\n",
    "        np.sqrt(mean_squared_error(y_test_tweedie, tweedie_glm_pred))\n",
    "    ],\n",
    "    \"MAE\": [\n",
    "        mean_absolute_error(y_test_linear, linear_gam_c_preds_all),\n",
    "        mean_absolute_error(y_test_linear, linear_gam_1_preds_all),\n",
    "        mean_absolute_error(y_test_gamma, gamma_gam_preds),\n",
    "        mean_absolute_error(y_test_tweedie, tweedie_glm_pred)\n",
    "    ]\n",
    "})\n",
    "\n",
    "pd.options.display.float_format = '{:,.2f}'.format\n",
    "print(results)\n",
    "results.to_csv(\"../results/summaries/eval_results.csv\", index=False)\n",
    "pd.reset_option('display.float_format') "
   ]
  },
  {
   "cell_type": "code",
   "execution_count": null,
   "id": "0a48ce2b",
   "metadata": {},
   "outputs": [
    {
     "data": {
      "application/vnd.plotly.v1+json": {
       "config": {
        "plotlyServerURL": "https://plot.ly"
       },
       "data": [
        {
         "line": {
          "color": "#1f77b4"
         },
         "mode": "lines+markers",
         "name": "Observed",
         "type": "scatter",
         "x": [
          2000,
          2001,
          2002,
          2003,
          2004,
          2005,
          2006,
          2007,
          2008,
          2009,
          2010,
          2011,
          2012,
          2013,
          2014,
          2015,
          2016,
          2017,
          2018,
          2019,
          2020
         ],
         "y": [
          14475.696936183653,
          10209.357690435263,
          6581.955598371863,
          9632.856368932586,
          1471.854376545912,
          3868.6399296864197,
          11218.872171581379,
          25441.952750802884,
          26900.541623368026,
          7887.702052318408,
          5082.906027190937,
          6686.283624700768,
          9269.90420869747,
          10080.297085284714,
          30054.869976462145,
          28472.609641298386,
          2882.617703300585,
          9732.283523692424,
          5178.551061991957,
          4052.9533783063043,
          7954.027394540119
         ]
        },
        {
         "line": {
          "color": "#ff7f0e"
         },
         "mode": "lines+markers",
         "name": "Standardized_log_cpueC",
         "type": "scatter",
         "x": [
          2000,
          2001,
          2002,
          2003,
          2004,
          2005,
          2006,
          2007,
          2008,
          2009,
          2010,
          2011,
          2012,
          2013,
          2014,
          2015,
          2016,
          2017,
          2018,
          2019,
          2020
         ],
         "y": [
          14642.048940653816,
          10063.032563282388,
          6773.80829025806,
          9268.506804409313,
          1454.0626331204805,
          3935.0124280668356,
          9860.330934943095,
          22469.674661932066,
          22889.342998708922,
          6080.619009269887,
          4784.622378433212,
          5229.772103525688,
          9516.826886866194,
          7630.618987692523,
          28701.182965083186,
          23236.572420453555,
          2520.1257647771627,
          9369.242732940722,
          3644.162075635214,
          3848.992351534217,
          6728.661732775812
         ]
        },
        {
         "line": {
          "color": "#2ca02c"
         },
         "mode": "lines+markers",
         "name": "Standardized_log_cpue1",
         "type": "scatter",
         "x": [
          2000,
          2001,
          2002,
          2003,
          2004,
          2005,
          2006,
          2007,
          2008,
          2009,
          2010,
          2011,
          2012,
          2013,
          2014,
          2015,
          2016,
          2017,
          2018,
          2019,
          2020
         ],
         "y": [
          15759.487258733781,
          11647.9117022236,
          5805.59646049888,
          7693.922944608031,
          2102.2537923749346,
          3366.447694903751,
          10401.370851355008,
          23047.331079602056,
          23393.477003276323,
          5548.0213105879,
          5121.148964564436,
          6667.292440305615,
          8010.39609493267,
          9604.52552614765,
          29136.119411802018,
          25968.6035572619,
          4457.494771117861,
          5664.756757517214,
          3589.7585287129587,
          4868.951504980387,
          5700.391187393422
         ]
        },
        {
         "line": {
          "color": "#d62728"
         },
         "mode": "lines+markers",
         "name": "Standardized_CPUE_GammaGAM",
         "type": "scatter",
         "x": [
          2000,
          2001,
          2002,
          2003,
          2004,
          2005,
          2006,
          2007,
          2008,
          2009,
          2010,
          2011,
          2012,
          2013,
          2014,
          2015,
          2016,
          2017,
          2018,
          2019,
          2020
         ],
         "y": [
          13742.767135332855,
          13108.70041436646,
          7326.859862785893,
          8231.824174895699,
          2341.027463549167,
          3790.202323895133,
          10065.62018612837,
          22963.6908004805,
          20889.307863961443,
          7772.652089565321,
          5944.344999093608,
          5892.543365474682,
          9616.756186547453,
          8301.656959890168,
          38532.26603824877,
          23992.8737299515,
          5915.868480429885,
          6076.106777737779,
          4263.161263262384,
          5746.895505579174,
          6233.275654421498
         ]
        },
        {
         "line": {
          "color": "#9467bd"
         },
         "mode": "lines+markers",
         "name": "Standardized_CPUE_tweedieglm",
         "type": "scatter",
         "x": [
          2000,
          2001,
          2002,
          2003,
          2004,
          2005,
          2006,
          2007,
          2008,
          2009,
          2010,
          2011,
          2012,
          2013,
          2014,
          2015,
          2016,
          2017,
          2018,
          2019,
          2020
         ],
         "y": [
          15500.617031651993,
          9616.18192052883,
          5908.396595791351,
          9426.64733722027,
          4280.1517571586255,
          4064.511142759515,
          9982.061936183198,
          20210.259591749862,
          27606.794128657453,
          8102.790139158396,
          8714.216438565942,
          8901.765922307133,
          7735.481366415028,
          9848.37681388308,
          25482.528556279958,
          32194.12126050195,
          3734.358468844094,
          7763.1597339240425,
          7006.010511112906,
          4897.43059248167,
          7907.661258821587
         ]
        }
       ],
       "layout": {
        "height": 900,
        "hovermode": "x unified",
        "legend": {
         "title": {
          "text": "Series"
         }
        },
        "template": {
         "data": {
          "bar": [
           {
            "error_x": {
             "color": "#2a3f5f"
            },
            "error_y": {
             "color": "#2a3f5f"
            },
            "marker": {
             "line": {
              "color": "#E5ECF6",
              "width": 0.5
             },
             "pattern": {
              "fillmode": "overlay",
              "size": 10,
              "solidity": 0.2
             }
            },
            "type": "bar"
           }
          ],
          "barpolar": [
           {
            "marker": {
             "line": {
              "color": "#E5ECF6",
              "width": 0.5
             },
             "pattern": {
              "fillmode": "overlay",
              "size": 10,
              "solidity": 0.2
             }
            },
            "type": "barpolar"
           }
          ],
          "carpet": [
           {
            "aaxis": {
             "endlinecolor": "#2a3f5f",
             "gridcolor": "white",
             "linecolor": "white",
             "minorgridcolor": "white",
             "startlinecolor": "#2a3f5f"
            },
            "baxis": {
             "endlinecolor": "#2a3f5f",
             "gridcolor": "white",
             "linecolor": "white",
             "minorgridcolor": "white",
             "startlinecolor": "#2a3f5f"
            },
            "type": "carpet"
           }
          ],
          "choropleth": [
           {
            "colorbar": {
             "outlinewidth": 0,
             "ticks": ""
            },
            "type": "choropleth"
           }
          ],
          "contour": [
           {
            "colorbar": {
             "outlinewidth": 0,
             "ticks": ""
            },
            "colorscale": [
             [
              0,
              "#0d0887"
             ],
             [
              0.1111111111111111,
              "#46039f"
             ],
             [
              0.2222222222222222,
              "#7201a8"
             ],
             [
              0.3333333333333333,
              "#9c179e"
             ],
             [
              0.4444444444444444,
              "#bd3786"
             ],
             [
              0.5555555555555556,
              "#d8576b"
             ],
             [
              0.6666666666666666,
              "#ed7953"
             ],
             [
              0.7777777777777778,
              "#fb9f3a"
             ],
             [
              0.8888888888888888,
              "#fdca26"
             ],
             [
              1,
              "#f0f921"
             ]
            ],
            "type": "contour"
           }
          ],
          "contourcarpet": [
           {
            "colorbar": {
             "outlinewidth": 0,
             "ticks": ""
            },
            "type": "contourcarpet"
           }
          ],
          "heatmap": [
           {
            "colorbar": {
             "outlinewidth": 0,
             "ticks": ""
            },
            "colorscale": [
             [
              0,
              "#0d0887"
             ],
             [
              0.1111111111111111,
              "#46039f"
             ],
             [
              0.2222222222222222,
              "#7201a8"
             ],
             [
              0.3333333333333333,
              "#9c179e"
             ],
             [
              0.4444444444444444,
              "#bd3786"
             ],
             [
              0.5555555555555556,
              "#d8576b"
             ],
             [
              0.6666666666666666,
              "#ed7953"
             ],
             [
              0.7777777777777778,
              "#fb9f3a"
             ],
             [
              0.8888888888888888,
              "#fdca26"
             ],
             [
              1,
              "#f0f921"
             ]
            ],
            "type": "heatmap"
           }
          ],
          "heatmapgl": [
           {
            "colorbar": {
             "outlinewidth": 0,
             "ticks": ""
            },
            "colorscale": [
             [
              0,
              "#0d0887"
             ],
             [
              0.1111111111111111,
              "#46039f"
             ],
             [
              0.2222222222222222,
              "#7201a8"
             ],
             [
              0.3333333333333333,
              "#9c179e"
             ],
             [
              0.4444444444444444,
              "#bd3786"
             ],
             [
              0.5555555555555556,
              "#d8576b"
             ],
             [
              0.6666666666666666,
              "#ed7953"
             ],
             [
              0.7777777777777778,
              "#fb9f3a"
             ],
             [
              0.8888888888888888,
              "#fdca26"
             ],
             [
              1,
              "#f0f921"
             ]
            ],
            "type": "heatmapgl"
           }
          ],
          "histogram": [
           {
            "marker": {
             "pattern": {
              "fillmode": "overlay",
              "size": 10,
              "solidity": 0.2
             }
            },
            "type": "histogram"
           }
          ],
          "histogram2d": [
           {
            "colorbar": {
             "outlinewidth": 0,
             "ticks": ""
            },
            "colorscale": [
             [
              0,
              "#0d0887"
             ],
             [
              0.1111111111111111,
              "#46039f"
             ],
             [
              0.2222222222222222,
              "#7201a8"
             ],
             [
              0.3333333333333333,
              "#9c179e"
             ],
             [
              0.4444444444444444,
              "#bd3786"
             ],
             [
              0.5555555555555556,
              "#d8576b"
             ],
             [
              0.6666666666666666,
              "#ed7953"
             ],
             [
              0.7777777777777778,
              "#fb9f3a"
             ],
             [
              0.8888888888888888,
              "#fdca26"
             ],
             [
              1,
              "#f0f921"
             ]
            ],
            "type": "histogram2d"
           }
          ],
          "histogram2dcontour": [
           {
            "colorbar": {
             "outlinewidth": 0,
             "ticks": ""
            },
            "colorscale": [
             [
              0,
              "#0d0887"
             ],
             [
              0.1111111111111111,
              "#46039f"
             ],
             [
              0.2222222222222222,
              "#7201a8"
             ],
             [
              0.3333333333333333,
              "#9c179e"
             ],
             [
              0.4444444444444444,
              "#bd3786"
             ],
             [
              0.5555555555555556,
              "#d8576b"
             ],
             [
              0.6666666666666666,
              "#ed7953"
             ],
             [
              0.7777777777777778,
              "#fb9f3a"
             ],
             [
              0.8888888888888888,
              "#fdca26"
             ],
             [
              1,
              "#f0f921"
             ]
            ],
            "type": "histogram2dcontour"
           }
          ],
          "mesh3d": [
           {
            "colorbar": {
             "outlinewidth": 0,
             "ticks": ""
            },
            "type": "mesh3d"
           }
          ],
          "parcoords": [
           {
            "line": {
             "colorbar": {
              "outlinewidth": 0,
              "ticks": ""
             }
            },
            "type": "parcoords"
           }
          ],
          "pie": [
           {
            "automargin": true,
            "type": "pie"
           }
          ],
          "scatter": [
           {
            "marker": {
             "colorbar": {
              "outlinewidth": 0,
              "ticks": ""
             }
            },
            "type": "scatter"
           }
          ],
          "scatter3d": [
           {
            "line": {
             "colorbar": {
              "outlinewidth": 0,
              "ticks": ""
             }
            },
            "marker": {
             "colorbar": {
              "outlinewidth": 0,
              "ticks": ""
             }
            },
            "type": "scatter3d"
           }
          ],
          "scattercarpet": [
           {
            "marker": {
             "colorbar": {
              "outlinewidth": 0,
              "ticks": ""
             }
            },
            "type": "scattercarpet"
           }
          ],
          "scattergeo": [
           {
            "marker": {
             "colorbar": {
              "outlinewidth": 0,
              "ticks": ""
             }
            },
            "type": "scattergeo"
           }
          ],
          "scattergl": [
           {
            "marker": {
             "colorbar": {
              "outlinewidth": 0,
              "ticks": ""
             }
            },
            "type": "scattergl"
           }
          ],
          "scattermapbox": [
           {
            "marker": {
             "colorbar": {
              "outlinewidth": 0,
              "ticks": ""
             }
            },
            "type": "scattermapbox"
           }
          ],
          "scatterpolar": [
           {
            "marker": {
             "colorbar": {
              "outlinewidth": 0,
              "ticks": ""
             }
            },
            "type": "scatterpolar"
           }
          ],
          "scatterpolargl": [
           {
            "marker": {
             "colorbar": {
              "outlinewidth": 0,
              "ticks": ""
             }
            },
            "type": "scatterpolargl"
           }
          ],
          "scatterternary": [
           {
            "marker": {
             "colorbar": {
              "outlinewidth": 0,
              "ticks": ""
             }
            },
            "type": "scatterternary"
           }
          ],
          "surface": [
           {
            "colorbar": {
             "outlinewidth": 0,
             "ticks": ""
            },
            "colorscale": [
             [
              0,
              "#0d0887"
             ],
             [
              0.1111111111111111,
              "#46039f"
             ],
             [
              0.2222222222222222,
              "#7201a8"
             ],
             [
              0.3333333333333333,
              "#9c179e"
             ],
             [
              0.4444444444444444,
              "#bd3786"
             ],
             [
              0.5555555555555556,
              "#d8576b"
             ],
             [
              0.6666666666666666,
              "#ed7953"
             ],
             [
              0.7777777777777778,
              "#fb9f3a"
             ],
             [
              0.8888888888888888,
              "#fdca26"
             ],
             [
              1,
              "#f0f921"
             ]
            ],
            "type": "surface"
           }
          ],
          "table": [
           {
            "cells": {
             "fill": {
              "color": "#EBF0F8"
             },
             "line": {
              "color": "white"
             }
            },
            "header": {
             "fill": {
              "color": "#C8D4E3"
             },
             "line": {
              "color": "white"
             }
            },
            "type": "table"
           }
          ]
         },
         "layout": {
          "annotationdefaults": {
           "arrowcolor": "#2a3f5f",
           "arrowhead": 0,
           "arrowwidth": 1
          },
          "autotypenumbers": "strict",
          "coloraxis": {
           "colorbar": {
            "outlinewidth": 0,
            "ticks": ""
           }
          },
          "colorscale": {
           "diverging": [
            [
             0,
             "#8e0152"
            ],
            [
             0.1,
             "#c51b7d"
            ],
            [
             0.2,
             "#de77ae"
            ],
            [
             0.3,
             "#f1b6da"
            ],
            [
             0.4,
             "#fde0ef"
            ],
            [
             0.5,
             "#f7f7f7"
            ],
            [
             0.6,
             "#e6f5d0"
            ],
            [
             0.7,
             "#b8e186"
            ],
            [
             0.8,
             "#7fbc41"
            ],
            [
             0.9,
             "#4d9221"
            ],
            [
             1,
             "#276419"
            ]
           ],
           "sequential": [
            [
             0,
             "#0d0887"
            ],
            [
             0.1111111111111111,
             "#46039f"
            ],
            [
             0.2222222222222222,
             "#7201a8"
            ],
            [
             0.3333333333333333,
             "#9c179e"
            ],
            [
             0.4444444444444444,
             "#bd3786"
            ],
            [
             0.5555555555555556,
             "#d8576b"
            ],
            [
             0.6666666666666666,
             "#ed7953"
            ],
            [
             0.7777777777777778,
             "#fb9f3a"
            ],
            [
             0.8888888888888888,
             "#fdca26"
            ],
            [
             1,
             "#f0f921"
            ]
           ],
           "sequentialminus": [
            [
             0,
             "#0d0887"
            ],
            [
             0.1111111111111111,
             "#46039f"
            ],
            [
             0.2222222222222222,
             "#7201a8"
            ],
            [
             0.3333333333333333,
             "#9c179e"
            ],
            [
             0.4444444444444444,
             "#bd3786"
            ],
            [
             0.5555555555555556,
             "#d8576b"
            ],
            [
             0.6666666666666666,
             "#ed7953"
            ],
            [
             0.7777777777777778,
             "#fb9f3a"
            ],
            [
             0.8888888888888888,
             "#fdca26"
            ],
            [
             1,
             "#f0f921"
            ]
           ]
          },
          "colorway": [
           "#636efa",
           "#EF553B",
           "#00cc96",
           "#ab63fa",
           "#FFA15A",
           "#19d3f3",
           "#FF6692",
           "#B6E880",
           "#FF97FF",
           "#FECB52"
          ],
          "font": {
           "color": "#2a3f5f"
          },
          "geo": {
           "bgcolor": "white",
           "lakecolor": "white",
           "landcolor": "#E5ECF6",
           "showlakes": true,
           "showland": true,
           "subunitcolor": "white"
          },
          "hoverlabel": {
           "align": "left"
          },
          "hovermode": "closest",
          "mapbox": {
           "style": "light"
          },
          "paper_bgcolor": "white",
          "plot_bgcolor": "#E5ECF6",
          "polar": {
           "angularaxis": {
            "gridcolor": "white",
            "linecolor": "white",
            "ticks": ""
           },
           "bgcolor": "#E5ECF6",
           "radialaxis": {
            "gridcolor": "white",
            "linecolor": "white",
            "ticks": ""
           }
          },
          "scene": {
           "xaxis": {
            "backgroundcolor": "#E5ECF6",
            "gridcolor": "white",
            "gridwidth": 2,
            "linecolor": "white",
            "showbackground": true,
            "ticks": "",
            "zerolinecolor": "white"
           },
           "yaxis": {
            "backgroundcolor": "#E5ECF6",
            "gridcolor": "white",
            "gridwidth": 2,
            "linecolor": "white",
            "showbackground": true,
            "ticks": "",
            "zerolinecolor": "white"
           },
           "zaxis": {
            "backgroundcolor": "#E5ECF6",
            "gridcolor": "white",
            "gridwidth": 2,
            "linecolor": "white",
            "showbackground": true,
            "ticks": "",
            "zerolinecolor": "white"
           }
          },
          "shapedefaults": {
           "line": {
            "color": "#2a3f5f"
           }
          },
          "ternary": {
           "aaxis": {
            "gridcolor": "white",
            "linecolor": "white",
            "ticks": ""
           },
           "baxis": {
            "gridcolor": "white",
            "linecolor": "white",
            "ticks": ""
           },
           "bgcolor": "#E5ECF6",
           "caxis": {
            "gridcolor": "white",
            "linecolor": "white",
            "ticks": ""
           }
          },
          "title": {
           "x": 0.05
          },
          "xaxis": {
           "automargin": true,
           "gridcolor": "white",
           "linecolor": "white",
           "ticks": "",
           "title": {
            "standoff": 15
           },
           "zerolinecolor": "white",
           "zerolinewidth": 2
          },
          "yaxis": {
           "automargin": true,
           "gridcolor": "white",
           "linecolor": "white",
           "ticks": "",
           "title": {
            "standoff": 15
           },
           "zerolinecolor": "white",
           "zerolinewidth": 2
          }
         }
        },
        "title": {
         "text": "Observed vs Standardized CPUE per Year"
        },
        "width": 1000,
        "xaxis": {
         "tickformat": ".0f",
         "title": {
          "text": "Year"
         }
        },
        "yaxis": {
         "title": {
          "text": "CPUE"
         }
        }
       }
      }
     },
     "metadata": {},
     "output_type": "display_data"
    },
    {
     "data": {
      "image/png": "[encoded data removed]",
      "text/plain": [
       "<Figure size 864x432 with 1 Axes>"
      ]
     },
     "metadata": {
      "needs_background": "light"
     },
     "output_type": "display_data"
    },
    {
     "data": {
      "image/png": "[encoded data removed]",
      "text/plain": [
       "<Figure size 1296x360 with 4 Axes>"
      ]
     },
     "metadata": {
      "needs_background": "light"
     },
     "output_type": "display_data"
    },
    {
     "name": "stdout",
     "output_type": "stream",
     "text": [
      "{'LinearGAM_Log_CPUE_plus_c': (81     2578.803479\n",
      "82     2484.099648\n",
      "83     1128.720404\n",
      "84      358.175532\n",
      "85        0.000000\n",
      "86      540.453478\n",
      "87     2881.824897\n",
      "88     1315.442330\n",
      "89     2561.312124\n",
      "90      777.985279\n",
      "91        0.000000\n",
      "92        0.000000\n",
      "93      435.349233\n",
      "94      405.908842\n",
      "95        0.000000\n",
      "96      360.671806\n",
      "97      996.377853\n",
      "98      650.809939\n",
      "99      549.299478\n",
      "100     837.965264\n",
      "101       0.000000\n",
      "102     266.527632\n",
      "103     178.437793\n",
      "104      34.636108\n",
      "105       0.000000\n",
      "106       0.000000\n",
      "107       0.000000\n",
      "108       0.000000\n",
      "109       0.000000\n",
      "Name: c, dtype: float64, 81      7506.633272\n",
      "82     12063.445563\n",
      "83     37145.205313\n",
      "84     54799.268351\n",
      "85     48976.484703\n",
      "86      3254.368106\n",
      "87     -2564.634974\n",
      "88      1951.350517\n",
      "89      1073.979780\n",
      "90      3533.210861\n",
      "91      9633.317124\n",
      "92      8562.379781\n",
      "93     13548.497258\n",
      "94     10548.929967\n",
      "95      5527.035412\n",
      "96       -87.447013\n",
      "97     12225.174859\n",
      "98      4615.991715\n",
      "99      1403.325612\n",
      "100     -738.802574\n",
      "101     8048.280781\n",
      "102     8868.114634\n",
      "103     2140.802083\n",
      "104      628.805171\n",
      "105      339.556067\n",
      "106    17244.426596\n",
      "107    12866.718540\n",
      "108     3327.815236\n",
      "109     5991.620534\n",
      "dtype: float64), 'LinearGAM_Log_CPUE_plus_1': (array([4224.93307744, 3135.53663373, 3111.63969304, 2041.67778563,\n",
      "       1946.1757376 , 2538.90944992, 3889.66337502, 2328.12485533,\n",
      "       3440.20530276, 1031.10186004, 1833.98263365, 1019.51213372,\n",
      "       1623.6333207 , 1560.35299996,  460.96674371, 1255.65251306,\n",
      "        738.1003449 , 1050.91470349,  973.17660248, 7496.32143599,\n",
      "        205.48741171,  798.93198659,  353.38724859,  562.30885399,\n",
      "        561.89102205,  145.98775788,  153.29163677,  297.61993129,\n",
      "        402.79627831]), 81      5860.503674\n",
      "82     11412.008577\n",
      "83     35162.286024\n",
      "84     53115.766097\n",
      "85     47030.308965\n",
      "86      1255.912134\n",
      "87     -3572.473452\n",
      "88       938.667992\n",
      "89       195.086601\n",
      "90      3280.094280\n",
      "91      7799.334491\n",
      "92      7542.867648\n",
      "93     12360.213171\n",
      "94      9394.485810\n",
      "95      5066.068668\n",
      "96      -982.427721\n",
      "97     12483.452367\n",
      "98      4215.886950\n",
      "99       979.448487\n",
      "100    -7397.158746\n",
      "101     7842.793370\n",
      "102     8335.710279\n",
      "103     1965.852627\n",
      "104      101.132425\n",
      "105     -222.334955\n",
      "106    17098.438838\n",
      "107    12713.426904\n",
      "108     3030.195305\n",
      "109     5588.824255\n",
      "Name: Monthly_CPUE, dtype: float64), 'GammaGAM': (array([5542.40228448, 5495.88353797, 4002.29851793, 3476.47507947,\n",
      "       1797.75671645, 4088.40089768, 3487.08988691, 1732.12472055,\n",
      "       3338.18355324, 1144.14980097, 1019.67832533,  928.23310208,\n",
      "       1718.28970265, 1505.54936825,  694.28909748, 1033.97451431,\n",
      "       1771.62867632, 1400.17927021, 1386.4114244 , 1079.19030537,\n",
      "        175.68070772,  740.85694017,  639.54061698,  595.24341675,\n",
      "        341.29849457,  109.49006656,  125.02811836,  151.89810873,\n",
      "        546.86576672]), 81      4543.034467\n",
      "82      9051.661673\n",
      "83     34271.627199\n",
      "84     51680.968803\n",
      "85     47178.727987\n",
      "86      -293.579314\n",
      "87     -3169.899964\n",
      "88      1534.668126\n",
      "89       297.108350\n",
      "90      3167.046339\n",
      "91      8613.638799\n",
      "92      7634.146679\n",
      "93     12265.556789\n",
      "94      9449.289441\n",
      "95      4832.746314\n",
      "96      -760.749722\n",
      "97     11449.924035\n",
      "98      3866.622384\n",
      "99       566.213665\n",
      "100     -980.027615\n",
      "101     7872.600074\n",
      "102     8393.785326\n",
      "103     1679.699259\n",
      "104       68.197862\n",
      "105       -1.742428\n",
      "106    17134.936529\n",
      "107    12741.690422\n",
      "108     3175.917127\n",
      "109     5444.754767\n",
      "Name: Monthly_CPUE, dtype: float64), 'TweedieGLM': (81     21397.512064\n",
      "82      9113.488123\n",
      "83     18359.569618\n",
      "84     26766.885749\n",
      "85     36493.377674\n",
      "86      1634.685212\n",
      "87      3270.483740\n",
      "88      2715.546559\n",
      "89      4724.394305\n",
      "90      2832.359924\n",
      "91      4377.160057\n",
      "92      2232.423830\n",
      "93      6447.111530\n",
      "94      3710.242538\n",
      "95      1717.066392\n",
      "96      1783.324182\n",
      "97      7062.245701\n",
      "98      4745.339224\n",
      "99      1108.407380\n",
      "100       83.843745\n",
      "101     1414.692838\n",
      "102     2314.463807\n",
      "103     1737.990011\n",
      "104     2066.419623\n",
      "105     2312.081703\n",
      "106     1100.188487\n",
      "107     2552.091225\n",
      "108     1375.474511\n",
      "109      468.328344\n",
      "dtype: float64, 81    -11312.075312\n",
      "82      5434.057087\n",
      "83     19914.356099\n",
      "84     28390.558133\n",
      "85     12483.107029\n",
      "86      2160.136372\n",
      "87     -2953.293817\n",
      "88       551.246288\n",
      "89     -1089.102401\n",
      "90      1478.836216\n",
      "91      5256.157067\n",
      "92      6329.955951\n",
      "93      7536.734962\n",
      "94      7244.596272\n",
      "95      3809.969020\n",
      "96     -1510.099389\n",
      "97      6159.307011\n",
      "98       521.462430\n",
      "99       844.217710\n",
      "100       15.318945\n",
      "101     6633.587943\n",
      "102     6820.178459\n",
      "103      581.249865\n",
      "104    -1402.978344\n",
      "105    -1972.525636\n",
      "106    16144.238108\n",
      "107    10314.627315\n",
      "108     1952.340725\n",
      "109     5523.292190\n",
      "dtype: float64)}\n",
      "()\n",
      "<class 'dict'>\n"
     ]
    },
    {
     "data": {
      "application/vnd.plotly.v1+json": {
       "config": {
        "plotlyServerURL": "https://plot.ly"
       },
       "data": [
        {
         "line": {
          "color": "#1f77b4"
         },
         "marker": {
          "symbol": "circle"
         },
         "mode": "lines+markers",
         "name": "Actual",
         "type": "scatter",
         "x": [
          0,
          1,
          2,
          3,
          4,
          5,
          6,
          7,
          8,
          9,
          10,
          11,
          12,
          13,
          14,
          15,
          16,
          17,
          18,
          19,
          20,
          21
         ],
         "y": [
          23036.638501843296,
          24374.440193945957,
          5572.9050184810385,
          20765.33300605651,
          9118.631621969427,
          3604.6276502764335,
          4052.5561006750704,
          21656.71499867435,
          11499.073286556364,
          13380.814108160015,
          1363.3275634392871,
          2914.322173769637,
          24423.31846104323,
          14547.545210719272,
          3794.821583788889,
          317.1899228532653,
          8562.37978137581,
          13221.552711762177,
          1952.6250898700998,
          9134.642265794948,
          12866.71854040109,
          5991.620533552921
         ]
        },
        {
         "line": {
          "color": "#ff7f0e"
         },
         "marker": {
          "symbol": "square"
         },
         "mode": "lines+markers",
         "name": "Predicted (LinearGAM_log_CPUE_plus_c)",
         "type": "scatter",
         "x": [
          0,
          1,
          2,
          3,
          4,
          5,
          6,
          7,
          8,
          9,
          10,
          11,
          12,
          13,
          14,
          15,
          16,
          17,
          18,
          19,
          20,
          21,
          22,
          23,
          24,
          25,
          26,
          27,
          28
         ],
         "y": [
          2578.8034790257116,
          2484.0996477309227,
          1128.720404037725,
          358.1755317331631,
          0,
          540.4534777838071,
          2881.8248965054895,
          1315.4423302176397,
          2561.3121237657033,
          777.9852785839702,
          0,
          0,
          435.34923347342874,
          405.90884217886196,
          0,
          360.6718059538139,
          996.3778530226375,
          650.8099391715882,
          549.299477944749,
          837.9652637125077,
          0,
          266.52763220477146,
          178.43779294757798,
          34.63610765225178,
          0,
          0,
          0,
          0,
          0
         ]
        },
        {
         "line": {
          "color": "#2ca02c"
         },
         "marker": {
          "symbol": "triangle-up"
         },
         "mode": "lines+markers",
         "name": "Predicted (LinearGAM_log_CPUE_plus_1)",
         "type": "scatter",
         "x": [
          0,
          1,
          2,
          3,
          4,
          5,
          6,
          7,
          8,
          9,
          10,
          11,
          12,
          13,
          14,
          15,
          16,
          17,
          18,
          19,
          20,
          21,
          22,
          23,
          24,
          25,
          26,
          27,
          28
         ],
         "y": [
          4224.933077438043,
          3135.536633725591,
          3111.6396930389974,
          2041.6777856270687,
          1946.175737602149,
          2538.9094499240427,
          3889.6633750169563,
          2328.1248553258083,
          3440.2053027641105,
          1031.1018600444024,
          1833.982633646718,
          1019.5121337186605,
          1623.6333206976205,
          1560.3529999632922,
          460.96674370916327,
          1255.6525130614662,
          738.1003448996353,
          1050.9147034896796,
          973.1766024753225,
          7496.321435985105,
          205.48741171193183,
          798.9319865874074,
          353.38724858500626,
          562.3088539940502,
          561.8910220462222,
          145.98775787972463,
          153.2916367708455,
          297.6199312921599,
          402.7962783095054
         ]
        },
        {
         "line": {
          "color": "#d62728"
         },
         "marker": {
          "symbol": "x"
         },
         "mode": "lines+markers",
         "name": "Predicted (GammaGAM_CPUE)",
         "type": "scatter",
         "x": [
          0,
          1,
          2,
          3,
          4,
          5,
          6,
          7,
          8,
          9,
          10,
          11,
          12,
          13,
          14,
          15,
          16,
          17,
          18,
          19,
          20,
          21,
          22,
          23,
          24,
          25,
          26,
          27,
          28
         ],
         "y": [
          5542.402284480094,
          5495.883537965391,
          4002.2985179315783,
          3476.4750794696447,
          1797.7567164544569,
          4088.400897684802,
          3487.089886908735,
          1732.1247205452366,
          3338.1835532351674,
          1144.1498009680297,
          1019.6783253284174,
          928.2331020792454,
          1718.289702648655,
          1505.5493682527688,
          694.2890974819858,
          1033.974514306442,
          1771.6286763170554,
          1400.179270214893,
          1386.411424403483,
          1079.190305374,
          175.6807077152257,
          740.8569401693908,
          639.5406169775123,
          595.2434167528752,
          341.29849456728675,
          109.49006655674538,
          125.0281183618918,
          151.89810872909692,
          546.865766720025
         ]
        },
        {
         "line": {
          "color": "#9467bd"
         },
         "marker": {
          "symbol": "cross"
         },
         "mode": "lines+markers",
         "name": "Predicted (TweedieGLM_CPUE)",
         "type": "scatter",
         "x": [
          0,
          1,
          2,
          3,
          4,
          5,
          6,
          7,
          8,
          9,
          10,
          11,
          12,
          13,
          14,
          15,
          16,
          17,
          18,
          19,
          20,
          21,
          22,
          23,
          24,
          25,
          26,
          27,
          28
         ],
         "y": [
          21397.512063786937,
          9113.488123220526,
          18359.569617834335,
          26766.885748804405,
          36493.37767427117,
          1634.6852120901915,
          3270.483739697851,
          2715.5465585925435,
          4724.39430450929,
          2832.359923992928,
          4377.160056930204,
          2232.423829920726,
          6447.1115295659365,
          3710.242537633549,
          1717.0663922120502,
          1783.3241818733616,
          7062.245700972621,
          4745.339223518911,
          1108.4073796951825,
          83.84374507530868,
          1414.6928384856776,
          2314.463807156968,
          1737.990011090247,
          2066.419622930578,
          2312.0817031773713,
          1100.1884874462305,
          2552.0912250404963,
          1375.4745110698814,
          468.3283436017589
         ]
        }
       ],
       "layout": {
        "hovermode": "x unified",
        "legend": {
         "title": {
          "text": "Legend"
         }
        },
        "template": {
         "data": {
          "bar": [
           {
            "error_x": {
             "color": "#2a3f5f"
            },
            "error_y": {
             "color": "#2a3f5f"
            },
            "marker": {
             "line": {
              "color": "white",
              "width": 0.5
             },
             "pattern": {
              "fillmode": "overlay",
              "size": 10,
              "solidity": 0.2
             }
            },
            "type": "bar"
           }
          ],
          "barpolar": [
           {
            "marker": {
             "line": {
              "color": "white",
              "width": 0.5
             },
             "pattern": {
              "fillmode": "overlay",
              "size": 10,
              "solidity": 0.2
             }
            },
            "type": "barpolar"
           }
          ],
          "carpet": [
           {
            "aaxis": {
             "endlinecolor": "#2a3f5f",
             "gridcolor": "#C8D4E3",
             "linecolor": "#C8D4E3",
             "minorgridcolor": "#C8D4E3",
             "startlinecolor": "#2a3f5f"
            },
            "baxis": {
             "endlinecolor": "#2a3f5f",
             "gridcolor": "#C8D4E3",
             "linecolor": "#C8D4E3",
             "minorgridcolor": "#C8D4E3",
             "startlinecolor": "#2a3f5f"
            },
            "type": "carpet"
           }
          ],
          "choropleth": [
           {
            "colorbar": {
             "outlinewidth": 0,
             "ticks": ""
            },
            "type": "choropleth"
           }
          ],
          "contour": [
           {
            "colorbar": {
             "outlinewidth": 0,
             "ticks": ""
            },
            "colorscale": [
             [
              0,
              "#0d0887"
             ],
             [
              0.1111111111111111,
              "#46039f"
             ],
             [
              0.2222222222222222,
              "#7201a8"
             ],
             [
              0.3333333333333333,
              "#9c179e"
             ],
             [
              0.4444444444444444,
              "#bd3786"
             ],
             [
              0.5555555555555556,
              "#d8576b"
             ],
             [
              0.6666666666666666,
              "#ed7953"
             ],
             [
              0.7777777777777778,
              "#fb9f3a"
             ],
             [
              0.8888888888888888,
              "#fdca26"
             ],
             [
              1,
              "#f0f921"
             ]
            ],
            "type": "contour"
           }
          ],
          "contourcarpet": [
           {
            "colorbar": {
             "outlinewidth": 0,
             "ticks": ""
            },
            "type": "contourcarpet"
           }
          ],
          "heatmap": [
           {
            "colorbar": {
             "outlinewidth": 0,
             "ticks": ""
            },
            "colorscale": [
             [
              0,
              "#0d0887"
             ],
             [
              0.1111111111111111,
              "#46039f"
             ],
             [
              0.2222222222222222,
              "#7201a8"
             ],
             [
              0.3333333333333333,
              "#9c179e"
             ],
             [
              0.4444444444444444,
              "#bd3786"
             ],
             [
              0.5555555555555556,
              "#d8576b"
             ],
             [
              0.6666666666666666,
              "#ed7953"
             ],
             [
              0.7777777777777778,
              "#fb9f3a"
             ],
             [
              0.8888888888888888,
              "#fdca26"
             ],
             [
              1,
              "#f0f921"
             ]
            ],
            "type": "heatmap"
           }
          ],
          "heatmapgl": [
           {
            "colorbar": {
             "outlinewidth": 0,
             "ticks": ""
            },
            "colorscale": [
             [
              0,
              "#0d0887"
             ],
             [
              0.1111111111111111,
              "#46039f"
             ],
             [
              0.2222222222222222,
              "#7201a8"
             ],
             [
              0.3333333333333333,
              "#9c179e"
             ],
             [
              0.4444444444444444,
              "#bd3786"
             ],
             [
              0.5555555555555556,
              "#d8576b"
             ],
             [
              0.6666666666666666,
              "#ed7953"
             ],
             [
              0.7777777777777778,
              "#fb9f3a"
             ],
             [
              0.8888888888888888,
              "#fdca26"
             ],
             [
              1,
              "#f0f921"
             ]
            ],
            "type": "heatmapgl"
           }
          ],
          "histogram": [
           {
            "marker": {
             "pattern": {
              "fillmode": "overlay",
              "size": 10,
              "solidity": 0.2
             }
            },
            "type": "histogram"
           }
          ],
          "histogram2d": [
           {
            "colorbar": {
             "outlinewidth": 0,
             "ticks": ""
            },
            "colorscale": [
             [
              0,
              "#0d0887"
             ],
             [
              0.1111111111111111,
              "#46039f"
             ],
             [
              0.2222222222222222,
              "#7201a8"
             ],
             [
              0.3333333333333333,
              "#9c179e"
             ],
             [
              0.4444444444444444,
              "#bd3786"
             ],
             [
              0.5555555555555556,
              "#d8576b"
             ],
             [
              0.6666666666666666,
              "#ed7953"
             ],
             [
              0.7777777777777778,
              "#fb9f3a"
             ],
             [
              0.8888888888888888,
              "#fdca26"
             ],
             [
              1,
              "#f0f921"
             ]
            ],
            "type": "histogram2d"
           }
          ],
          "histogram2dcontour": [
           {
            "colorbar": {
             "outlinewidth": 0,
             "ticks": ""
            },
            "colorscale": [
             [
              0,
              "#0d0887"
             ],
             [
              0.1111111111111111,
              "#46039f"
             ],
             [
              0.2222222222222222,
              "#7201a8"
             ],
             [
              0.3333333333333333,
              "#9c179e"
             ],
             [
              0.4444444444444444,
              "#bd3786"
             ],
             [
              0.5555555555555556,
              "#d8576b"
             ],
             [
              0.6666666666666666,
              "#ed7953"
             ],
             [
              0.7777777777777778,
              "#fb9f3a"
             ],
             [
              0.8888888888888888,
              "#fdca26"
             ],
             [
              1,
              "#f0f921"
             ]
            ],
            "type": "histogram2dcontour"
           }
          ],
          "mesh3d": [
           {
            "colorbar": {
             "outlinewidth": 0,
             "ticks": ""
            },
            "type": "mesh3d"
           }
          ],
          "parcoords": [
           {
            "line": {
             "colorbar": {
              "outlinewidth": 0,
              "ticks": ""
             }
            },
            "type": "parcoords"
           }
          ],
          "pie": [
           {
            "automargin": true,
            "type": "pie"
           }
          ],
          "scatter": [
           {
            "marker": {
             "colorbar": {
              "outlinewidth": 0,
              "ticks": ""
             }
            },
            "type": "scatter"
           }
          ],
          "scatter3d": [
           {
            "line": {
             "colorbar": {
              "outlinewidth": 0,
              "ticks": ""
             }
            },
            "marker": {
             "colorbar": {
              "outlinewidth": 0,
              "ticks": ""
             }
            },
            "type": "scatter3d"
           }
          ],
          "scattercarpet": [
           {
            "marker": {
             "colorbar": {
              "outlinewidth": 0,
              "ticks": ""
             }
            },
            "type": "scattercarpet"
           }
          ],
          "scattergeo": [
           {
            "marker": {
             "colorbar": {
              "outlinewidth": 0,
              "ticks": ""
             }
            },
            "type": "scattergeo"
           }
          ],
          "scattergl": [
           {
            "marker": {
             "colorbar": {
              "outlinewidth": 0,
              "ticks": ""
             }
            },
            "type": "scattergl"
           }
          ],
          "scattermapbox": [
           {
            "marker": {
             "colorbar": {
              "outlinewidth": 0,
              "ticks": ""
             }
            },
            "type": "scattermapbox"
           }
          ],
          "scatterpolar": [
           {
            "marker": {
             "colorbar": {
              "outlinewidth": 0,
              "ticks": ""
             }
            },
            "type": "scatterpolar"
           }
          ],
          "scatterpolargl": [
           {
            "marker": {
             "colorbar": {
              "outlinewidth": 0,
              "ticks": ""
             }
            },
            "type": "scatterpolargl"
           }
          ],
          "scatterternary": [
           {
            "marker": {
             "colorbar": {
              "outlinewidth": 0,
              "ticks": ""
             }
            },
            "type": "scatterternary"
           }
          ],
          "surface": [
           {
            "colorbar": {
             "outlinewidth": 0,
             "ticks": ""
            },
            "colorscale": [
             [
              0,
              "#0d0887"
             ],
             [
              0.1111111111111111,
              "#46039f"
             ],
             [
              0.2222222222222222,
              "#7201a8"
             ],
             [
              0.3333333333333333,
              "#9c179e"
             ],
             [
              0.4444444444444444,
              "#bd3786"
             ],
             [
              0.5555555555555556,
              "#d8576b"
             ],
             [
              0.6666666666666666,
              "#ed7953"
             ],
             [
              0.7777777777777778,
              "#fb9f3a"
             ],
             [
              0.8888888888888888,
              "#fdca26"
             ],
             [
              1,
              "#f0f921"
             ]
            ],
            "type": "surface"
           }
          ],
          "table": [
           {
            "cells": {
             "fill": {
              "color": "#EBF0F8"
             },
             "line": {
              "color": "white"
             }
            },
            "header": {
             "fill": {
              "color": "#C8D4E3"
             },
             "line": {
              "color": "white"
             }
            },
            "type": "table"
           }
          ]
         },
         "layout": {
          "annotationdefaults": {
           "arrowcolor": "#2a3f5f",
           "arrowhead": 0,
           "arrowwidth": 1
          },
          "autotypenumbers": "strict",
          "coloraxis": {
           "colorbar": {
            "outlinewidth": 0,
            "ticks": ""
           }
          },
          "colorscale": {
           "diverging": [
            [
             0,
             "#8e0152"
            ],
            [
             0.1,
             "#c51b7d"
            ],
            [
             0.2,
             "#de77ae"
            ],
            [
             0.3,
             "#f1b6da"
            ],
            [
             0.4,
             "#fde0ef"
            ],
            [
             0.5,
             "#f7f7f7"
            ],
            [
             0.6,
             "#e6f5d0"
            ],
            [
             0.7,
             "#b8e186"
            ],
            [
             0.8,
             "#7fbc41"
            ],
            [
             0.9,
             "#4d9221"
            ],
            [
             1,
             "#276419"
            ]
           ],
           "sequential": [
            [
             0,
             "#0d0887"
            ],
            [
             0.1111111111111111,
             "#46039f"
            ],
            [
             0.2222222222222222,
             "#7201a8"
            ],
            [
             0.3333333333333333,
             "#9c179e"
            ],
            [
             0.4444444444444444,
             "#bd3786"
            ],
            [
             0.5555555555555556,
             "#d8576b"
            ],
            [
             0.6666666666666666,
             "#ed7953"
            ],
            [
             0.7777777777777778,
             "#fb9f3a"
            ],
            [
             0.8888888888888888,
             "#fdca26"
            ],
            [
             1,
             "#f0f921"
            ]
           ],
           "sequentialminus": [
            [
             0,
             "#0d0887"
            ],
            [
             0.1111111111111111,
             "#46039f"
            ],
            [
             0.2222222222222222,
             "#7201a8"
            ],
            [
             0.3333333333333333,
             "#9c179e"
            ],
            [
             0.4444444444444444,
             "#bd3786"
            ],
            [
             0.5555555555555556,
             "#d8576b"
            ],
            [
             0.6666666666666666,
             "#ed7953"
            ],
            [
             0.7777777777777778,
             "#fb9f3a"
            ],
            [
             0.8888888888888888,
             "#fdca26"
            ],
            [
             1,
             "#f0f921"
            ]
           ]
          },
          "colorway": [
           "#636efa",
           "#EF553B",
           "#00cc96",
           "#ab63fa",
           "#FFA15A",
           "#19d3f3",
           "#FF6692",
           "#B6E880",
           "#FF97FF",
           "#FECB52"
          ],
          "font": {
           "color": "#2a3f5f"
          },
          "geo": {
           "bgcolor": "white",
           "lakecolor": "white",
           "landcolor": "white",
           "showlakes": true,
           "showland": true,
           "subunitcolor": "#C8D4E3"
          },
          "hoverlabel": {
           "align": "left"
          },
          "hovermode": "closest",
          "mapbox": {
           "style": "light"
          },
          "paper_bgcolor": "white",
          "plot_bgcolor": "white",
          "polar": {
           "angularaxis": {
            "gridcolor": "#EBF0F8",
            "linecolor": "#EBF0F8",
            "ticks": ""
           },
           "bgcolor": "white",
           "radialaxis": {
            "gridcolor": "#EBF0F8",
            "linecolor": "#EBF0F8",
            "ticks": ""
           }
          },
          "scene": {
           "xaxis": {
            "backgroundcolor": "white",
            "gridcolor": "#DFE8F3",
            "gridwidth": 2,
            "linecolor": "#EBF0F8",
            "showbackground": true,
            "ticks": "",
            "zerolinecolor": "#EBF0F8"
           },
           "yaxis": {
            "backgroundcolor": "white",
            "gridcolor": "#DFE8F3",
            "gridwidth": 2,
            "linecolor": "#EBF0F8",
            "showbackground": true,
            "ticks": "",
            "zerolinecolor": "#EBF0F8"
           },
           "zaxis": {
            "backgroundcolor": "white",
            "gridcolor": "#DFE8F3",
            "gridwidth": 2,
            "linecolor": "#EBF0F8",
            "showbackground": true,
            "ticks": "",
            "zerolinecolor": "#EBF0F8"
           }
          },
          "shapedefaults": {
           "line": {
            "color": "#2a3f5f"
           }
          },
          "ternary": {
           "aaxis": {
            "gridcolor": "#DFE8F3",
            "linecolor": "#A2B1C6",
            "ticks": ""
           },
           "baxis": {
            "gridcolor": "#DFE8F3",
            "linecolor": "#A2B1C6",
            "ticks": ""
           },
           "bgcolor": "white",
           "caxis": {
            "gridcolor": "#DFE8F3",
            "linecolor": "#A2B1C6",
            "ticks": ""
           }
          },
          "title": {
           "x": 0.05
          },
          "xaxis": {
           "automargin": true,
           "gridcolor": "#EBF0F8",
           "linecolor": "#EBF0F8",
           "ticks": "",
           "title": {
            "standoff": 15
           },
           "zerolinecolor": "#EBF0F8",
           "zerolinewidth": 2
          },
          "yaxis": {
           "automargin": true,
           "gridcolor": "#EBF0F8",
           "linecolor": "#EBF0F8",
           "ticks": "",
           "title": {
            "standoff": 15
           },
           "zerolinecolor": "#EBF0F8",
           "zerolinewidth": 2
          }
         }
        },
        "title": {
         "text": "Actual vs Predicted CPUE (Interactive)"
        },
        "xaxis": {
         "title": {
          "text": "Test Sample Index"
         }
        },
        "yaxis": {
         "title": {
          "text": "CPUE"
         }
        }
       }
      }
     },
     "metadata": {},
     "output_type": "display_data"
    },
    {
     "data": {
      "image/png": "[encoded data removed]",
      "text/plain": [
       "<Figure size 720x360 with 1 Axes>"
      ]
     },
     "metadata": {
      "needs_background": "light"
     },
     "output_type": "display_data"
    },
    {
     "ename": "FileNotFoundError",
     "evalue": "[Errno 2] No such file or directory: 'predicted_data.npz'",
     "output_type": "error",
     "traceback": [
      "\u001b[0;31m---------------------------------------------------------------------------\u001b[0m",
      "\u001b[0;31mFileNotFoundError\u001b[0m                         Traceback (most recent call last)",
      "Input \u001b[0;32mIn [31]\u001b[0m, in \u001b[0;36m<cell line: 229>\u001b[0;34m()\u001b[0m\n\u001b[1;32m    217\u001b[0m color_dict \u001b[38;5;241m=\u001b[39m {\n\u001b[1;32m    218\u001b[0m     \u001b[38;5;124m\"\u001b[39m\u001b[38;5;124mActual\u001b[39m\u001b[38;5;124m\"\u001b[39m: \u001b[38;5;124m\"\u001b[39m\u001b[38;5;124m#1f77b4\u001b[39m\u001b[38;5;124m\"\u001b[39m,\n\u001b[1;32m    219\u001b[0m     \u001b[38;5;124m\"\u001b[39m\u001b[38;5;124mPredicted (LinearGAM_log_CPUE_plus_c)\u001b[39m\u001b[38;5;124m\"\u001b[39m: \u001b[38;5;124m\"\u001b[39m\u001b[38;5;124m#ff7f0e\u001b[39m\u001b[38;5;124m\"\u001b[39m,\n\u001b[0;32m   (...)\u001b[0m\n\u001b[1;32m    222\u001b[0m     \u001b[38;5;124m\"\u001b[39m\u001b[38;5;124mPredicted (TweedieGLM_CPUE)\u001b[39m\u001b[38;5;124m\"\u001b[39m: \u001b[38;5;124m\"\u001b[39m\u001b[38;5;124m#9467bd\u001b[39m\u001b[38;5;124m\"\u001b[39m,\n\u001b[1;32m    223\u001b[0m }\n\u001b[1;32m    225\u001b[0m np\u001b[38;5;241m.\u001b[39msavez(\u001b[38;5;124m\"\u001b[39m\u001b[38;5;124m../results/summaries/prediction_data.npz\u001b[39m\u001b[38;5;124m\"\u001b[39m,\n\u001b[1;32m    226\u001b[0m          pred_dict\u001b[38;5;241m=\u001b[39mprediction_data,\n\u001b[1;32m    227\u001b[0m          color_dict\u001b[38;5;241m=\u001b[39mcolor_dict)\n\u001b[0;32m--> 229\u001b[0m data \u001b[38;5;241m=\u001b[39m \u001b[43mnp\u001b[49m\u001b[38;5;241;43m.\u001b[39;49m\u001b[43mload\u001b[49m\u001b[43m(\u001b[49m\u001b[38;5;124;43m\"\u001b[39;49m\u001b[38;5;124;43mpredicted_data.npz\u001b[39;49m\u001b[38;5;124;43m\"\u001b[39;49m\u001b[43m,\u001b[49m\u001b[43m \u001b[49m\u001b[43mallow_pickle\u001b[49m\u001b[38;5;241;43m=\u001b[39;49m\u001b[38;5;28;43;01mTrue\u001b[39;49;00m\u001b[43m)\u001b[49m\n\u001b[1;32m    230\u001b[0m \u001b[38;5;28mprint\u001b[39m(data\u001b[38;5;241m.\u001b[39mfiles)  \u001b[38;5;66;03m# Should contain 'residual_dict'\u001b[39;00m\n\u001b[1;32m    231\u001b[0m \u001b[38;5;28mprint\u001b[39m(\u001b[38;5;28mtype\u001b[39m(data[\u001b[38;5;124m\"\u001b[39m\u001b[38;5;124mpred_dict\u001b[39m\u001b[38;5;124m\"\u001b[39m]))\n",
      "File \u001b[0;32m~/opt/anaconda3/lib/python3.9/site-packages/numpy/lib/npyio.py:427\u001b[0m, in \u001b[0;36mload\u001b[0;34m(file, mmap_mode, allow_pickle, fix_imports, encoding, max_header_size)\u001b[0m\n\u001b[1;32m    425\u001b[0m     own_fid \u001b[38;5;241m=\u001b[39m \u001b[38;5;28;01mFalse\u001b[39;00m\n\u001b[1;32m    426\u001b[0m \u001b[38;5;28;01melse\u001b[39;00m:\n\u001b[0;32m--> 427\u001b[0m     fid \u001b[38;5;241m=\u001b[39m stack\u001b[38;5;241m.\u001b[39menter_context(\u001b[38;5;28;43mopen\u001b[39;49m\u001b[43m(\u001b[49m\u001b[43mos_fspath\u001b[49m\u001b[43m(\u001b[49m\u001b[43mfile\u001b[49m\u001b[43m)\u001b[49m\u001b[43m,\u001b[49m\u001b[43m \u001b[49m\u001b[38;5;124;43m\"\u001b[39;49m\u001b[38;5;124;43mrb\u001b[39;49m\u001b[38;5;124;43m\"\u001b[39;49m\u001b[43m)\u001b[49m)\n\u001b[1;32m    428\u001b[0m     own_fid \u001b[38;5;241m=\u001b[39m \u001b[38;5;28;01mTrue\u001b[39;00m\n\u001b[1;32m    430\u001b[0m \u001b[38;5;66;03m# Code to distinguish from NumPy binary files and pickles.\u001b[39;00m\n",
      "\u001b[0;31mFileNotFoundError\u001b[0m: [Errno 2] No such file or directory: 'predicted_data.npz'"
     ]
    }
   ],
   "source": [
    "# 6. Visualization\n",
    "\n",
    "# Define consistent colors for each series\n",
    "colors = {\n",
    "    \"Observed\": \"#1f77b4\",                    # blue\n",
    "    \"Standardized_log_cpueC\": \"#ff7f0e\",      # orange\n",
    "    \"Standardized_log_cpue1\": \"#2ca02c\",      # green\n",
    "    \"Standardized_CPUE_GammaGAM\": \"#d62728\",  # red\n",
    "    \"Standardized_CPUE_tweedieglm\": \"#9467bd\" # purple\n",
    "}\n",
    "\n",
    "# Yearly Standardized vs Observed\n",
    "yearly = full_df.groupby(\"Year\")[\"Monthly_CPUE\"].mean().reset_index(name=\"Observed\")\n",
    "\n",
    "yearly_log_cpueC = full_df.copy()\n",
    "#yearly_log_cpueC[\"Standardized_log_cpueC\"] = standardized_log_cpueC\n",
    "yearly_log_cpueC = yearly_log_cpueC.groupby(\"Year\")[\"Standardized_log_cpueC\"].mean().reset_index()\n",
    "\n",
    "yearly_log_cpue1 = full_df.copy()\n",
    "#yearly_log_cpue1[\"Standardized_log_cpue1\"] = standardized_log_cpue1\n",
    "yearly_log_cpue1 = yearly_log_cpue1.groupby(\"Year\")[\"Standardized_log_cpue1\"].mean().reset_index()\n",
    "\n",
    "yearly_cpue_gamma_c = full_df.copy()\n",
    "#yearly_cpue_gamma_c[\"GammaGAM_Standardized\"] = standardized_cpue_gamma_c\n",
    "yearly_cpue_gamma_c = yearly_cpue_gamma_c.groupby(\"Year\")[\"Standardized_CPUE_GammaGAM\"].mean().reset_index()\n",
    "\n",
    "yearly_cpue_gamma_1 = full_df.copy()\n",
    "#yearly_cpue_gamma_1[\"GammaGAM_Standardized\"] = standardized_cpue_gamma_1\n",
    "yearly_cpue_gamma_1 = yearly_cpue_gamma_1.groupby(\"Year\")[\"Standardized_CPUE_tweedieglm\"].mean().reset_index()\n",
    "\n",
    "merged = yearly.merge(yearly_log_cpueC, on=\"Year\").merge(yearly_log_cpue1, on=\"Year\").merge(yearly_cpue_gamma_c, on=\"Year\").merge(yearly_cpue_gamma_1, on=\"Year\")\n",
    "\n",
    "# Save observed + standardized CPUE data by year to CSV\n",
    "merged.to_csv(\"../results/summaries/observed_vs_standardized.csv\", index=False)\n",
    "\n",
    "# Interactive observed vs standardized plot\n",
    "fig = go.Figure()\n",
    "\n",
    "# Add each trace manually using the defined colors\n",
    "for name in colors:\n",
    "    fig.add_trace(\n",
    "        go.Scatter(\n",
    "            x=merged[\"Year\"],\n",
    "            y=merged[name],\n",
    "            mode=\"lines+markers\",\n",
    "            name=name,\n",
    "            line=dict(color=colors[name])\n",
    "        )\n",
    "    )\n",
    "\n",
    "# Layout\n",
    "fig.update_layout(\n",
    "    title=\"Observed vs Standardized CPUE per Year\",\n",
    "    xaxis=dict(title=\"Year\", tickformat=\".0f\"),\n",
    "    yaxis_title=\"CPUE\",\n",
    "    legend_title=\"Series\",\n",
    "    hovermode=\"x unified\",\n",
    "    width=1000,\n",
    "    height=900\n",
    ")\n",
    "\n",
    "fig.show()\n",
    "\n",
    "\n",
    "# Static observed vs standardized plot\n",
    "plt.figure(figsize=(12, 6))\n",
    "plt.plot(merged[\"Year\"], merged[\"Observed\"], label=\"Observed\", marker=\"o\", color=colors[\"Observed\"])\n",
    "plt.plot(merged[\"Year\"], merged[\"Standardized_log_cpueC\"], label=\"Standardized_log_CPUE_C\", marker=\"s\", color=colors[\"Standardized_log_cpueC\"])\n",
    "plt.plot(merged[\"Year\"], merged[\"Standardized_log_cpue1\"], label=\"Standardized_log_CPUE_1\", marker=\"^\", color=colors[\"Standardized_log_cpue1\"])\n",
    "plt.plot(merged[\"Year\"], merged[\"Standardized_CPUE_GammaGAM\"], label=\"Standardized_CPUE_GammaGAM\", marker=\"x\", color=colors[\"Standardized_CPUE_GammaGAM\"])\n",
    "plt.plot(merged[\"Year\"], merged[\"Standardized_CPUE_tweedieglm\"], label=\"Standardized_CPUE_tweedieglm\", marker=\"+\", color=colors[\"Standardized_CPUE_tweedieglm\"])\n",
    "plt.title(\"Observed vs Standardized CPUE per Year\")\n",
    "plt.ylabel(\"CPUE\")\n",
    "plt.xlabel(\"Year\")\n",
    "plt.legend()\n",
    "plt.grid(True)\n",
    "plt.gca().xaxis.set_major_locator(MaxNLocator(integer=True))\n",
    "plt.tight_layout()\n",
    "plt.show()\n",
    "\n",
    "\n",
    "\n",
    "\n",
    "# B. Residual Plots\n",
    "residuals_linear_GAM_log_CPUE_plus_c = y_test_linear - linear_gam_c_preds_all\n",
    "residuals_linear_GAM_log_CPUE_plus_1 = y_test_linear - linear_gam_1_preds_all\n",
    "residuals_Gamma_GAM = y_test_gamma - gamma_gam_preds\n",
    "residuals_Tweedie_GLM = y_test_tweedie - tweedie_glm_pred\n",
    "\n",
    "\n",
    "plt.figure(figsize=(18, 5))\n",
    "\n",
    "plt.subplot(1, 4, 1)\n",
    "plt.scatter(linear_gam_c_preds_all, residuals_linear_GAM_log_CPUE_plus_c)\n",
    "plt.axhline(0, color='red', linestyle='--')\n",
    "plt.title(\"Residuals: LinearGAM_Log_CPUE_plus_c\")\n",
    "plt.xlabel(\"Predicted\")\n",
    "plt.ylabel(\"Residuals\")\n",
    "\n",
    "plt.subplot(1, 4, 2)\n",
    "plt.scatter(linear_gam_1_preds_all, residuals_linear_GAM_log_CPUE_plus_1)\n",
    "plt.axhline(0, color='red', linestyle='--')\n",
    "plt.title(\"Residuals: LinearGAM_Log_CPUE_plus_1\")\n",
    "plt.xlabel(\"Predicted\")\n",
    "plt.ylabel(\"Residuals\")\n",
    "\n",
    "plt.subplot(1, 4, 3)\n",
    "plt.scatter(gamma_gam_preds, residuals_Gamma_GAM)\n",
    "plt.axhline(0, color='red', linestyle='--')\n",
    "plt.title(\"Residuals: GammaGAM\")\n",
    "plt.xlabel(\"Predicted\")\n",
    "plt.ylabel(\"Residuals\")\n",
    "\n",
    "plt.subplot(1, 4, 4)\n",
    "plt.scatter(tweedie_glm_pred, residuals_Tweedie_GLM)\n",
    "plt.axhline(0, color='red', linestyle='--')\n",
    "plt.title(\"Residuals: TweedieGLM\")\n",
    "plt.xlabel(\"Predicted\")\n",
    "plt.ylabel(\"Residuals\")\n",
    "\n",
    "plt.tight_layout()\n",
    "plt.show()\n",
    "\n",
    "\n",
    "\n",
    "\n",
    "# Save residuals in one dictionary\n",
    "residuals_data = {\n",
    "    \"LinearGAM_Log_CPUE_plus_c\": (linear_gam_c_preds_all, y_test_linear - linear_gam_c_preds_all),\n",
    "    \"LinearGAM_Log_CPUE_plus_1\": (linear_gam_1_preds_all, y_test_linear - linear_gam_1_preds_all),\n",
    "    \"GammaGAM\": (gamma_gam_preds, y_test_gamma - gamma_gam_preds),\n",
    "    \"TweedieGLM\": (tweedie_glm_pred, y_test_tweedie - tweedie_glm_pred)\n",
    "}\n",
    "\n",
    "np.savez(\"../results/summaries/residuals_data.npz\", residual_dict=residuals_data)\n",
    "\n",
    "\n",
    "data = np.load(\"../results/summaries/residuals_data.npz\", allow_pickle=True)\n",
    "\n",
    "\n",
    "\n",
    "# Consistent colors for each series\n",
    "colors = {\n",
    "    \"Actual\": \"#1f77b4\",                                      # blue\n",
    "    \"Predicted (LinearGAM_log_CPUE_plus_c)\": \"#ff7f0e\",       # orange\n",
    "    \"Predicted (LinearGAM_log_CPUE_plus_1)\": \"#2ca02c\",       # green\n",
    "    \"Predicted (GammaGAM_CPUE)\": \"#d62728\",                   # red\n",
    "    \"Predicted (TweedieGLM_CPUE)\": \"#9467bd\"                  # purple\n",
    "}\n",
    "\n",
    "\n",
    "# x-axis index for all predictions\n",
    "x = list(range(len(y_test)))\n",
    "x_linear = list(range(len(y_test_linear)))  # linear_gam\n",
    "x_gamma = list(range(len(y_test_gamma))) # gamma\n",
    "x_tweedie = list(range(len(y_test_tweedie)))  # tweedie\n",
    "\n",
    "# Create interactive figure\n",
    "fig = go.Figure()\n",
    "\n",
    "fig.add_trace(go.Scatter(x=x, y=y_test.values, mode='lines+markers', name='Actual',\n",
    "                         marker=dict(symbol='circle'), line=dict(color=colors[\"Actual\"])))\n",
    "fig.add_trace(go.Scatter(x=x_linear, y=linear_gam_c_preds_all, mode='lines+markers',\n",
    "                         name='Predicted (LinearGAM_log_CPUE_plus_c)',\n",
    "                         marker=dict(symbol='square'), line=dict(color=colors[\"Predicted (LinearGAM_log_CPUE_plus_c)\"])))\n",
    "fig.add_trace(go.Scatter(x=x_linear, y=linear_gam_1_preds_all, mode='lines+markers',\n",
    "                         name='Predicted (LinearGAM_log_CPUE_plus_1)',\n",
    "                         marker=dict(symbol='triangle-up'), line=dict(color=colors[\"Predicted (LinearGAM_log_CPUE_plus_1)\"])))\n",
    "fig.add_trace(go.Scatter(x=x_gamma, y=gamma_gam_preds, mode='lines+markers',\n",
    "                         name='Predicted (GammaGAM_CPUE)',\n",
    "                         marker=dict(symbol='x'), line=dict(color=colors[\"Predicted (GammaGAM_CPUE)\"])))\n",
    "fig.add_trace(go.Scatter(x=x_tweedie, y=tweedie_glm_pred, mode='lines+markers',\n",
    "                         name='Predicted (TweedieGLM_CPUE)',\n",
    "                         marker=dict(symbol='cross'), line=dict(color=colors[\"Predicted (TweedieGLM_CPUE)\"])))\n",
    "\n",
    "fig.update_layout(\n",
    "    title='Actual vs Predicted CPUE (Interactive)',\n",
    "    xaxis_title='Test Sample Index',\n",
    "    yaxis_title='CPUE',\n",
    "    hovermode='x unified',\n",
    "    legend_title='Legend',\n",
    "    template='plotly_white'\n",
    ")\n",
    "fig.show()\n",
    "\n",
    "\n",
    "\n",
    "# C. Actual vs Predicted Plot static plot\n",
    "x = range(len(y_test))  # common for all\n",
    "x_linear = range(len(y_test_linear))  # linear_gam\n",
    "x_gamma = range(len(y_test_gamma))  # gamma\n",
    "x_tweedie = range(len(y_test_tweedie))  # tweedie\n",
    "plt.figure(figsize=(10, 5))\n",
    "plt.plot(x, y_test.values, label=\"Actual\", marker=\"o\", color=colors[\"Actual\"])\n",
    "plt.plot(x_linear, linear_gam_c_preds_all, label=\"Predicted (LinearGAM_log_CPUE_plus_c)\", marker=\"s\", color=colors[\"Predicted (LinearGAM_log_CPUE_plus_c)\"])\n",
    "plt.plot(x_linear, linear_gam_1_preds_all, label=\"Predicted (LinearGAM_log_CPUE_plus_1)\", marker=\"^\", color=colors[\"Predicted (LinearGAM_log_CPUE_plus_1)\"])\n",
    "plt.plot(x_gamma, gamma_gam_preds, label=\"Predicted (GammaGAM_CPUE)\", marker=\"x\", color=colors[\"Predicted (GammaGAM_CPUE)\"])\n",
    "plt.plot(x_tweedie, tweedie_glm_pred, label=\"Predicted (TweedieGLM_CPUE)\", marker=\"+\", color=colors[\"Predicted (TweedieGLM_CPUE)\"])\n",
    "plt.title(\"Actual vs Predicted CPUE\")\n",
    "plt.ylabel(\"CPUE\")\n",
    "plt.xlabel(\"Test Sample\")\n",
    "plt.legend()\n",
    "plt.grid(True)\n",
    "plt.tight_layout()\n",
    "plt.show()\n",
    "\n",
    "prediction_data = {\n",
    "    \"Actual\": (x, y_test.values),\n",
    "    \"Predicted (LinearGAM_log_CPUE_plus_c)\": (x_linear, linear_gam_c_preds_all),\n",
    "    \"Predicted (LinearGAM_log_CPUE_plus_1)\": (x_linear, linear_gam_1_preds_all),\n",
    "    \"Predicted (GammaGAM_CPUE)\": (x_gamma, gamma_gam_preds),\n",
    "    \"Predicted (TweedieGLM_CPUE)\": (x_tweedie, tweedie_glm_pred),\n",
    "}\n",
    "\n",
    "color_dict = {\n",
    "    \"Actual\": \"#1f77b4\",\n",
    "    \"Predicted (LinearGAM_log_CPUE_plus_c)\": \"#ff7f0e\",\n",
    "    \"Predicted (LinearGAM_log_CPUE_plus_1)\": \"#2ca02c\",\n",
    "    \"Predicted (GammaGAM_CPUE)\": \"#d62728\",\n",
    "    \"Predicted (TweedieGLM_CPUE)\": \"#9467bd\",\n",
    "}\n",
    "\n",
    "np.savez(\"../results/summaries/prediction_data.npz\",\n",
    "         pred_dict=prediction_data,\n",
    "         color_dict=color_dict)\n",
    " \n",
    "data = np.load(\"predicted_data.npz\", allow_pickle=True)\n",
    "print(data.files)  # Should contain 'residual_dict'\n",
    "print(type(data[\"pred_dict\"]))  # Should be np.ndarray with dtype=object"
   ]
  },
  {
   "cell_type": "code",
   "execution_count": null,
   "id": "3baac1e2",
   "metadata": {},
   "outputs": [],
   "source": [
    "# 7. Summary\n",
    "# =====================\n",
    "# This notebook performs CPUE standardization using two robust models:\n",
    "# - GLBM-like model using log(CPUE + c)\n",
    "# - Generalized Additive Model (GAM) using log(CPUE + 1)\n",
    "# Both models capture nonlinear relationships with environmental/spatiotemporal features.\n",
    "# Evaluation includes RMSE/MAE, standardized CPUE comparison by year, and residual analysis.\n",
    "# Very skewed distribution — a few huge values are dragging the mean way up. This is a classic case for log-transforming the target — which you're doing correctly in some models like GAM(log(CPUE + c)).\n",
    "\n",
    "\n",
    "#CPUE Standardization & Forecasting Using GAMs and Tweedie GLMs \n",
    "\n",
    "\n",
    "# 1. Introduction\n",
    "# Brief overview of the problem (e.g. \"We aim to model Monthly CPUE...\")\n",
    "# Why it matters (fishery monitoring, resource sustainability, etc.)\n",
    "# The challenge (skewed data, outliers, variance increases with mean...)\n",
    "\n",
    "\n",
    "# ✍️ Suggested Section: \"Study Design\"\n",
    "# In this study, we evaluated four modeling strategies to standardize and predict CPUE (Catch Per Unit Effort) across time.\n",
    "# We trained all models on monthly CPUE data from 2000 to 2014, using only the first 6 months of each year for training. This approach mimics a realistic scenario where early-year data is used to forecast the remainder of the year.\n",
    "# We then tested model performance on five unseen test years (2015–2019) to evaluate out-of-sample generalization.\n",
    "# The following models were evaluated:\n",
    "# LinearGAM_log_CPUE_plus_c\n",
    "# LinearGAM_log_CPUE_plus_1\n",
    "# GammaGAM_CPUE\n",
    "# TweedieGLM_CPUE (our final choice)\n",
    "\n",
    "\n",
    "# “The Tweedie GLM required careful tuning. I experimented with spline complexity (df) and found that over-smoothing led to poor generalization, while under-smoothing caused instability. The residual plots revealed stacking behavior, which I addressed by tuning the degrees of freedom, scaling inputs, and exploring alternative link functions. Ultimately, GAMs gave better flexibility, but I appreciated Tweedie’s full GLM output and interpretability.”\n",
    "#If your model’s predictions are always around the same number, it's like it only knows how to say “the answer is 5000” no matter what. Then your errors (residuals) will be all different numbers — but they’re all stacked over 5000 on the x-axis. That’s why your graph looks like a line of dots going up and down — it's just one guess and many mistakes stacked on it.\n",
    "# \"After testing several GAM and GLM approaches, I selected a TweedieGLM with a log link and var_power=2. This model best captured the skewed distribution of the response variable and minimized residual variance. The residual plots confirmed improved performance with no major outliers or heteroskedasticity. The model generalizes well and is robust to extreme values, making it a reliable choice for CPUE prediction.\"\n",
    "# 🧠 3. Insights & Interpretation\n",
    "\n",
    "# Here’s what you can confidently say in your portfolio:\n",
    "\n",
    "# ✨ Model Summary\n",
    "# We modeled Monthly CPUE using a Tweedie Generalized Linear Model with a log link and var_power=2 (Gamma distribution), which handles skewed, positive response data effectively. Using 4 degrees of freedom for each smooth term struck a balance between flexibility and overfitting.\n",
    "# 📊 Why TweedieGLM Was Chosen\n",
    "# CPUE is positive and skewed, with a long right tail and potential outliers.\n",
    "# Residual analysis showed that:\n",
    "# Log-GAMs struggled with heteroskedasticity (error variance grows with prediction).\n",
    "# GammaGAM had similar issues.\n",
    "# TweedieGLM captured the variance structure best.\n",
    "# 🔬 Residual Plot Interpretation\n",
    "# Residuals centered around 0 = good fit.\n",
    "# Slight spread at higher predicted CPUE values = expected behavior due to data skewness.\n",
    "# No major outliers = model is robust."
   ]
  }
 ],
 "metadata": {
  "kernelspec": {
   "display_name": "Python 3",
   "language": "python",
   "name": "python3"
  },
  "language_info": {
   "codemirror_mode": {
    "name": "ipython",
    "version": 3
   },
   "file_extension": ".py",
   "mimetype": "text/x-python",
   "name": "python",
   "nbconvert_exporter": "python",
   "pygments_lexer": "ipython3",
   "version": "3.9.12"
  }
 },
 "nbformat": 4,
 "nbformat_minor": 5
}

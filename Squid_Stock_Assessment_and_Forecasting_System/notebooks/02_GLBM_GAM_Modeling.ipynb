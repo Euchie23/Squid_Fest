{
 "cells": [
  {
   "cell_type": "code",
   "execution_count": null,
   "id": "d2fcf049",
   "metadata": {},
   "outputs": [],
   "source": [
    "# Libraries\n",
    "import pandas as pd\n",
    "import numpy as np\n",
    "from sklearn.model_selection import train_test_split\n",
    "from pygam import LinearGAM, s\n",
    "import statsmodels.api as sm\n",
    "import matplotlib.pyplot as plt"
   ]
  },
  {
   "cell_type": "code",
   "execution_count": null,
   "id": "8843f69b",
   "metadata": {},
   "outputs": [],
   "source": [
    "# Load dataset\n",
    "df = pd.read_csv(\"../data/squid_cpue_enriched.csv\")"
   ]
  },
  {
   "cell_type": "code",
   "execution_count": null,
   "id": "342f6377",
   "metadata": {},
   "outputs": [],
   "source": [
    "# Drop rows with missing values (if any)\n",
    "df = df.dropna(subset=[\"SqCatch_Kg\", \"Depth\", \"Lat\", \"Lon\", \"WaterTemp\"])"
   ]
  },
  {
   "cell_type": "code",
   "execution_count": null,
   "id": "2d7d670d",
   "metadata": {},
   "outputs": [],
   "source": [
    "# Calculate CPUE\n",
    "df[\"CPUE\"] = df[\"SqCatch_Kg\"] / df[\"Depth\"]\n",
    "y = np.log(df[\"CPUE\"] + 1)"
   ]
  },
  {
   "cell_type": "code",
   "execution_count": null,
   "id": "9bcfce0b",
   "metadata": {},
   "outputs": [],
   "source": [
    "# Features we'll use\n",
    "features = [\"Year1\", \"Month\", \"Lat\", \"Lon\", \"WaterTemp\"]\n",
    "X = df[features]"
   ]
  },
  {
   "cell_type": "code",
   "execution_count": null,
   "id": "ce352188",
   "metadata": {},
   "outputs": [],
   "source": [
    "# Split data\n",
    "X_train, X_test, y_train, y_test = train_test_split(X, y, test_size=0.2, random_state=42)\n"
   ]
  },
  {
   "cell_type": "code",
   "execution_count": null,
   "id": "9e1c4f9e",
   "metadata": {},
   "outputs": [],
   "source": [
    "# GLBM (via OLS)\n",
    "X_glm = sm.add_constant(X_train)\n",
    "model_glm = sm.OLS(y_train, X_glm).fit()\n",
    "print(model_glm.summary())"
   ]
  },
  {
   "cell_type": "code",
   "execution_count": null,
   "id": "e7d5b4a5",
   "metadata": {},
   "outputs": [],
   "source": [
    "# GAM Model\n",
    "gam = LinearGAM(s(0) + s(1) + s(2) + s(3) + s(4)).fit(X_train, y_train)\n",
    "print(\"GAM R²:\", gam.statistics_[\"pseudo_r2\"])"
   ]
  },
  {
   "cell_type": "code",
   "execution_count": null,
   "id": "54d0dc81",
   "metadata": {},
   "outputs": [],
   "source": [
    "# Plot effect of Latitude\n",
    "XX = gam.generate_X_grid(term=2)\n",
    "plt.plot(XX[:, 2], gam.partial_dependence(term=2, X=XX))\n",
    "plt.title(\"Effect of Latitude on log(CPUE + 1)\")\n",
    "plt.xlabel(\"Latitude\")\n",
    "plt.ylabel(\"Effect\")\n",
    "plt.tight_layout()\n",
    "plt.show()"
   ]
  },
  {
   "cell_type": "code",
   "execution_count": null,
   "id": "fb9ecd76",
   "metadata": {},
   "outputs": [],
   "source": [
    "# Predict vs Actual\n",
    "preds = gam.predict(X_test)\n",
    "plt.scatter(y_test, preds, alpha=0.5)\n",
    "plt.xlabel(\"Actual log(CPUE + 1)\")\n",
    "plt.ylabel(\"Predicted\")\n",
    "plt.title(\"GAM Model Performance\")\n",
    "plt.tight_layout()\n",
    "plt.show()"
   ]
  },
  {
   "cell_type": "code",
   "execution_count": null,
   "id": "d2503581",
   "metadata": {},
   "outputs": [],
   "source": [
    "ds = xr.open_dataset(file_path, engine=\"netcdf4\")"
   ]
  }
 ],
 "metadata": {
  "language_info": {
   "name": "python"
  }
 },
 "nbformat": 4,
 "nbformat_minor": 5
}
